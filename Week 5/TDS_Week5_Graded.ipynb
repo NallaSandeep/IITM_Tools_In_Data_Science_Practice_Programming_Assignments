{
  "nbformat": 4,
  "nbformat_minor": 0,
  "metadata": {
    "colab": {
      "provenance": []
    },
    "kernelspec": {
      "name": "python3",
      "display_name": "Python 3"
    },
    "language_info": {
      "name": "python"
    }
  },
  "cells": [
    {
      "cell_type": "code",
      "execution_count": null,
      "metadata": {
        "id": "4vJzYseuj7E_"
      },
      "outputs": [],
      "source": [
        "from google.colab import userdata\n",
        "token = userdata.get('AIPROXY_TOKEN')"
      ]
    },
    {
      "cell_type": "code",
      "source": [
        "import requests\n",
        "\n",
        "url = \"https://aiproxy.sanand.workers.dev/openai/v1/models\"\n",
        "headers = {\n",
        "    \"Content-Type\": \"application/json\",\n",
        "    \"Authorization\": f\"Bearer {token}\"\n",
        "}\n",
        "\n",
        "response = requests.get(url, headers=headers)\n",
        "print(response.json())\n"
      ],
      "metadata": {
        "colab": {
          "base_uri": "https://localhost:8080/"
        },
        "id": "-dllygh7lqF6",
        "outputId": "a1b331ed-a629-48f7-8da3-b244237b643e"
      },
      "execution_count": null,
      "outputs": [
        {
          "output_type": "stream",
          "name": "stdout",
          "text": [
            "{'object': 'list', 'data': [{'id': 'gpt-3.5-turbo-0613', 'object': 'model', 'created': 1686587434, 'owned_by': 'openai'}, {'id': 'whisper-1', 'object': 'model', 'created': 1677532384, 'owned_by': 'openai-internal'}, {'id': 'gpt-4o', 'object': 'model', 'created': 1715367049, 'owned_by': 'system'}, {'id': 'dall-e-2', 'object': 'model', 'created': 1698798177, 'owned_by': 'system'}, {'id': 'gpt-3.5-turbo-16k', 'object': 'model', 'created': 1683758102, 'owned_by': 'openai-internal'}, {'id': 'tts-1-hd-1106', 'object': 'model', 'created': 1699053533, 'owned_by': 'system'}, {'id': 'gpt-4o-2024-05-13', 'object': 'model', 'created': 1715368132, 'owned_by': 'system'}, {'id': 'tts-1-hd', 'object': 'model', 'created': 1699046015, 'owned_by': 'system'}, {'id': 'gpt-4-turbo-2024-04-09', 'object': 'model', 'created': 1712601677, 'owned_by': 'system'}, {'id': 'gpt-4-0125-preview', 'object': 'model', 'created': 1706037612, 'owned_by': 'system'}, {'id': 'gpt-4-turbo-preview', 'object': 'model', 'created': 1706037777, 'owned_by': 'system'}, {'id': 'gpt-4-turbo', 'object': 'model', 'created': 1712361441, 'owned_by': 'system'}, {'id': 'gpt-3.5-turbo-instruct-0914', 'object': 'model', 'created': 1694122472, 'owned_by': 'system'}, {'id': 'gpt-3.5-turbo', 'object': 'model', 'created': 1677610602, 'owned_by': 'openai'}, {'id': 'gpt-3.5-turbo-instruct', 'object': 'model', 'created': 1692901427, 'owned_by': 'system'}, {'id': 'text-embedding-3-small', 'object': 'model', 'created': 1705948997, 'owned_by': 'system'}, {'id': 'tts-1', 'object': 'model', 'created': 1681940951, 'owned_by': 'openai-internal'}, {'id': 'text-embedding-3-large', 'object': 'model', 'created': 1705953180, 'owned_by': 'system'}, {'id': 'gpt-4-1106-preview', 'object': 'model', 'created': 1698957206, 'owned_by': 'system'}, {'id': 'babbage-002', 'object': 'model', 'created': 1692634615, 'owned_by': 'system'}, {'id': 'gpt-3.5-turbo-0125', 'object': 'model', 'created': 1706048358, 'owned_by': 'system'}, {'id': 'gpt-4-0613', 'object': 'model', 'created': 1686588896, 'owned_by': 'openai'}, {'id': 'tts-1-1106', 'object': 'model', 'created': 1699053241, 'owned_by': 'system'}, {'id': 'gpt-4', 'object': 'model', 'created': 1687882411, 'owned_by': 'openai'}, {'id': 'gpt-4-0314', 'object': 'model', 'created': 1687882410, 'owned_by': 'openai'}, {'id': 'dall-e-3', 'object': 'model', 'created': 1698785189, 'owned_by': 'system'}, {'id': 'text-embedding-ada-002', 'object': 'model', 'created': 1671217299, 'owned_by': 'openai-internal'}, {'id': 'gpt-4-32k-0314', 'object': 'model', 'created': 1687979321, 'owned_by': 'openai'}, {'id': 'davinci-002', 'object': 'model', 'created': 1692634301, 'owned_by': 'system'}, {'id': 'gpt-4-vision-preview', 'object': 'model', 'created': 1698894917, 'owned_by': 'system'}, {'id': 'gpt-4-1106-vision-preview', 'object': 'model', 'created': 1711473033, 'owned_by': 'system'}, {'id': 'gpt-3.5-turbo-1106', 'object': 'model', 'created': 1698959748, 'owned_by': 'system'}, {'id': 'gpt-3.5-turbo-16k-0613', 'object': 'model', 'created': 1685474247, 'owned_by': 'openai'}, {'id': 'gpt-3.5-turbo-0301', 'object': 'model', 'created': 1677649963, 'owned_by': 'openai'}]}\n"
          ]
        }
      ]
    },
    {
      "cell_type": "code",
      "source": [
        "data = response.json().get('data')"
      ],
      "metadata": {
        "id": "o9UEMoFBmlLQ"
      },
      "execution_count": null,
      "outputs": []
    },
    {
      "cell_type": "code",
      "source": [
        "type(data)"
      ],
      "metadata": {
        "colab": {
          "base_uri": "https://localhost:8080/"
        },
        "id": "mU4RVv84nR6d",
        "outputId": "6ac501f0-d773-4ae5-8a7c-289452f00de2"
      },
      "execution_count": null,
      "outputs": [
        {
          "output_type": "execute_result",
          "data": {
            "text/plain": [
              "list"
            ]
          },
          "metadata": {},
          "execution_count": 7
        }
      ]
    },
    {
      "cell_type": "code",
      "source": [
        "# Filter models created before 15 May 2024\n",
        "cutoff_date = 1715731200  # Unix timestamp for 15 May 2024\n",
        "filtered_models = [model for model in data if model['created'] < cutoff_date]\n",
        "\n",
        "# Sort models by creation date, most recent first\n",
        "sorted_models = sorted(filtered_models, key=lambda x: x['created'], reverse=True)"
      ],
      "metadata": {
        "id": "oQpq1eh0nhuj"
      },
      "execution_count": null,
      "outputs": []
    },
    {
      "cell_type": "code",
      "source": [
        "import datetime\n",
        "for i, model in enumerate(sorted_models):\n",
        "  # Convert Unix epoch timestamp to datetime object\n",
        "  date_time = datetime.datetime.fromtimestamp(model['created'])\n",
        "\n",
        "  # Format datetime object to a human-readable date format\n",
        "  formatted_date = date_time.strftime('%Y-%m-%d %H:%M:%S')\n",
        "  print(i, model['id'], formatted_date)"
      ],
      "metadata": {
        "colab": {
          "base_uri": "https://localhost:8080/"
        },
        "id": "Yhe2BwbhoYnV",
        "outputId": "c74c584d-2764-4eda-b29e-704619dc863f"
      },
      "execution_count": null,
      "outputs": [
        {
          "output_type": "stream",
          "name": "stdout",
          "text": [
            "0 gpt-4o-2024-05-13 2024-05-10 19:08:52\n",
            "1 gpt-4o 2024-05-10 18:50:49\n",
            "2 gpt-4-turbo-2024-04-09 2024-04-08 18:41:17\n",
            "3 gpt-4-turbo 2024-04-05 23:57:21\n",
            "4 gpt-4-1106-vision-preview 2024-03-26 17:10:33\n",
            "5 gpt-3.5-turbo-0125 2024-01-23 22:19:18\n",
            "6 gpt-4-turbo-preview 2024-01-23 19:22:57\n",
            "7 gpt-4-0125-preview 2024-01-23 19:20:12\n",
            "8 text-embedding-3-large 2024-01-22 19:53:00\n",
            "9 text-embedding-3-small 2024-01-22 18:43:17\n",
            "10 tts-1-hd-1106 2023-11-03 23:18:53\n",
            "11 tts-1-1106 2023-11-03 23:14:01\n",
            "12 tts-1-hd 2023-11-03 21:13:35\n",
            "13 gpt-3.5-turbo-1106 2023-11-02 21:15:48\n",
            "14 gpt-4-1106-preview 2023-11-02 20:33:26\n",
            "15 gpt-4-vision-preview 2023-11-02 03:15:17\n",
            "16 dall-e-2 2023-11-01 00:22:57\n",
            "17 dall-e-3 2023-10-31 20:46:29\n",
            "18 gpt-3.5-turbo-instruct-0914 2023-09-07 21:34:32\n",
            "19 gpt-3.5-turbo-instruct 2023-08-24 18:23:47\n",
            "20 babbage-002 2023-08-21 16:16:55\n",
            "21 davinci-002 2023-08-21 16:11:41\n",
            "22 gpt-4-32k-0314 2023-06-28 19:08:41\n",
            "23 gpt-4 2023-06-27 16:13:31\n",
            "24 gpt-4-0314 2023-06-27 16:13:30\n",
            "25 gpt-4-0613 2023-06-12 16:54:56\n",
            "26 gpt-3.5-turbo-0613 2023-06-12 16:30:34\n",
            "27 gpt-3.5-turbo-16k-0613 2023-05-30 19:17:27\n",
            "28 gpt-3.5-turbo-16k 2023-05-10 22:35:02\n",
            "29 tts-1 2023-04-19 21:49:11\n",
            "30 gpt-3.5-turbo-0301 2023-03-01 05:52:43\n",
            "31 gpt-3.5-turbo 2023-02-28 18:56:42\n",
            "32 whisper-1 2023-02-27 21:13:04\n",
            "33 text-embedding-ada-002 2022-12-16 19:01:39\n"
          ]
        }
      ]
    },
    {
      "cell_type": "code",
      "source": [
        "# fn: Full name.\n",
        "# bday: Birthday (YYYY-MM-DD format)\n",
        "# email: Email address.\n",
        "# tel: Telephone number (nnn-nnn-nnnn format)\n",
        "# adr.country-name: Country. (Note that adr is an object and country-name is a key inside that)\n",
        "# org: Organization name.\n",
        "# title: Job title.\n",
        "# photo: Photograph.\n",
        "# url: URL.\n",
        "# nickname: Nickname.\n",
        "schema = {\n",
        "  \"$schema\": \"http://json-schema.org/draft-07/schema#\",\n",
        "  \"type\": \"object\",\n",
        "  \"properties\": {\n",
        "    \"contacts\": {\n",
        "      \"type\": \"array\",\n",
        "      \"items\": {\n",
        "        \"type\": \"object\",\n",
        "        \"properties\": {\n",
        "          \"fn\": {\n",
        "            \"type\": \"string\",\n",
        "            \"description\": \"Full name.\"\n",
        "          },\n",
        "          \"bday\": {\n",
        "            \"type\": \"string\",\n",
        "            \"format\": \"date\",\n",
        "            \"description\": \"Birthday (YYYY-MM-DD format).\"\n",
        "          },\n",
        "          \"email\": {\n",
        "            \"type\": \"string\",\n",
        "            \"format\": \"email\",\n",
        "            \"description\": \"Email address.\"\n",
        "          },\n",
        "          \"tel\": {\n",
        "            \"type\": \"string\",\n",
        "            \"pattern\": \"^\\\\d{3}-\\\\d{3}-\\\\d{4}$\",\n",
        "            \"description\": \"Telephone number (nnn-nnn-nnnn format).\"\n",
        "          },\n",
        "          \"adr\": {\n",
        "            \"type\": \"object\",\n",
        "            \"properties\": {\n",
        "              \"country-name\": {\n",
        "                \"type\": \"string\",\n",
        "                \"description\": \"Country.\"\n",
        "              }\n",
        "            },\n",
        "            \"required\": [\"country-name\"]\n",
        "          },\n",
        "          \"org\": {\n",
        "            \"type\": \"string\",\n",
        "            \"description\": \"Organization name.\"\n",
        "          },\n",
        "          \"title\": {\n",
        "            \"type\": \"string\",\n",
        "            \"description\": \"Job title.\"\n",
        "          },\n",
        "          \"photo\": {\n",
        "            \"type\": \"string\",\n",
        "            \"format\": \"uri\",\n",
        "            \"description\": \"Photograph URL.\"\n",
        "          },\n",
        "          \"url\": {\n",
        "            \"type\": \"string\",\n",
        "            \"format\": \"uri\",\n",
        "            \"description\": \"URL.\"\n",
        "          },\n",
        "          \"nickname\": {\n",
        "            \"type\": \"string\",\n",
        "            \"description\": \"Nickname.\"\n",
        "          }\n",
        "        },\n",
        "        \"required\": []\n",
        "      }\n",
        "    }\n",
        "  },\n",
        "  \"required\": [\"contacts\"]\n",
        "}\n"
      ],
      "metadata": {
        "id": "IK-OLBGesPDf"
      },
      "execution_count": null,
      "outputs": []
    },
    {
      "cell_type": "code",
      "source": [],
      "metadata": {
        "id": "_2ly0nGO0HJZ"
      },
      "execution_count": null,
      "outputs": []
    },
    {
      "cell_type": "code",
      "source": [
        "attendees_list = \"\"\"\n",
        "Ava Mitchell - Developer, USA. Email: ava.m@example.com, Phone: 123-555-7890, Website: https://example.com/avam. Birthday: December 12, 1994.\n",
        "David Miller - Consultant. Nickname: Dave.\n",
        "Mia Robinson - Manager at ABC Corp, UK. Phone: 987-111-3210. Nickname: Mimi. Birthday: January 22, 1987.\n",
        "Abigail Lee - UK. Phone: 654-321-0987. Nickname: Abby. Birthday: July 7, 1999.\n",
        "Daniel Young - Engineer at Tech Dynamics, USA. Phone: 555-987-6543. Nickname: Dan. Birthday: March 3, 1990.\n",
        "Chloe Lewis - Email: chloe.l@example.com, Website: https://example.com/chloel. Birthday: September 9, 1988.\n",
        "Andrew Scott - Researcher. Nickname: Drew.\n",
        "Grace Baker - Creative Solutions, Australia.\n",
        "William Carter - Nickname: Will.\n",
        "Emily Hughes - Designer, Canada. Nickname: Em. Birthday: January 20, 1984.\n",
        "Matthew White - Researcher, Australia. Nickname: Matt.\n",
        "Anthony Lewis - Email: anthony.l@example.com, Phone: 789-012-3456. Nickname: Tony.\n",
        "Michael Harris - Project Manager at Future Tech, Canada. Nickname: Mike.\n",
        "Ashley Walker - Designer, Australia. Nickname: Ash. Birthday: August 5, 1980.\n",
        "Amelia Scott - Nickname: Amy.\n",
        "Chris Anderson - Director at Innovatech, USA. Email: chris.a@example.com, Phone: 321-654-0987, Website: https://innovatech.com/chrisa, Nickname: CA. Birthday: May 30, 1979.\n",
        "Joshua Hall - Tech Innovators. Website: https://techinnovators.com/joshh, Nickname: Josh.\n",
        "Jessica Martin - Email: jessica.m@example.com, Phone: 654-987-3210, Website: https://example.com/jessicam, Nickname: Jess. Birthday: July 20, 1993.\n",
        "Lucas Perez - Nickname: Luke.\n",
        "Aiden Edwards - UK. Email: aiden.e@example.com. Nickname: Aid.\n",
        "\"\"\""
      ],
      "metadata": {
        "id": "LoNgVDQfvIQx"
      },
      "execution_count": null,
      "outputs": []
    },
    {
      "cell_type": "code",
      "source": [
        "import requests\n",
        "\n",
        "# Set the API proxy URL and token\n",
        "api_url = 'http://aiproxy.sanand.workers.dev/openai/v1/chat/completions'\n",
        "\n",
        "# Define the headers\n",
        "headers = {\n",
        "    'Content-Type': 'application/json',\n",
        "    'Authorization': f'Bearer {token}'\n",
        "}\n",
        "\n",
        "# Define the data payload\n",
        "data = {\n",
        "        \"model\": \"gpt-4o-2024-05-13\",\n",
        "        \"response_format\": { \"type\": \"json_object\" },\n",
        "        \"tools\": [\n",
        "          {\"type\": \"function\", \"function\": {\"name\": \"extract_attendees_list\", \"description\": \"Extract attendees details in a conference\", \"parameters\": schema}}\n",
        "        ],\n",
        "        \"tool_choice\": {\"type\": \"function\", \"function\": {\"name\": \"extract_attendees_list\"}},\n",
        "        \"messages\": [\n",
        "            {\n",
        "                \"role\": \"system\",\n",
        "                \"content\": \"Get attendees list as JSON via extract_attendees_list. If unsure, leave fields blank.\"\n",
        "            },\n",
        "            {\n",
        "                \"role\": \"user\",\n",
        "                \"content\": attendees_list\n",
        "            }\n",
        "        ]\n",
        "    }\n",
        "\n",
        "# Send the POST request\n",
        "response = requests.post(api_url, headers=headers, json=data)\n",
        "\n",
        "# Print the response\n",
        "print(response.json())\n"
      ],
      "metadata": {
        "colab": {
          "base_uri": "https://localhost:8080/"
        },
        "id": "TOXksm8DthAw",
        "outputId": "721a3f78-c995-47c7-ce1e-c4f29043a2ee"
      },
      "execution_count": null,
      "outputs": [
        {
          "output_type": "stream",
          "name": "stdout",
          "text": [
            "{'message': 'Invalid model: gpt-4o-2024-05-13'}\n"
          ]
        }
      ]
    },
    {
      "cell_type": "code",
      "source": [
        "import json\n",
        "test_json = json.loads(response.json()[\"choices\"][0][\"message\"][\"tool_calls\"][0][\"function\"][\"arguments\"])\n"
      ],
      "metadata": {
        "id": "Z-KeeOwXvgfm"
      },
      "execution_count": null,
      "outputs": []
    },
    {
      "cell_type": "code",
      "source": [
        "response.json()[\"choices\"][0][\"message\"][\"tool_calls\"][0][\"function\"][\"arguments\"]"
      ],
      "metadata": {
        "colab": {
          "base_uri": "https://localhost:8080/",
          "height": 200
        },
        "id": "LyIA2hMUwcEF",
        "outputId": "e3564d02-0262-4597-c8b9-7b38f12bf69c"
      },
      "execution_count": null,
      "outputs": [
        {
          "output_type": "execute_result",
          "data": {
            "text/plain": [
              "'{\"contacts\":[{\"fn\":\"Ava Mitchell\",\"email\":\"ava.m@example.com\",\"tel\":\"123-555-7890\",\"url\":\"https://example.com/avam\",\"bday\":\"1994-12-12\",\"adr\":{\"country-name\":\"USA\"}},{\"fn\":\"David Miller\",\"nickname\":\"Dave\",\"title\":\"Consultant\"},{\"fn\":\"Mia Robinson\",\"org\":\"ABC Corp\",\"tel\":\"987-111-3210\",\"nickname\":\"Mimi\",\"bday\":\"1987-01-22\",\"adr\":{\"country-name\":\"UK\"}},{\"fn\":\"Abigail Lee\",\"tel\":\"654-321-0987\",\"nickname\":\"Abby\",\"bday\":\"1999-07-07\",\"adr\":{\"country-name\":\"UK\"}},{\"fn\":\"Daniel Young\",\"org\":\"Tech Dynamics\",\"tel\":\"555-987-6543\",\"nickname\":\"Dan\",\"bday\":\"1990-03-03\",\"adr\":{\"country-name\":\"USA\"}},{\"fn\":\"Chloe Lewis\",\"email\":\"chloe.l@example.com\",\"url\":\"https://example.com/chloel\",\"bday\":\"1988-09-09\"},{\"fn\":\"Andrew Scott\",\"title\":\"Researcher\",\"nickname\":\"Drew\"},{\"fn\":\"Grace Baker\",\"org\":\"Creative Solutions\",\"adr\":{\"country-name\":\"Australia\"}},{\"fn\":\"William Carter\",\"nickname\":\"Will\"},{\"fn\":\"Emily Hughes\",\"title\":\"Designer\",\"nickname\":\"Em\",\"bday\":\"1984-01-20\",\"adr\":{\"country-name\":\"Canada\"}},{\"fn\":\"Matthew White\",\"title\":\"Researcher\",\"nickname\":\"Matt\",\"adr\":{\"country-name\":\"Australia\"}},{\"fn\":\"Anthony Lewis\",\"email\":\"anthony.l@example.com\",\"tel\":\"789-012-3456\",\"nickname\":\"Tony\"},{\"fn\":\"Michael Harris\",\"org\":\"Future Tech\",\"nickname\":\"Mike\",\"adr\":{\"country-name\":\"Canada\"}},{\"fn\":\"Ashley Walker\",\"title\":\"Designer\",\"nickname\":\"Ash\",\"bday\":\"1980-08-05\",\"adr\":{\"country-name\":\"Australia\"}},{\"fn\":\"Amelia Scott\",\"nickname\":\"Amy\"},{\"fn\":\"Chris Anderson\",\"email\":\"chris.a@example.com\",\"tel\":\"321-654-0987\",\"url\":\"https://innovatech.com/chrisa\",\"nickname\":\"CA\",\"bday\":\"1979-05-30\",\"adr\":{\"country-name\":\"USA\"}},{\"fn\":\"Joshua Hall\",\"title\":\"Tech Innovators\",\"url\":\"https://techinnovators.com/joshh\",\"nickname\":\"Josh\"},{\"fn\":\"Jessica Martin\",\"email\":\"jessica.m@example.com\",\"tel\":\"654-987-3210\",\"url\":\"https://example.com/jessicam\",\"nickname\":\"Jess\",\"bday\":\"1993-07-20\"},{\"fn\":\"Lucas Perez\",\"nickname\":\"Luke\"},{\"fn\":\"Aiden Edwards\",\"adr\":{\"country-name\":\"UK\"},\"email\":\"aiden.e@example.com\",\"nickname\":\"Aid\"}]}'"
            ],
            "application/vnd.google.colaboratory.intrinsic+json": {
              "type": "string"
            }
          },
          "metadata": {},
          "execution_count": 21
        }
      ]
    },
    {
      "cell_type": "code",
      "source": [
        "lst = test_json['contacts']"
      ],
      "metadata": {
        "id": "mm6MLoS1v4q2"
      },
      "execution_count": null,
      "outputs": []
    },
    {
      "cell_type": "code",
      "source": [
        "len(lst)"
      ],
      "metadata": {
        "colab": {
          "base_uri": "https://localhost:8080/"
        },
        "id": "kI8zlZWVwGrA",
        "outputId": "110c4322-a416-4b31-8b3f-b711861453e9"
      },
      "execution_count": null,
      "outputs": [
        {
          "output_type": "execute_result",
          "data": {
            "text/plain": [
              "20"
            ]
          },
          "metadata": {},
          "execution_count": 18
        }
      ]
    },
    {
      "cell_type": "code",
      "source": [
        "lst"
      ],
      "metadata": {
        "colab": {
          "base_uri": "https://localhost:8080/"
        },
        "id": "HUklGV21wOMe",
        "outputId": "e94fa04b-8258-4ed6-bc6b-7918d566b3ff"
      },
      "execution_count": null,
      "outputs": [
        {
          "output_type": "execute_result",
          "data": {
            "text/plain": [
              "[{'fn': 'Ava Mitchell',\n",
              "  'email': 'ava.m@example.com',\n",
              "  'tel': '123-555-7890',\n",
              "  'url': 'https://example.com/avam',\n",
              "  'bday': '1994-12-12',\n",
              "  'adr': {'country-name': 'USA'}},\n",
              " {'fn': 'David Miller', 'nickname': 'Dave', 'title': 'Consultant'},\n",
              " {'fn': 'Mia Robinson',\n",
              "  'org': 'ABC Corp',\n",
              "  'tel': '987-111-3210',\n",
              "  'nickname': 'Mimi',\n",
              "  'bday': '1987-01-22',\n",
              "  'adr': {'country-name': 'UK'}},\n",
              " {'fn': 'Abigail Lee',\n",
              "  'tel': '654-321-0987',\n",
              "  'nickname': 'Abby',\n",
              "  'bday': '1999-07-07',\n",
              "  'adr': {'country-name': 'UK'}},\n",
              " {'fn': 'Daniel Young',\n",
              "  'org': 'Tech Dynamics',\n",
              "  'tel': '555-987-6543',\n",
              "  'nickname': 'Dan',\n",
              "  'bday': '1990-03-03',\n",
              "  'adr': {'country-name': 'USA'}},\n",
              " {'fn': 'Chloe Lewis',\n",
              "  'email': 'chloe.l@example.com',\n",
              "  'url': 'https://example.com/chloel',\n",
              "  'bday': '1988-09-09'},\n",
              " {'fn': 'Andrew Scott', 'title': 'Researcher', 'nickname': 'Drew'},\n",
              " {'fn': 'Grace Baker',\n",
              "  'org': 'Creative Solutions',\n",
              "  'adr': {'country-name': 'Australia'}},\n",
              " {'fn': 'William Carter', 'nickname': 'Will'},\n",
              " {'fn': 'Emily Hughes',\n",
              "  'title': 'Designer',\n",
              "  'nickname': 'Em',\n",
              "  'bday': '1984-01-20',\n",
              "  'adr': {'country-name': 'Canada'}},\n",
              " {'fn': 'Matthew White',\n",
              "  'title': 'Researcher',\n",
              "  'nickname': 'Matt',\n",
              "  'adr': {'country-name': 'Australia'}},\n",
              " {'fn': 'Anthony Lewis',\n",
              "  'email': 'anthony.l@example.com',\n",
              "  'tel': '789-012-3456',\n",
              "  'nickname': 'Tony'},\n",
              " {'fn': 'Michael Harris',\n",
              "  'org': 'Future Tech',\n",
              "  'nickname': 'Mike',\n",
              "  'adr': {'country-name': 'Canada'}},\n",
              " {'fn': 'Ashley Walker',\n",
              "  'title': 'Designer',\n",
              "  'nickname': 'Ash',\n",
              "  'bday': '1980-08-05',\n",
              "  'adr': {'country-name': 'Australia'}},\n",
              " {'fn': 'Amelia Scott', 'nickname': 'Amy'},\n",
              " {'fn': 'Chris Anderson',\n",
              "  'email': 'chris.a@example.com',\n",
              "  'tel': '321-654-0987',\n",
              "  'url': 'https://innovatech.com/chrisa',\n",
              "  'nickname': 'CA',\n",
              "  'bday': '1979-05-30',\n",
              "  'adr': {'country-name': 'USA'}},\n",
              " {'fn': 'Joshua Hall',\n",
              "  'title': 'Tech Innovators',\n",
              "  'url': 'https://techinnovators.com/joshh',\n",
              "  'nickname': 'Josh'},\n",
              " {'fn': 'Jessica Martin',\n",
              "  'email': 'jessica.m@example.com',\n",
              "  'tel': '654-987-3210',\n",
              "  'url': 'https://example.com/jessicam',\n",
              "  'nickname': 'Jess',\n",
              "  'bday': '1993-07-20'},\n",
              " {'fn': 'Lucas Perez', 'nickname': 'Luke'},\n",
              " {'fn': 'Aiden Edwards',\n",
              "  'adr': {'country-name': 'UK'},\n",
              "  'email': 'aiden.e@example.com',\n",
              "  'nickname': 'Aid'}]"
            ]
          },
          "metadata": {},
          "execution_count": 19
        }
      ]
    },
    {
      "cell_type": "code",
      "source": [
        "import requests\n",
        "import json\n",
        "def get_embeddings(text, model='text-embedding-3-small'):\n",
        "  # Define the endpoint URL\n",
        "  url = 'http://aiproxy.sanand.workers.dev/openai/v1/embeddings'\n",
        "\n",
        "  # Define the headers\n",
        "  headers = {\n",
        "      'Content-Type': 'application/json',\n",
        "      'Authorization': f'Bearer {token}'\n",
        "  }\n",
        "\n",
        "  # Define the data payload\n",
        "  data = {\n",
        "      'model': model,\n",
        "      'input': [text]\n",
        "  }\n",
        "\n",
        "  # Send the POST request\n",
        "  response = requests.post(url, headers=headers, data=json.dumps(data))\n",
        "\n",
        "  # Print the response\n",
        "  print(response.json())\n",
        "  return response.json()['data'][0]['embedding']\n"
      ],
      "metadata": {
        "id": "uVlc2RuC0IuN"
      },
      "execution_count": null,
      "outputs": []
    },
    {
      "cell_type": "code",
      "source": [
        "embeddings = response.json()['data'][0]['embedding']"
      ],
      "metadata": {
        "id": "YLV7lHK80WYF"
      },
      "execution_count": null,
      "outputs": []
    },
    {
      "cell_type": "code",
      "source": [
        "len(embeddings)"
      ],
      "metadata": {
        "colab": {
          "base_uri": "https://localhost:8080/"
        },
        "id": "Iupk-Lff0lqG",
        "outputId": "5f3b401f-8bd0-46e3-bbef-58eeaf9860b6"
      },
      "execution_count": null,
      "outputs": [
        {
          "output_type": "execute_result",
          "data": {
            "text/plain": [
              "1536"
            ]
          },
          "metadata": {},
          "execution_count": 25
        }
      ]
    },
    {
      "cell_type": "code",
      "source": [
        "type(embeddings)"
      ],
      "metadata": {
        "colab": {
          "base_uri": "https://localhost:8080/"
        },
        "id": "Gjteqahk0q-u",
        "outputId": "92d3d616-981b-4a3d-d947-061039d608ba"
      },
      "execution_count": null,
      "outputs": [
        {
          "output_type": "execute_result",
          "data": {
            "text/plain": [
              "list"
            ]
          },
          "metadata": {},
          "execution_count": 26
        }
      ]
    },
    {
      "cell_type": "code",
      "source": [
        "count = sum(1 for x in embeddings if x > -0.006869168105802893)\n",
        "print(count)\n"
      ],
      "metadata": {
        "colab": {
          "base_uri": "https://localhost:8080/"
        },
        "id": "DthR4CLj0uRm",
        "outputId": "b6b700d2-0484-46c1-d749-d3f35ae83a91"
      },
      "execution_count": null,
      "outputs": [
        {
          "output_type": "stream",
          "name": "stdout",
          "text": [
            "934\n"
          ]
        }
      ]
    },
    {
      "cell_type": "code",
      "source": [
        "from sklearn.metrics.pairwise import cosine_similarity"
      ],
      "metadata": {
        "id": "RzlWsk2t1hC6"
      },
      "execution_count": null,
      "outputs": []
    },
    {
      "cell_type": "code",
      "source": [
        "a1 = get_embeddings('Economic')\n",
        "a2 = get_embeddings('Essential')\n",
        "# Compute cosine similarity\n",
        "similarity = cosine_similarity([a1], [a2])\n",
        "print(f\"Cosine Similarity: {similarity[0][0]}\")"
      ],
      "metadata": {
        "colab": {
          "base_uri": "https://localhost:8080/"
        },
        "id": "OPgO9jRe1yal",
        "outputId": "927c53ca-fb0f-48a1-8a31-4a48135e6a4c"
      },
      "execution_count": null,
      "outputs": [
        {
          "output_type": "stream",
          "name": "stdout",
          "text": [
            "{'object': 'list', 'data': [{'object': 'embedding', 'index': 0, 'embedding': [-0.008510467, -0.0084056575, 0.011403186, 0.030660039, 0.033958018, 0.01915903, 0.0076300735, 0.080828466, -0.01477104, -0.035634957, 0.03809447, -0.01461732, -0.055590533, -0.04656301, 0.03524367, 0.035746753, -0.03728395, -0.017775556, 0.018264662, 0.024874598, 0.060872894, 0.00658548, -0.045948133, 0.010417985, 0.06556832, 0.01152197, -0.009307013, -0.017258499, -0.01832056, -0.01959224, 0.036333684, -0.03924038, 0.025461527, -0.018641975, -0.023267532, 0.024469338, -0.023770614, 0.024986394, 0.0413086, -0.022037776, 0.0058657937, 0.0030394522, -0.028074756, 0.018837618, -0.011144659, 0.003146008, 0.0042796885, -0.0344611, 0.061375976, 0.012039026, -0.051202543, -0.036501378, 0.04524941, -0.034153663, -0.011179594, -0.010879143, 0.008615275, -0.014449626, 0.051482033, -0.038569603, 0.037060358, 0.010921067, 0.00634442, 0.008000397, -0.010390036, -0.0046045957, 0.005016843, 0.02677513, -0.021548668, 0.003062161, 0.029206691, 0.00875502, -0.008168091, 0.019298775, 0.0036159002, -0.027487827, -0.028466042, -0.043684267, 0.00028582205, 0.016280284, 0.011452097, 0.012381401, -0.019704036, 0.030660039, 0.026411792, -0.055618484, -0.069425285, 0.018767744, -0.027823215, 0.045333255, -0.046535064, -0.0060055386, 0.0075741755, 0.013115062, 0.037647285, -0.00014793311, -0.027194364, 0.0041329563, -0.0017398244, 0.02674718, 0.008559377, -0.028591814, 0.022149572, 0.0018865566, 0.026258074, 0.06707757, -0.013708978, -0.043935806, 0.013736927, 0.025741016, -0.04575249, -0.010466895, -0.034908284, 0.029570028, 0.025992557, -0.02357497, 0.020724174, -0.032923907, 0.018809669, -0.026970772, -0.036277786, 0.0020193143, 0.016895162, -0.027012695, -0.010187405, 0.032672364, -0.046730705, 0.030995427, -0.02093379, -0.02289022, -0.011207543, 0.017020933, -0.039408073, 0.015553611, -0.021604566, 0.022722526, -0.008168091, 0.05712773, -0.015721304, -0.021939954, 0.06456216, -0.000992189, 0.0317221, 0.02824245, -0.037256, 0.008091232, 0.034041867, -0.006871957, -0.0006664086, 0.0040211603, 0.07434431, 0.00024062331, -0.016154515, -0.027781293, -0.0013563993, -0.028507967, -0.0040840455, -0.04720584, -0.003986224, 0.0004332093, 0.0009852018, 0.026481666, -0.018292611, 0.022512909, -0.017817479, -0.0010786562, -0.03116312, 0.018544152, -0.039016787, -0.0008607414, 0.001200933, -0.0022795892, -0.026607435, 0.038569603, -0.010487857, 0.022736501, -0.034600846, -0.010872155, 0.037703183, -0.004063084, -0.0029608458, 0.029122844, -0.053662054, -0.039631665, 0.052348454, 0.0097891325, -0.01834851, 0.023002015, -0.026076404, 0.013513335, -0.009628426, -0.0029556053, 0.039380122, 0.033259295, 0.032644417, -0.01317096, 0.013143011, 0.022387138, 0.039491918, 0.007734882, 0.010075609, 0.005425597, 0.01962019, -0.044355042, -0.05318692, 0.027208338, -0.03865345, 0.043432724, 0.018544152, -0.0112564545, 0.022149572, 0.008566365, -0.011997103, 0.038709346, -0.0127237765, 0.00052185997, 0.0014804229, 0.04167194, 0.008454569, 0.071884796, 0.00550595, -0.006606442, 0.037982672, -0.011731587, 0.030212855, 0.050615616, -0.0018655949, -0.016755417, -0.039995, -0.067916036, -0.005174056, -0.039491918, -0.015623484, -0.019019285, 0.0052264603, 0.04661891, -0.0018655949, -0.00062011817, -0.06953708, 0.005956628, -0.017398244, 0.012877496, -0.015483739, 0.021912005, -0.02768347, 0.0317221, 0.020542504, -0.0059496406, -0.05480796, 0.010865169, 0.00791655, 0.0027337603, -0.0006249219, 0.008845855, 0.024986394, -0.008824892, -0.010348112, 0.054137185, 0.038234215, 0.0021380975, -0.0039477944, -0.025615247, 0.010641577, 0.025321782, 0.034712642, -0.011221518, 0.011752549, 0.014121225, -0.037032407, -0.06685398, 0.042258866, -0.020584429, -0.0038464793, -0.032448772, -0.007986423, -0.007392507, -0.006683301, 0.033790324, -0.026397819, 0.031805947, -0.018516203, -0.020863919, 0.06763655, 0.024609083, -0.00779078, 0.017579913, 0.0010210114, -0.03750754, 0.02525191, -0.00021562206, 0.019815832, -0.036585223, 0.05019638, -0.024902547, 0.045920186, -0.022904195, 0.036333684, -0.070710935, 0.0016105603, 0.04052603, 0.055562586, 0.017649785, -0.056960035, 0.024497287, -0.03454495, 0.019690061, 0.01989968, 0.002421081, 0.02425972, -0.025587298, -0.0056282273, 0.015805151, -0.028787456, -0.034992132, -0.015469764, 0.0074833413, -0.011864345, 0.03666907, 0.027655521, -0.04522146, 0.034433153, -0.024455363, 0.021353025, -0.018292611, 0.028899252, 0.009712273, -0.030995427, -0.010285227, 0.012025052, 0.033175446, -0.019005312, 0.047345582, -0.018138893, 0.04720584, 0.023002015, 0.05075536, 0.056345157, 0.0015240932, -0.00063714955, -0.03585855, -0.018334536, -0.037647285, -0.008370722, -0.008636237, -0.011955179, -0.008230977, -0.011591842, -0.0065051266, 0.006096373, 0.039771408, 0.00530332, -0.013387565, -0.046227623, 0.023533046, -0.03896089, -7.292939e-05, -0.016629647, -0.017258499, -0.008615275, 0.03694856, 0.0076370607, 0.0105647165, 0.04745738, 0.060816996, -0.020151218, -0.0037905814, -0.080045894, -0.0037242025, -0.022470985, -0.040050898, 0.024553185, -0.0113123525, -0.04930201, -0.052823585, 0.025978584, 0.0019738972, -0.04748533, 0.07344994, 0.018516203, -0.027739368, -0.00056465686, 0.062661625, -0.039408073, 0.011144659, 0.013695003, 0.022135597, 0.020542504, 0.007909563, 0.016182464, -0.026635384, 0.038262162, 0.019578265, -0.0134225, 0.015357968, -0.0049225152, -0.021185331, 0.022443036, 0.018669924, 0.037982672, 0.005195018, -0.03924038, -0.019522367, -0.014519499, -0.06512114, 0.006850995, -0.012828585, -0.034992132, 0.0017083818, 0.008636237, -0.0006257953, 0.03063209, -0.047345582, 0.0063304454, 0.035075977, 0.027739368, -0.012339477, -0.03253262, 0.032141335, 0.008370722, 0.004562672, -0.01723055, -0.0039722496, 0.004325106, 0.016797341, 0.010990939, 0.015441815, 0.014715142, 0.0044264207, 0.00054980896, -0.036836766, 0.024189848, -0.058357485, -0.012395375, 0.027376032, -0.03865345, -0.0021380975, -0.031358764, 0.010844206, -0.039324224, -0.023197658, -0.012940381, 0.012528134, -0.023057913, 0.014505524, -0.006630897, -0.004153918, 0.0468425, -0.05542284, -0.03116312, -0.0031407673, -0.004891073, 0.04251041, -0.055758227, 0.0023512086, -0.04935791, -0.011766523, 0.063052915, 0.008028346, -0.00053408765, -0.0041050073, 0.036305733, 0.026677307, 0.01657375, 0.036501378, 0.06512114, 0.0106765125, -0.008692135, 0.0073226346, -0.018264662, 0.052516147, -0.014093276, 0.048938677, 0.008678161, -0.020290963, 0.002679609, 0.05902826, 0.0031390206, -0.054221034, 0.010250291, -0.046730705, 0.010613628, 0.009859005, -0.07680382, 0.029150793, -0.035914447, 0.044215295, 0.02867566, -0.005561848, -0.04334888, 0.004863124, 0.075797655, -0.012451273, 0.051398188, -0.016406056, 0.010466895, -0.027096542, -0.02370074, 0.007937512, 0.055562586, -0.046423268, 0.010501832, -0.0078047547, -0.025042292, -0.040106796, 0.029374385, -0.032979805, 0.0064247735, -0.001663838, 0.019662112, 0.049469706, -0.0011764776, 0.013764876, -0.00024368023, 0.014163149, 0.0021258697, -0.013233845, -0.038206264, -0.015357968, 0.006002045, -0.03448905, 0.0083497595, 0.0056631635, 0.010550742, -0.0068579824, -0.034097765, -0.01685324, 0.031526458, 0.0026778623, 0.0011066052, -0.038513705, 0.02852194, -0.006428267, -0.013338653, 0.018530179, 0.012493197, -5.420575e-05, -0.010529781, -0.01192723, 0.041448347, 0.012241656, 0.039408073, 0.0097611835, 0.025615247, -0.0031320334, -0.013017241, 0.006009032, -0.025209986, 0.026928848, -0.015399892, -0.023085862, 0.04935791, -0.032420825, -0.018949414, -0.024357542, 0.0072387876, 0.010571704, -0.025503451, -0.019885704, 0.02796296, 0.0011668702, -0.026355894, -0.009272076, 0.0150225805, -0.008105206, 0.013303718, 0.024609083, -0.0030726418, -0.0158331, 0.02562922, 0.017426193, -0.009202204, 0.00046727213, -0.028493991, 0.010634589, 0.011822421, -0.011899281, 0.014267958, 0.0065715057, -0.01289147, -0.007909563, -0.006955804, -0.021534694, -0.014114238, -0.011514982, -0.03608214, 0.015819127, 0.02248496, 0.021073535, -0.019662112, 0.0098729795, -0.026761154, -0.008482518, -0.002152072, 0.018292611, 0.013722952, -0.00870611, 0.0042272843, 0.01987173, 0.0038359985, 0.01433783, -0.0031232992, -0.014840912, -0.0075741755, 0.02783719, -0.011074786, 0.025293833, 0.0055234185, 0.023826512, 0.0023057915, -0.0036054193, -0.018110944, 0.017426193, 0.0158331, -0.010858181, -0.02982157, 0.047904562, 0.0524323, 0.00043058908, -0.008063283, -0.023644842, -0.0011354276, 0.014757065, 0.0019878717, 9.962286e-07, 0.03197364, 0.0024175874, -0.0055967844, 0.007168915, 0.025126139, -0.025922686, -0.002412347, 0.022498934, 0.009411821, -0.010264265, -0.05028023, 0.0016577243, -0.00807027, -0.027264236, -0.005184537, 0.0056142528, 0.0058273636, 0.006152271, -0.016447978, -0.0075741755, 0.0072667366, 0.009425796, -0.0033364103, -0.008629249, 0.009495668, 0.0061732326, 0.026942823, -0.01088613, -0.0014629548, 0.0048840856, 0.005712074, -0.01915903, 0.022443036, 0.0075392392, 0.004381004, 0.009376885, 0.003580964, 0.021408923, -0.008971625, 0.003794075, 0.01012452, 0.06813963, -0.014715142, 0.007644048, 0.023253556, 0.008279887, -0.0047338596, 0.028032834, 0.027082568, -0.013660067, 0.02982157, -0.0255314, 0.009914903, -0.02979362, 0.028284375, -0.011822421, -0.01996955, 0.00883188, 0.014323856, -0.0013633865, 0.023686767, -0.047038145, -0.0083218105, -0.022540858, 0.015623484, 0.018823642, -0.04854739, 0.021730337, 0.04714994, 0.0072387876, 0.021828158, -0.014463601, 0.010627602, 0.0064771776, -0.030827733, -0.042929642, 0.030576192, 0.014952708, -0.018138893, -0.05880467, -0.033874173, 0.010949016, -0.03281211, -0.013646092, 0.039044734, -0.015721304, 0.017258499, -0.0041154884, -0.023267532, 0.020752123, 0.0075671882, 0.03753549, -0.034321357, 0.0090414975, 0.06690987, -0.035159826, 0.0027407475, -0.019801857, -0.013331667, -0.03887704, -0.019214928, 0.03803857, 0.021157382, -0.013988468, -0.019606214, -0.0025346237, -0.003682279, -0.011102735, 0.017034907, -0.009341949, 0.007623086, 0.009621439, -0.01601477, 0.008014372, 0.01996955, 0.045836337, 0.011745562, 0.02037481, -0.03253262, -0.01642003, -0.011640753, 0.01377885, 0.0047338596, 0.021716362, -0.0028420626, 0.014533473, -0.02329548, 0.010166444, 0.013143011, -0.0074344305, 0.042734, -0.037451643, 0.01129139, -0.021618541, -0.0029136818, -0.008370722, 0.051118698, 0.027292185, -0.021241229, 0.01806902, 0.017971199, -0.020235065, -0.01996955, -0.03700446, 0.0013738674, -0.012849547, 0.004118982, 0.039380122, -0.034880336, -0.008391683, 0.0033049677, 0.016559774, -0.020025449, -0.045417104, -0.009824069, -0.008971625, 0.00014913405, -0.0344611, 0.013366602, 0.023183685, -0.028354246, 0.04021859, 0.05131434, -0.01931275, -0.038178317, 0.011808447, 0.014435652, -0.006676314, -0.051118698, -0.004035135, -0.019745959, -0.023505097, -0.014065327, -0.051202543, -0.013415514, -0.0027162922, 0.02230329, 0.03974346, -0.0050971964, -0.012269605, 0.04077757, 0.033594683, -0.014826938, -0.01834851, -0.06372369, 0.00038604537, 0.004702417, -0.0018254182, 0.010571704, -0.004192348, -0.014191098, 0.025880761, -0.0105647165, -0.0021014144, -0.0126678785, -0.015819127, 0.0054081287, -0.03138671, 0.020849943, -0.015847076, 0.05346641, 0.046535064, 0.0073156473, -0.014170136, -0.008643224, 0.01860005, 0.034293406, -0.016475927, 0.024734853, 0.034936234, 0.026383843, 0.002550345, -0.012046013, 0.020011473, 0.012157809, -0.005202005, 0.073561735, 0.043935806, -0.0110119, 0.0007493822, 0.027040644, -0.020766096, 0.024245746, 0.047569174, -0.003930326, 0.033259295, -0.045081716, -0.04631147, -0.023714716, -0.015148351, 0.010292214, 0.008049308, -0.033259295, -0.056680545, 0.0046884427, -0.030771835, -0.00025525285, -0.024273695, 0.018236713, -0.013352628, 0.017188627, -0.020221092, 0.045305308, 0.045109663, 0.01240935, -0.012828585, 0.02357497, -0.016727468, -0.024553185, -0.015567586, 0.015120402, -0.03448905, -0.010243303, 0.020975715, -0.01875377, 0.005090209, 0.018795693, 0.024287669, -0.007392507, 0.007441418, 0.021157382, 0.027166415, 0.0043181186, 0.0063409265, -0.013380577, 0.0033503848, 0.026817052, 0.039603714, 0.04139245, -0.0012402363, -0.0036997471, -0.03370648, -0.015260147, 0.013205896, -0.0052159796, 0.016070668, 0.011836396, -0.0041678925, 0.024399465, 0.03225313, -0.00021562206, 0.02052853, -0.01489681, -0.0019861248, 0.033315193, 0.045053765, 0.03228108, -0.037060358, 0.018558128, -0.008028346, -0.026579486, 0.014868861, -0.010026699, 0.003682279, -0.008845855, -0.022261368, -0.019382622, -0.0040770583, -0.016056692, -0.010019711, -0.023966257, -0.022834321, -0.033594683, 0.040162694, -0.0033958019, -0.019508393, -0.0071444595, -0.05050382, -0.020346861, 0.009048484, -0.00582387, 0.012018064, -0.011773511, 0.019578265, -0.022778424, -0.01004766, -0.0020752123, 0.02730616, 0.03390212, 0.012311528, 0.0344611, -0.013715965, 0.0009904422, 0.024427414, 0.014205072, -0.014246996, -0.028759507, -0.033790324, 0.010103558, 0.027823215, 0.062270343, 0.029737722, 0.02108751, -0.005167069, 0.016154515, 0.008496492, 0.012437299, 0.007623086, -0.048994575, -0.0030708949, -0.00738552, 0.04329298, -0.061152384, -0.02842412, -0.012388389, -0.019550316, 0.017537989, -0.0028769989, -0.013108075, 0.054221034, 0.025727043, -0.010697475, -0.0017957224, 0.0035652425, 0.02040276, -0.020025449, 0.010536768, 0.04441094, -0.00791655, 0.022191495, 0.011717613, 0.010571704, 0.016909137, -0.01794325, 0.002384398, -0.010942028, -0.025671145, -0.0038010622, -0.009258102, 0.0344611, -0.025964608, 0.03253262, 4.1432188e-05, -0.0078047547, 0.0015144857, -0.0067531737, -0.010180418, -0.029737722, -0.029178742, 0.040637825, -0.021702388, -0.0013738674, 0.021730337, -0.024762802, -0.015525662, -0.0042342716, 0.03538342, 0.013478398, -0.0007742743, -0.0038290112, -0.0073785326, -0.00033626123, 0.013338653, -0.035187773, -0.016839264, -0.023057913, 0.018027097, -0.02080802, 0.03258852, 0.021059562, 0.010788308, 0.014882836, 0.007329622, -0.0038045559, 0.03454495, -0.00037294428, 0.00855239, -0.0066693267, -0.005453546, -0.014561422, 0.028535916, -0.0058867554, -0.008894765, 0.012304542, -0.0413086, -0.035662908, 0.006319965, 0.01040401, -0.023826512, 0.043684267, 0.0018690885, 0.015721304, -0.003105831, 0.045640696, 0.039044734, -0.012493197, -0.006299003, -0.0033765868, 0.014812963, -0.028759507, -0.03420956, 0.013785837, -0.009293038, 0.035942398, 0.039128583, -0.021576617, 0.011612804, 0.020235065, 0.025713068, -0.027264236, 0.020626351, -0.0040595904, 0.0072318004, -0.01903326, 0.010739398, 0.03393007, -0.004971426, 0.032672364, 0.0077209077, 0.05271179, -0.04027449, 0.0006454469, -0.032951854, -0.025671145, -0.023491124, 0.03809447, 0.009838044, 0.014980657, 0.022289317, 0.019326724, -0.017929275, 0.039995, 0.039603714, 0.008384696, -0.0023407277, 0.029150793, 0.012430312, 0.0027023177, -0.016531825, -0.007280711, 0.0035949384, -0.029011048, 0.017258499, -0.009327974, 0.040442184, -0.036557276, -0.00469543, 0.030380549, 0.018306587, -0.0053172945, 0.022512909, -0.037423693, 0.033315193, 0.020360837, 0.008657198, -0.01695106, -0.011878319, 0.00096511346, 0.011682676, 0.0009397847, -0.021101484, -0.008251938, -0.012681853, 0.015385917, -0.026649358, 0.02649564, -0.020081347, -0.018739795, -0.0032979804, -0.0066902884, -0.01778953, -0.004042122, 0.04108501, 0.031889793, 0.029877467, 0.0011825915, 0.021073535, 0.052627943, 0.049134318, 0.040386286, -0.039100632, -0.024483312, 0.0020699718, 0.012493197, -0.03474059, 0.034796488, -0.010788308, -0.018837618, -0.0044229273, 0.0067252247, -0.0011266936, 0.0015625231, 0.0117246, 0.12062783, 0.0008830133, -0.00626756, 0.014163149, -0.0056701507, 0.010942028, 0.012248644, 0.01027824, -0.019005312, 0.034377255, -0.019522367, 0.022191495, 0.022512909, 0.014812963, -0.01819479, 0.022387138, -0.00253113, -0.0090414975, -0.018921465, -0.039408073, -0.017565938, -0.0068579824, -0.00959349, 0.022219444, 0.012961343, -0.011661715, -0.005306814, -0.04105706, 0.03585855, 0.018166842, 0.009062459, 0.047653023, 0.008251938, 0.0054290905, -0.0065715057, -0.017496066, -0.007168915, -0.0024996875, -0.027390007, -0.038206264, 0.0045032804, 0.017677734, -0.03778703, -0.023337403, -0.011885307, 0.021800209, 0.042398613, 0.0061697387, -0.01426097, 0.0021293634, -0.01225563, -0.011577868, 0.042622205, 0.009956826, -0.021450847, -0.028507967, 0.016364131, 0.0072318004, 0.006683301, 0.0012577043, 0.0014559675, 0.025084216, -0.011375237, 0.04074962, 0.038234215, -0.0106835, -0.034041867, -0.009230153, -0.0068684635, 0.008105206, -0.008887778, 0.0033311697, 0.0073715453, -0.024399465, -0.022191495, 0.047261737, 0.019927628, -0.018683897, -0.03228108, -0.029318487, -0.010180418, -0.0013293236, -0.026439741, -0.0106485635, -0.020360837, -0.014002442, -0.014729116, 0.009223166, 0.014093276, -0.003079629, -0.031554405, 0.008098219, 0.013415514, 0.03258852, 0.00738552, 0.00018112254, 0.038206264, -0.017174652, 0.021017637, -0.0046884427, -0.02314176, -0.0017398244, 0.025587298, 0.017300423, 0.014198085, -0.008119181, -0.001538941, 0.036473427, 0.023560995, -0.043237083, 0.0073435963, -0.0075252648, 0.015567586, -0.018530179, 0.03728395, 0.0070641064, -0.016364131, -0.043712214, 0.001187832, 0.009782146, -0.006540063, -0.01943852, -0.011396199, -0.018963387, -0.03362263, 0.03256057, -0.0073715453, -0.0037521515, 0.012248644, -0.0026027493, 0.02037481, 0.0316662, -0.016070668, -0.00053321425, -0.00079043227, 0.050671514, -0.025559349, 0.030240804, 0.04438299, 0.0075392392, 0.026663333, -0.0035739767, 0.018697873, 0.0061103473, -0.03756344, 0.05097895, -0.010949016, 0.005257903, -0.01989968, -0.0038290112, 0.023826512, 0.04049808, -0.032895956, 0.0034988637, -0.007853665, 0.010089584, 0.0014830431, 0.016461954, 0.03334314, 0.019019285, 0.009970801, 0.024874598, -0.047094043, -0.01586105, 0.015651433, 0.008594314, 0.00030394524, 0.023644842, -0.013953531, 0.02332343, 0.01906121, -0.0064527225, -0.0067217313, -0.0027180389, 0.030492345, 0.0020193143, -0.012786661, -0.0033783338, -0.0075182775, -0.022750475, -0.013408526, -0.025866788, -0.047345582, 0.0012184011, -0.021618541, 0.013143011, 0.0030429459, -0.008580339, -0.0060719172, -0.006732212, 0.029570028, -0.0050308174, -0.014177123, 0.028004885, -0.0331475, 0.02509819, -0.024623057, -0.042538356, -0.017188627, 0.07233198, 0.0063898372, 0.0006323458, -0.030436447, 0.0037591388, -0.0006327825, 0.0076859714, 0.021143408, 0.009244127, 0.0053557246, 0.04714994, 0.0062850285, -0.038849093, 0.045976084, 0.015805151, -0.008845855, 0.030101059, -0.0193407, 0.023113811, -0.015777202, 0.039380122, 0.00070134486, -0.04348862, -0.0032962337, -0.014952708, 0.030548243, -0.01220672, 0.0455289, -0.030855682, -0.0158331, -0.021325076, -0.024175873, -0.015777202, 0.017747607, -0.009174255, -0.00888079, 0.0004281872, -0.023896383, 0.024385491, -0.023211634, 0.008510467, -0.010599653, -0.012283579, 0.030045161, 0.011207543, 0.017621836, 0.016475927, 0.012821598, -0.03418161, -0.00951663, 0.00562124, 0.010362087, 0.015539637, -0.005925185, 0.01962019, -0.0076859714, -0.02009532, 5.884572e-05, -0.03091158, -0.026286023, -0.014323856, -0.006204675, -0.0023529553, -0.018292611, -0.027725395, 0.012458261, -0.008636237, -0.005191524, 0.0017450649, -0.005733036, -0.033315193, -0.0090135485, 0.0009948092, 0.016755417, 0.00634442, -0.014365779, 0.043404777, 0.032979805, 0.004489306, 0.048156105, 0.035131875, -0.015958872, 0.0037731132, -0.013254807, -0.005397648, 0.026635384, 0.00041901643, 0.003144261, 0.005163575, 0.015371943, -0.007623086, -0.04516556, 0.024203822, -0.0001268622, -0.016867213, 0.011235492, 0.013548271, 0.008342773, -0.0121717835, 0.02951413, 0.004412446, 0.030855682, -0.029681824, 0.023994206, 0.0044229273, -0.0034482062, -0.03750754, 0.036808815, -4.5580866e-05, -0.0006598581, 0.004545204, 0.018586077, 0.010180418, -0.025447553, 0.002401866, -0.009307013, 0.029905416, 0.021045586, 0.02578294, -0.011829409, 0.025643196, -0.024595108, 0.013834748, -0.01060664, -0.050447922, 0.04469043, -0.025112165, -0.014177123, -0.0008423999, 0.0011659968, 0.021408923, 0.0010079104, 0.004014173, -0.016322209, 0.03334314, -0.00022097168, -0.010320163, -0.020039422, 0.0006022133, -0.018166842, -0.0007882488, -0.030715937, 0.022429062, 0.053047176, -0.013743914, 0.005872781, -0.0054919757, 0.004209816, 0.062158547, 0.036221888, 0.017537989, -0.023588944, -0.047233786, -0.019270826, -0.010711449, -0.016280284, -0.035942398, -0.0015371942, -0.022429062, 0.040386286, -0.034516998, -0.008300849, 0.024734853, 0.03334314, 0.00779078, 0.023029964, 0.030380549, -0.0018201778, 0.007151447, 0.0011790979, 0.017118754, 0.003469168, 0.022708552, -0.011354276, -0.04745738, -0.001293514, 0.017426193, -0.0042237905, -0.011528957, -0.0055443803, -0.057463117, 0.013953531, -0.027138466, 0.00072842045, 0.04362837, 0.044215295, 0.053522307, -0.018250689, 0.011626778, 0.007001221]}], 'model': 'text-embedding-3-small', 'usage': {'prompt_tokens': 2, 'total_tokens': 2}, 'monthlyCost': 0.0056010999999999995, 'cost': 4e-08, 'monthlyRequests': 4}\n",
            "{'object': 'list', 'data': [{'object': 'embedding', 'index': 0, 'embedding': [-0.016067538, 0.020160789, -0.010217855, 0.04084087, 0.031065943, -0.037083633, -0.033356942, 0.026071565, -0.026163206, 0.008301052, 0.04539232, 0.007399926, 0.017167216, -0.022711433, 0.04181836, 0.013585622, -0.053853743, 0.007254829, 0.019229116, 0.054953422, 0.079482384, 0.019122202, -0.0221005, 0.0066591697, 0.013684899, 0.0005760907, -0.029019317, 0.058863394, 0.025888285, -0.03256273, 0.041696176, -0.04093251, -0.0020943547, -0.0058305915, 0.019122202, 0.05250969, 0.023261273, 0.023184907, 0.03583122, 0.013173243, 0.008934895, -0.019931689, -0.026315939, 0.05324281, -0.009973481, -0.03137141, -0.04249039, 0.011416811, 0.05580873, 0.01837381, -0.017319951, -0.030531377, 0.026132658, 0.0037973304, -0.056938954, -0.026514491, -0.050829627, 0.019198569, -0.014975495, 0.005601492, 0.0079650385, -0.004910374, 0.009179268, 0.04459811, -0.017885063, -0.020939728, -0.021107735, 0.03031755, 0.004055068, -0.022405967, 0.012134656, -0.011653547, -0.033998422, -0.020359341, 0.014181282, 0.034517713, 0.01313506, 0.0039137895, -0.02177976, -0.008820345, -0.021336835, 0.050096504, -0.038336046, -0.03045501, -0.019366575, -0.012692133, -0.05981034, -0.03717527, -0.029294237, -0.0017316132, -0.01182919, -0.030409189, -0.039435726, -0.0043490794, -0.02793491, 0.06008526, 0.01132517, 0.054922875, -0.033967875, 0.041085243, -0.0074304724, -0.05150165, -0.051593293, -0.034853727, 0.006296428, 0.029538611, -0.0337235, -0.053364996, -0.0318907, -0.01681593, 0.0383055, -0.037969485, 0.020710628, 0.04004666, -0.0056587667, -0.05104345, -0.035250835, -0.020741176, -0.054892328, -0.01302051, 0.02388748, 0.039099712, -0.0032570364, -0.01759487, -0.0014710121, 0.015456605, -0.01649519, 0.041879456, -0.020893909, -0.052754063, 0.04004666, -0.006662988, 0.01164591, 0.0068195397, -0.014540205, 0.031310316, -0.012707407, 0.006491163, -0.021443749, -0.008094862, 0.0010691327, -0.044445377, 0.03476209, 0.037541833, -0.033418033, 0.012180476, -0.025659185, 0.02388748, 0.010256038, -0.0060826014, -0.009102901, -0.0057313154, 0.013241973, 0.0073617427, 0.0063040648, -0.03262382, 0.01837381, 0.012279754, -0.0111495275, 0.0061131483, -0.02443732, -0.018725095, 0.01690757, -0.012043017, 0.0010567232, -0.018221077, -0.031310316, -0.04401772, -0.027339252, 0.03390678, -0.016204998, -0.006514073, -0.021795034, 0.038000032, 0.0058458652, -0.061948605, -0.003829786, -0.020634262, -0.01196665, -0.0013831905, 0.07178462, 0.05012705, 0.006052055, 0.015326781, 0.023490373, 0.0053112986, -0.017014483, 0.030470284, 0.017564323, 0.0046736374, -0.06164314, -0.014845672, 0.034792636, 0.01832799, 0.02848475, -0.0004219256, 0.024238767, 0.045819975, -0.023490373, 0.02885131, -0.0016752928, -0.008889075, 0.039619006, -0.034853727, -0.029966263, 0.030668836, -0.043681707, 0.012249206, -0.02990517, -0.039435726, 0.03100485, -0.029660797, 0.007747394, 0.03717527, -0.045178495, 0.037083633, 0.0387637, -0.0030164816, -0.0033868598, 0.0069799093, -0.0033849506, -0.018297443, 0.06738591, 0.049638305, 0.024574779, -0.01915275, 0.024819152, -0.047897145, -0.019366575, -0.03022591, -0.0073235594, -0.033082023, -0.0045934524, -0.046766922, -0.007377016, 0.005105109, -0.0035472296, 0.033601314, -0.020221882, -0.028011277, -0.025506452, -0.0387637, 0.0005808636, 0.036442153, 0.017701784, -0.01265395, 0.006617168, -0.025750825, -0.05724442, 0.045086853, 0.040718682, 0.0012008651, 0.017075578, 0.008583608, 0.020328796, -0.020634262, 0.017625418, 0.034609355, -0.0027396525, 0.052448597, -0.028591665, -0.006559893, 0.0013745992, -0.03018009, -0.016052265, 0.01286014, 0.0071440977, -0.017717056, 0.033784594, 0.006212425, -0.004539996, 0.035861768, 0.051562745, -0.0223296, -0.058405194, 0.0060329633, -0.019168023, 0.038397137, -0.032073982, 0.035159193, -0.054892328, -0.0013364159, 0.017793423, -0.013035783, -0.007564114, -0.014570752, 0.030836843, -0.012753226, 0.0154184215, 0.01823635, 0.005024924, -0.004589634, 0.06026854, -0.064514525, -0.0045209043, -0.0068309945, 0.004807279, -0.020878635, 0.01805307, 0.010103304, 0.055594902, 0.036625434, -0.03182961, 0.00022886123, -0.01640355, 0.010561504, 0.01800725, -0.0068386314, -0.059046675, 0.0023921845, 0.03045501, 0.018129436, 0.008950168, -0.047286212, -0.022192141, -0.03436498, -0.078199424, 0.022131048, 0.013929272, -0.03821386, 0.022940533, -0.023139087, 0.022680888, -0.010538594, 0.009752017, 0.016983937, -0.02475806, 0.0061971517, 0.0120812, 0.002397912, -0.011088434, 0.012959416, 0.021718668, 0.014570752, -0.0069111795, -0.009454188, -0.004853099, 0.01736577, 0.025094073, -0.014616571, 0.0022852712, -0.05171548, -0.01709085, -0.025216259, -0.0019416214, -0.0026327393, -0.027415618, -0.0027071969, 0.02917205, 0.01631191, -0.014685302, 0.021596482, -0.06488109, 0.014563115, -0.027751632, -0.07190681, 0.018419629, -0.022680888, -0.024360953, 0.046186533, -0.015433695, -0.004177254, 0.033143114, 0.0738618, -0.012783773, 0.0127685, -0.03867206, -0.041024152, -0.05260133, -0.014922039, 0.015975898, 0.048446987, 0.010706601, 0.0042688944, -0.020741176, 0.026377032, -0.052112583, 0.016128631, -0.016204998, -0.008102499, 0.024956612, 0.053670462, 0.012211023, -0.025705006, 0.048905186, 0.008026132, -0.053945385, -0.008805072, -0.035037007, -7.31449e-05, 0.024467867, 0.029737163, 0.013219062, 0.026361758, -0.008759252, 0.0060367817, 0.026911598, 0.061398767, 0.03390678, -0.023643106, 0.0014500113, -0.032226715, -0.03845823, -0.024040213, 0.025964651, -0.028774943, -0.037144724, -0.0073502874, 0.016541012, 0.0021058097, 0.02397912, 0.028332017, 0.030699383, 0.02168812, 0.020038603, -0.00021657097, 0.008155955, 0.0018633456, -0.020573169, 0.0015406966, 0.028148737, 0.012638676, -0.01910693, 0.019488763, 0.014150735, -0.0323489, 0.061062753, -0.05779426, -0.013280156, -0.059596512, 0.06329266, 0.009973481, 0.014929675, 0.059046675, -0.014807489, -0.048569173, -0.07105151, -0.0050440156, -0.0057084053, 0.042184923, -0.021413201, -0.0043261694, -0.023673654, -0.03363186, -0.0021287196, 0.036839258, 0.01979423, -0.021352109, -0.04933284, 0.012233933, -0.045209043, -0.01855709, -0.029385878, -0.05058525, -0.040535405, -0.009225088, 0.002802655, -0.039802283, 0.020359341, 0.021627028, 0.026514491, 0.041451804, 0.0059565967, 0.0026842868, 0.014929675, 0.016739564, -0.016479917, -0.0015244688, -0.008705795, 0.0029152958, 0.014463838, 0.038794246, 0.030073177, -0.0110960705, 0.008789798, -0.008797435, 0.0037553287, 0.04377335, -0.018801462, 0.0016991574, -0.0011846373, -0.007564114, -0.07062385, -0.02604102, 0.018297443, 0.051837664, 0.02857639, -0.0028045643, -0.0028732943, -0.030699383, 0.015685705, -0.043528974, 0.023811113, -0.02002333, 0.044353735, 0.015502425, -0.010500411, -0.017671237, 0.020924455, 0.0029935716, 0.01727413, -0.043467883, -0.035434112, 0.009431278, 0.026835231, -0.042246018, 0.061490405, 0.043070775, -0.0062544267, -0.008499606, -0.03913026, 0.045667242, 0.01869455, -0.012600493, -0.016800657, -0.01640355, 0.0147158485, 0.04533123, -0.009927661, -0.012065927, 0.02145902, 0.01901529, 0.027247611, -0.040718682, 0.0036235964, -0.037328005, -0.023414006, -0.04905792, 0.02985935, -0.03540357, -0.03384569, -0.0014547842, 0.012363756, 0.0014939221, 0.0042803492, -0.0066591697, 0.03913026, -0.0241624, 0.032471087, 0.031050669, 0.026285391, 0.021672849, 0.014922039, -0.03454826, 0.018679276, 0.04548396, -0.02903459, -0.03086739, 0.022176867, 0.01217284, 0.009713834, -0.019534582, 0.020221882, 0.021367382, 0.020420436, 0.03192125, -0.009668015, -0.0139063625, 0.039985564, 0.0028160193, -0.008308689, -0.013822359, 0.060024165, -0.008705795, -0.018679276, 0.003736237, -0.003736237, -0.0025754643, 0.027827999, -0.032959834, -0.02352092, 0.013555076, -0.00036942353, -0.01800725, 0.043742802, -0.015250415, 0.010905154, 0.008110136, -0.020099696, 0.0050096507, -0.003688508, -0.017151944, -0.02674359, 0.027247611, -0.055319984, 0.0072662844, 0.008438512, 0.019168023, -0.021260468, 0.0031119399, 0.007426654, 0.009881841, 0.03292929, 0.0055289436, -0.020634262, 0.013623806, 0.0062162434, 0.020802269, -0.0008281006, 0.011546633, -0.0049561937, -0.012203386, 0.025659185, -0.018664002, -0.0088814385, -0.0010051756, -0.00088107993, -1.3751958e-05, -0.0049561937, 0.013157969, 0.0029630251, -0.013432889, 0.016235543, 0.0064529795, -0.022680888, -0.007919219, 0.014219466, -0.005185294, -0.0063804314, 0.007392289, -0.01933603, 0.011034978, -0.052845705, -0.001482467, -0.03256273, 0.028988771, -0.021825582, -0.020588443, 0.006811903, -0.042062737, 0.022818347, -0.000914013, 0.020084422, -0.017029757, -0.04976049, 0.03054665, -0.034212247, 0.005429667, 0.008461422, -0.014593662, -0.008278142, -0.008743978, 0.0019483035, -0.028011277, 0.033784594, -0.014059096, -0.033356942, 0.003413588, 0.01718249, -0.021932494, 0.01933603, 0.008713432, 0.021947768, -0.03256273, -0.0022909988, 0.011340444, 0.013913999, -0.003573958, 0.024177672, 0.002953479, -0.007102096, -0.0029477517, 0.026071565, 0.0044216276, 0.003493773, 0.011890284, 0.034670446, 2.7056456e-05, 0.010576777, -0.0029343874, 0.017289404, -0.0054029385, 0.042826403, 0.0054563954, 0.0506158, 0.003457499, 0.006502618, -0.007781759, -0.03253218, -0.01210411, -0.0035243197, 0.0101796705, -0.032135077, 0.020802269, 0.0022299055, -0.036808714, 0.015601701, 0.009782565, -0.0056358567, 0.021504842, -0.03262382, 0.00035200242, 0.064514525, -0.013898726, -0.0048951004, 0.019855322, 0.012905959, 0.032012887, -0.023688927, -0.048538625, -0.014952585, 0.009041809, -0.031065943, 0.00037586698, -0.020786995, -0.0074877474, 0.012776136, 0.004047431, 0.022283781, -0.006731718, -0.040504858, 0.0469502, -0.019198569, 0.043254055, -0.017381044, -0.03766402, 0.01846545, 0.02674359, 0.025659185, 0.0138529055, -0.011080797, -0.004532359, -0.021520115, -0.0092098145, -0.0076977555, 0.033540223, 0.014860945, 0.07050167, -0.021581208, 0.018266896, 0.006052055, -0.014960222, 0.01056914, 0.016327184, 0.006342248, 0.01819053, -0.032501634, 0.035861768, 0.0026671044, 0.024131853, -0.0061284215, -0.015265688, -0.012799046, 0.0048721908, 0.00590314, -0.011661183, -0.006189515, -0.006850086, -0.014631845, -0.012455396, -0.029874623, 0.014303469, -0.03077575, 0.0126081295, 0.034639902, -0.061918058, 0.0087210685, -0.05296789, -0.022375422, 0.007575569, -0.0013994183, 0.044964667, 0.019809503, 0.0008567381, -0.009400731, -0.000804236, 0.01741159, -0.012760863, 0.011248804, 0.013753629, 0.017747603, 0.02407076, -0.04804988, -0.006514073, -0.01233321, -0.0023616378, -0.071356975, -0.037602924, -0.04221547, -0.013471073, 0.027797451, -0.0019273027, -0.010065121, 0.002329182, -0.03766402, 0.018648729, 0.021627028, -0.0023826386, 0.014540205, -0.021061914, 0.017808696, -0.021107735, -0.04841644, -0.025185712, 0.026209025, -0.017625418, -0.007644299, -0.060421273, 0.009171631, -0.008178866, -0.01860291, -0.014853308, 0.006987546, -0.005567127, 0.00090780825, 0.023139087, -0.028057098, -0.01786979, 0.0005460214, 0.010798241, 0.043162417, 0.029294237, 0.035434112, 0.06488109, 0.023551466, 0.014922039, -0.02066481, 0.023490373, -0.011882647, 0.02223796, 0.03320421, -0.056664035, 0.011271713, -0.01626609, -0.0036102321, 0.014089642, -0.016556283, 0.0014347379, -0.043345697, -0.006388068, 0.026896326, 0.008866165, 0.0008820345, 0.026789412, -0.011027341, 0.028041825, 0.025598092, 0.014479112, -0.038641512, 0.007987949, 0.0234751, 0.012157567, 0.010905154, -0.032318354, 0.049546666, -0.008522515, 0.00031548963, 0.011538997, 0.006651533, -0.013432889, -0.030241184, -0.057397153, 0.008346872, -0.022925261, -0.004024521, 0.03050083, -0.021168828, -0.012302663, -0.03210453, -0.015975898, -0.020527348, 0.030485556, 0.0026002836, -0.026758865, -0.0227878, 0.013761265, 0.056633487, 0.016709017, -0.02880549, -0.060024165, -0.0052883886, -0.012531763, 0.020573169, -0.025414813, -0.0042039827, -0.022848895, -0.029202597, 0.027003238, -0.01695339, -0.013348886, 0.022069955, 0.013639079, -0.008522515, -0.031615783, 0.015242778, -0.047469493, -0.030012082, 0.06769138, -0.0012829592, -0.017701784, 0.005219659, 0.017396318, -0.015181685, 0.009706198, 0.030561922, -0.026377032, -0.016449371, 0.034426074, -0.011126617, 0.02935533, -0.012463033, -0.04084087, 0.0074457456, -0.00038469688, -0.018725095, 0.017213037, -0.016602105, 0.005257842, 0.009973481, 0.01947349, -0.016663197, -0.02848475, -0.041146338, -0.022772526, 0.031065943, -0.009606921, 0.014349288, 0.004692729, 0.032043435, -0.028668031, -0.0025029161, -0.0239333, -0.030424463, 0.01869455, 0.0051929303, 0.010508047, -0.051562745, 0.020618988, 0.032898743, -0.043681707, -0.022314327, -0.0023215453, -0.008568335, -0.0019798048, 2.2373035e-05, -0.04084087, 0.0099123875, 0.008942531, -0.00012397644, 0.0057122237, -0.021016095, -0.04139071, -0.0129899625, -0.007342651, 0.017487956, -0.01192083, -0.034028966, 0.012569946, 0.029660797, -0.013295429, 0.047377855, -0.07166244, 0.007609934, 0.018954197, 0.0027530168, -0.003736237, 0.023963846, 0.0030279367, -0.01800725, -0.014295832, -0.026193753, 0.017564323, -0.0028293834, -0.008239958, 0.021581208, 0.047744412, -0.035617393, -0.0050669257, -0.029889897, -0.014860945, -0.036350515, -0.03891643, 0.028209832, 0.0008409874, 0.047622226, -0.002766381, 0.014776941, 0.009545828, 0.007942129, -0.008736342, 0.037938938, 0.04377335, 0.020099696, 0.030409189, -0.020099696, 0.0085072415, -0.017518504, 0.0027740176, 0.017946156, -0.006559893, -0.03873315, 0.01901529, -0.009866568, 0.036900353, -0.029691344, 0.018297443, 0.015975898, 0.024544233, 0.0014576479, 0.035311926, -0.031951796, -0.006097875, 0.017029757, 0.019946963, -0.0059985984, 0.018159984, 0.04010775, -0.017946156, 0.015227505, -0.0014481021, 0.014089642, -0.0075679324, -0.01155427, -0.031799063, 0.023352914, -0.011684094, 0.01722831, 0.011630637, -0.031676877, 0.010737147, 0.0011397719, 0.009729108, 0.018450176, 0.006552256, 0.012386667, -0.0059260502, 0.027476711, -0.013394706, 0.0028389292, 0.03317366, -0.02287944, -0.009538191, -0.0015206503, 0.010508047, 0.043681707, 0.0029439332, -0.0010347677, 0.0038221495, -0.008262869, 0.03809167, -0.0013469163, 0.0033162206, 0.0040741595, 0.036350515, 0.0052082036, 0.006296428, 0.011134254, -0.04869136, 0.028606938, 0.0068653594, -0.036075592, 0.008896711, -0.031768516, -0.015235142, -0.027553078, -0.03604505, -0.01988587, 0.012127019, 0.022405967, 0.017564323, -0.020038603, -0.03867206, 0.0045819976, -0.012997599, 0.03540357, -0.008278142, 0.013211426, 0.04459811, -0.035800673, 0.036258873, -0.010866971, 0.015067135, 0.004459811, 0.0047003655, -0.032257263, -0.011882647, -0.0069264527, -0.007797032, -0.028790217, -0.002581192, 0.011264077, 0.029294237, -0.019748408, 0.020252429, -0.021413201, -0.0074686557, 0.019198569, 0.01741159, 0.0015359237, -0.020710628, -0.020710628, 0.0011903647, -0.022360148, -0.0063613397, 0.060390726, 0.02002333, 0.0066286228, -0.010401134, 0.024651146, -0.0077855773, 0.032409996, 0.03766402, -0.019030564, -0.03763347, 0.0069226343, 0.006456798, -0.00046130214, -3.9585357e-05, -0.026010472, 0.021123009, 0.033998422, -0.00045629058, -0.0012342755, 0.01617445, -0.018526543, 0.015296235, 0.0060635097, 0.017533777, 0.007319741, 0.0062811547, 0.01233321, -0.018114163, -0.0015111045, 0.0003639347, 0.001072951, 0.049271747, -0.016693745, -0.009767291, -0.010836424, 0.019595675, 0.04896628, 0.025445359, 0.048477534, 0.0123103, 0.009446551, 0.010630234, 0.034700993, -0.039741192, -0.049638305, 0.012073563, -0.0031272133, 0.0039023345, -0.02807237, -0.01681593, -0.0066438965, -0.021214647, -0.015540608, 0.114549935, 0.011661183, -0.03537302, 0.011057887, 0.004757641, -0.009416005, 0.018068343, 0.0027396525, 0.013761265, -0.024284586, -0.034151156, 0.04441483, 0.028148737, 0.0026327393, -0.03137141, -0.0056205834, -0.04258203, -0.025338447, 0.002443732, -0.0058305915, 0.019000016, 0.010676054, -0.0032474906, 0.036228325, 0.015777344, -0.026300665, 0.008446149, -0.0115848165, -0.01072951, 0.034517713, -0.004161981, 0.0042230743, -0.0049638306, -0.006472071, 0.031157583, 0.000588023, -0.025414813, -0.020481529, -0.022818347, -0.01594535, 0.028744398, 0.04713348, -0.023505647, -0.036228325, 0.044109363, -0.020160789, 0.035159193, -0.0061627864, -0.008094862, 0.0024723695, -0.03745019, -0.004139071, -0.019061109, -0.0050707436, -0.009805474, -0.035953406, -0.014295832, -0.023184907, -0.008377419, -0.0017354315, 0.006582803, 0.0221005, 0.0054411218, -0.0015483333, 0.018801462, 0.018495996, 0.006697353, 0.019091656, 0.02967607, 0.017442137, 0.03619778, -0.0099123875, 0.016128631, -0.0054258485, -0.053823195, 0.009492371, 0.012967053, -0.002164994, -0.015868984, -0.035495207, 0.037083633, -0.024544233, 0.0062735183, -0.03137141, 0.014792215, 0.03665598, -0.018297443, 0.00015583565, 0.0023482738, -0.0025220078, -0.006746991, 0.026468672, -0.014082005, 0.050646346, 0.012317937, -0.0050783805, 0.023704201, 0.028026551, -0.0079650385, 0.010355314, 0.004169618, -0.012134656, -0.0069035427, 0.0079115825, -0.0076939375, -0.010928064, -0.015403148, 0.034242794, 0.00021597436, 0.0011397719, -0.004937102, -0.014127825, -0.025017707, -0.020099696, 0.040993605, 0.0029840257, -0.01883201, 0.02674359, -0.015112955, 0.023597287, 0.00037252594, 0.0005212022, 0.0155253345, -0.012783773, -0.013921635, 0.009713834, 0.008957805, 0.021856127, 0.013180879, -0.0054831235, -0.0024131853, -0.008988352, -0.01313506, -0.030424463, 0.04120743, 0.002777836, 0.0030756658, -0.035709035, 0.0006753673, -0.033540223, 0.01782397, -0.022543427, -0.014944948, 0.021703394, 0.014250012, 0.041879456, -0.0069760913, -0.014379836, -0.01127935, 0.029920444, -0.010485138, -0.0101262145, -0.032776553, -0.021581208, -0.007850489, 0.005097472, 4.2538595e-05, 0.023001628, 0.015357328, -0.0067622648, -0.016388277, 0.016785383, 0.010256038, 0.012569946, 0.0010366769, -0.00040975466, -0.007865762, -0.008988352, -0.023307094, 0.0064262515, -0.016571557, -0.019274935, 0.0013049147, -0.052723516, -0.041971095, -0.010813514, 0.036136687, -0.0030966667, -0.00091305847, -0.001244776, 0.021123009, 0.032837648, 0.017319951, -0.019030564, -0.021260468, 0.0506158, -0.027033785, -0.024574779, 0.031081216, -0.0013440526, 0.019763682, -0.019931689, 0.01800725, 0.031157583, -0.02967607, 0.0007760758, 0.021061914, -0.024131853, 0.00085101055, 0.0021058097, -0.010798241, 0.02375002, 0.0038698786, 0.023734747, 0.0010443135, -0.037877847, -0.00037324187, 0.02269616, -0.050065957, 0.0133641595, 0.0032875831, 0.010088031, 0.028683305, -0.016709017, 0.004402536, 0.060787834, 0.019168023, 0.010500411, 0.010256038, -0.021306287, -0.029156776, -0.05177657, -0.009018898, -0.012692133, -0.0065293466, -0.0023673654, 0.0029572975, -0.03494537, 0.004139071, 0.016159177, -0.0017497502, -0.008400328, -0.0037648745, -0.041787818, 0.026865778, -0.035586845, -0.028225103, -0.020389888, -0.0069837277, -0.011202984, 0.0065217097, -0.025643913, -0.018526543, -0.013891089, -0.03091321, 0.019916415, -0.007327378, -0.021657575, -0.048996825, 0.038794246, -0.02706433, 0.0025983744, 0.038061127, -0.0022108138, -0.037480738, -0.034426074, 0.014708212, -0.015731525, -0.018740369, -0.04148235, -0.004814916, 0.0023349095, -0.0006157059, 0.07337305, 0.025964651, -0.005452577, 0.011386263, 0.024742786, 0.0029019318, -0.014853308, 0.0250788, 0.0012705497, -0.024803879, -0.03809167, -0.020756448, 0.03338749, 0.02443732, 0.0018929377, 0.0005331345, 0.014211829, -0.009965844, 0.020649536, 0.014608935, -0.03955791, 0.0070333662, 0.028545843, -0.026392305, 0.031310316, 0.02269616, -0.033692956, -0.008041405, 0.009247998, -0.011012067, 0.03653379, -0.01823635, 0.016938116, 0.006884451, 0.025979925, 0.020649536, -0.010332405, -0.0108822435, -0.018572362, -0.020160789, -0.008927259, 0.0032474906, 0.05144056, 0.039955016, -0.0022909988, -0.0027912, 0.015181685, 0.036503248, -0.010500411, -0.0058153183, 0.0013459617, -0.011027341, -0.0072357375, -0.0039023345, 0.020237155, -0.009660378, 0.007117369, 0.0069531812, -0.012592856, 0.016342457, 0.0019502126, 0.027950184, -0.039282992, -0.03848878, 0.009522918, 0.051410012, -0.0077626673, 0.003274219, -0.015128228, -0.03045501, 0.013845269, 0.023856934, -0.016938116, -0.03537302, -0.0018824373, -0.027812725, -0.023963846, -0.041237976, -0.01196665, 0.01805307, -0.0045438143, -0.017014483, -0.014272922, -0.013402343, 0.015655158, 0.0030852116, -0.028469477, 0.0031081217, 0.02452896, -0.04184891, -0.029752437, -0.008453785, -0.019809503, -0.0020447164, -0.009690925, 0.051348917, 0.0025888286, -0.0059184134, 0.0060826014, 0.017991977, 0.01121062, 0.022253234, -0.014326379, -0.00012600493, -0.026163206, 0.0075564776, 0.023383461, 0.0001665747, 0.023215454, -0.0051929303, -3.30226e-05, 0.026926871, 0.018938923, 0.029019317, 0.017075578, 0.009110538, 0.043254055, 0.011577181, 0.0041008876, -0.013600896, -0.020069148, 0.0043414426, 0.021184102, 0.009920024, -0.008446149, 0.027369797]}], 'model': 'text-embedding-3-small', 'usage': {'prompt_tokens': 2, 'total_tokens': 2}, 'monthlyCost': 0.005601139999999999, 'cost': 4e-08, 'monthlyRequests': 5}\n",
            "Cosine Similarity: 0.3275041307027394\n"
          ]
        }
      ]
    },
    {
      "cell_type": "code",
      "source": [
        "similarity"
      ],
      "metadata": {
        "colab": {
          "base_uri": "https://localhost:8080/"
        },
        "id": "XXSO_aEE2OQR",
        "outputId": "e683b87b-e57a-4aae-84b7-b631855aa5a0"
      },
      "execution_count": null,
      "outputs": [
        {
          "output_type": "execute_result",
          "data": {
            "text/plain": [
              "array([[0.32750413]])"
            ]
          },
          "metadata": {},
          "execution_count": 34
        }
      ]
    },
    {
      "cell_type": "code",
      "source": [
        "# Champion, Decision, Research, Elevation\n",
        "# Knowledge"
      ],
      "metadata": {
        "id": "azD7Vc4l2dEv"
      },
      "execution_count": null,
      "outputs": []
    },
    {
      "cell_type": "code",
      "source": [
        "# List of words\n",
        "# words = [\"Champion\", \"Decision\", \"Research\", \"Elevation\", \"Knowledge\"]\n",
        "# words = [\"Medicine\", \"Optimistic\", \"Essential\", \"Marketing\", \"Knowledge\"]\n",
        "# words = [\"Marketing\", \"Discovery\", \"Medicine\", \"Economic\", \"Knowledge\"]\n",
        "words = [\"Animation\", \"Ambitious\", \"Solution\", \"Marketing\", \"Knowledge\"]\n",
        "\n",
        "\n",
        "\n",
        "\n",
        "# Get embeddings\n",
        "embeddings = [get_embeddings(word) for word in words]\n",
        "\n",
        "# Calculate cosine similarity with \"Knowledge\"\n",
        "knowledge_embedding = embeddings[-1]  # Embedding of \"Knowledge\"\n",
        "similarities = []\n",
        "\n",
        "for embedding in embeddings[:-1]:  # Exclude \"Knowledge\" from comparisons\n",
        "    similarity = cosine_similarity([embedding], [knowledge_embedding])\n",
        "    similarities.append(similarity[0][0])\n",
        "\n",
        "# Output results\n",
        "for word, similarity in zip(words[:-1], similarities):\n",
        "    print(f\"Cosine Similarity between '{word}' and 'Knowledge': {similarity}\")"
      ],
      "metadata": {
        "colab": {
          "base_uri": "https://localhost:8080/"
        },
        "id": "hwfReYZZ2x_Q",
        "outputId": "1565f45b-c764-42aa-d999-cde6acfee7b1"
      },
      "execution_count": null,
      "outputs": [
        {
          "output_type": "stream",
          "name": "stdout",
          "text": [
            "{'object': 'list', 'data': [{'object': 'embedding', 'index': 0, 'embedding': [0.008169011, 0.03325774, -0.027390216, 0.026403863, -0.03201848, -0.0053996406, 0.030956253, 0.0014771558, -0.00043469004, 0.013290451, 0.027187886, -0.021080095, -0.008681156, -0.028654767, 0.018791255, 0.036469705, -0.04643438, -0.047951844, 0.05528625, -0.0129490215, 0.041527916, 0.011153356, 0.0010827734, 0.029944612, 0.008579991, -0.016439186, -0.009041553, 0.049140524, 0.016135694, -0.038417116, 0.019410886, -0.030652761, 0.047698934, -0.064492196, 0.042236064, 0.005089825, -0.015111406, 0.0023884242, -0.024393225, -0.05983864, 0.03682378, -0.052757144, -0.010495788, 0.042210773, 0.02918588, 0.051416717, -0.0061267586, 0.027010849, -0.006803294, 0.060496207, -0.023457456, 0.015642518, -0.015844848, 0.07395105, 0.0010606437, 0.038847063, -0.015263153, -0.0030728634, -0.018765964, 0.00446071, -0.02296428, 0.009863513, 0.0016865974, 0.003781013, -0.0069993, -0.003923275, -0.07030914, 0.036697324, 0.012335713, 0.0009460436, 0.019170621, -0.0035881686, -0.027415507, 0.030703343, -0.0008749125, -0.015983948, -0.02632799, -0.0109447045, 0.04160379, 0.027896035, -0.024469098, -0.0052352487, -0.009477824, -0.025076084, 0.0037778516, -0.049191106, -0.038644735, 0.0015957076, -0.022496395, -0.009610602, -0.004830592, 0.028528312, -0.044158187, 0.006759035, 0.05670255, 0.070157394, -0.023470102, -0.009028907, 0.028755931, 0.016565643, 0.06004097, -0.0387459, -0.0073027927, -0.026024498, 0.009199622, 0.03904939, -0.035786845, -0.00059868675, -0.043450035, 0.03062747, -0.051998414, -0.039555214, -0.047926553, 0.009092135, 0.015857494, -0.009009939, 0.09914094, 0.036419123, 0.012816243, -0.032954246, -0.026252117, 0.017855486, -0.01047682, -0.032397844, -0.012841534, -0.022875762, -0.010811927, -0.00072039996, -0.013239868, 0.0052067963, 0.020397238, -0.005111955, -0.039504632, -0.07759296, -0.024899045, -0.020890413, -0.02511402, 0.05048095, -0.040061034, 0.052504234, 0.01914533, 0.02180089, 0.0032277713, 0.020485757, -0.018626863, 0.049241688, -0.014491776, 0.020890413, 0.015490772, -0.010811927, -0.0342188, 0.03773426, -0.03763309, 0.008131075, -0.0022082254, -0.026960267, -0.033637106, 0.014074474, 0.0015166731, 0.011874151, -0.046940204, -0.043222416, 0.014175638, -0.038922936, -0.05000042, -0.031689696, -0.04567565, 0.034092344, -0.037961878, -0.017324375, -0.006891813, -0.032144934, -0.070157394, 0.032144934, 0.009250204, -0.00045484386, 0.025101375, -0.058472924, -0.023900049, 0.039099973, 0.04954518, 0.10672826, -0.05670255, 0.008902452, 0.0017466636, 0.020915704, 0.0077833226, 0.019676443, -0.014909078, 0.01210177, 0.008681156, 0.03854357, -0.00878232, 0.024810527, 0.019866126, -0.018513054, 0.0033131284, -0.02751667, 0.05331355, 0.007207951, 0.042084318, 0.023318354, -0.015958657, -0.06029388, -0.023760948, 0.009326077, -0.022420522, 0.003423777, 0.015035533, -0.0055640326, 0.05918107, -0.02845244, -0.034825787, -0.032878373, -0.04711724, -0.026024498, 0.040313944, 0.035078697, -0.03419351, -0.01772903, -0.013442197, 0.01578162, 0.065200344, 0.006847554, -0.0026223664, -0.003449068, 0.004027601, -0.010502111, -0.027086722, 0.023394227, 0.0008606863, 0.0062089544, 0.02508873, -0.01818427, 0.03399118, -0.0037620447, -0.002051737, -0.014175638, -0.019297076, 0.02369772, -0.03229668, 0.0021118033, -0.009933063, -0.014049183, -0.010976319, 0.032954246, 0.025834816, 0.010470497, -0.033333614, -0.034547582, 0.028250111, -0.018955648, -0.025392221, -0.011235552, 0.070157394, -0.016869135, 0.030779216, 0.04762306, -0.024152959, 0.053212386, 0.009585311, -0.018614218, 0.0004050521, -0.022584913, 0.016641516, 0.035559226, 0.024595553, 0.0079097785, 0.009743379, 0.0075936397, 0.00999629, 0.0040402464, -0.00514673, -0.00844089, -0.042640723, 0.050025713, 0.039150555, 0.03254959, -0.0029590537, 0.0574107, -0.037683677, -0.030323977, 0.05619673, -0.04810359, -0.08998558, 0.0081121065, -0.013290451, -0.003177189, 0.041527916, 0.03136091, 0.023280418, -0.013366324, -0.024557617, -0.020852476, 0.01029346, 0.061305523, -0.01662887, -0.00741028, 0.017501412, -0.0013910081, 0.049848672, -0.055640325, -0.018462472, 0.016654162, 0.00013574185, 0.049848672, -0.0052352487, 0.03014694, 0.04216019, 0.02706143, -0.017577285, 0.038138915, 0.014340029, -0.012866825, -0.03452229, 0.0010914672, 0.050607406, 0.058068268, 0.011564336, -0.04853354, -0.040566854, -0.04329829, -0.014934369, 0.007030914, -0.031892024, -0.042387813, -0.0058390726, 0.029362917, 0.048179463, -0.020763958, -0.024785236, -0.014934369, 0.029944612, 0.002952731, 0.08138662, -0.015591937, -0.012278808, -0.012696111, 0.029539954, -0.033384196, -0.052251324, -0.025683068, -0.054476935, -0.0067210984, -0.020169618, -0.017147336, 0.0068222624, 0.0005109584, -0.0014708331, 0.0061172745, 0.016224213, -0.00042164934, -0.01070444, 0.028604185, 0.000658753, -0.007814936, 0.044385806, 0.006923427, 0.0027899197, 0.03113329, -0.045802105, 0.028831804, 0.04304538, -0.0069803316, -0.025417512, 0.004919111, -0.0042552203, 0.009060522, 0.05311122, -0.020763958, 0.011994284, 0.019777607, -0.01971438, 0.010881477, 0.0015609324, -0.0005805088, 0.00033332824, -0.05240307, -0.035230443, -0.010419915, -0.018095752, 0.023887403, 0.0146308765, -0.03851828, -0.0376078, -0.018336017, -0.013910081, 0.009819253, -0.038922936, 0.03444642, 0.015604583, -0.031639114, -0.04233723, 0.022761952, 0.0009982064, -0.004972854, 0.047446024, 0.029008843, -0.001770374, 0.03492695, 0.012234549, -0.018146334, -0.03970696, -0.00862425, -0.01889242, -0.032499008, -0.004191993, 0.0109194135, 0.021585917, 0.023065444, 0.031942606, -0.02989403, 0.045827396, 0.029489372, 0.0010100616, -0.018348662, -0.021181261, -0.040617436, -0.0062974733, 0.05887758, -0.003030185, -0.0035692004, 0.0051087937, -0.028376566, -0.020119036, 0.044891626, 0.060243297, 0.011298779, 0.031462073, -0.0030728634, 0.023153963, 0.045195118, -0.03176557, 0.05548858, -0.005576678, -0.0005046356, 0.020890413, -0.028047781, 0.010577985, -0.016236858, -0.032144934, 0.002758306, 0.017159982, -0.007062528, -0.0079856515, -0.033358905, -0.058068268, -0.00035486516, -0.049444016, -0.038442407, -0.0085547, -0.016767971, -0.04046569, 0.034497, -0.0045144535, 0.017425539, 0.037456054, 0.03568568, 0.048053008, -0.016957654, 0.001228197, 0.016439186, -0.015920721, 0.033662397, 0.01600924, -0.011855183, 0.0063733463, 0.0144538395, -0.0013554426, 0.007580994, -0.018728027, 0.026960267, 0.09104781, 0.004271027, 0.0020043163, -0.015857494, 0.07314174, -0.064998016, 0.013416906, 0.032499008, 0.021712372, 0.007998297, -0.010122745, 0.018285435, -0.019107394, 0.08118429, 0.009869835, -0.03899881, 0.003622944, 0.002793081, -0.016224213, 0.002170289, 0.051846668, -0.012759338, -0.014883787, -0.042969506, -0.048280627, -0.018260144, 0.022382585, -0.02946408, 0.014769977, -0.062468912, -0.017906068, -0.016325377, -0.030576888, 0.0052510556, 0.0066894847, 0.01578162, 0.004511292, 0.010805604, 0.011488463, 0.022888407, -0.009155363, 0.022888407, -0.026252117, -0.017691094, -0.018121043, 0.022875762, 0.007745386, -0.013113413, -0.0132019315, -0.019929353, 0.004302641, -0.029261753, 0.0325243, -0.043879986, 0.017185273, 0.011874151, -0.0066894847, -0.030045776, 0.03965638, -0.0200811, -0.006031917, 0.0172485, -0.023836821, 0.0030001516, -0.0058295885, 0.022660786, -0.014314738, 0.0036640419, 0.015212571, 0.02282518, 0.046232052, -0.009275495, -0.02307809, 0.053920534, 0.0029843447, -0.0011602272, 0.015086115, -0.0006227923, 0.0027361761, -0.061153777, -0.026100371, -0.015882785, 0.021990575, 0.029160589, -0.02115597, -0.002451652, -0.001811472, -0.0059117847, -0.0056778425, 0.019157976, 0.04587798, -0.024507035, -0.013897436, 0.013720399, 0.0061773406, -0.011627563, 0.0145550035, 0.0101922965, -0.022445813, 0.018323371, 0.026100371, 0.009136395, -0.02703614, -0.00670213, 0.031082708, 0.0045776814, -0.0016897587, -0.0066009657, -0.053010054, -0.003433261, -0.0018857644, -0.01544019, -0.05715779, 0.012563333, -0.036191504, 0.020005226, -0.04092093, -0.0056936494, 0.043121252, -0.011608595, -0.043475326, 0.049975127, -0.02225613, 0.029034134, -0.005696811, -0.0048274305, -0.0146561675, -0.020346655, 0.033409487, -0.033333614, 0.009509438, -0.00633541, 0.026226826, 0.0047610416, -0.057562444, 0.0014708331, -0.026682066, -0.010723408, 0.010780313, 0.037279017, 0.023305709, -0.026960267, -0.030071067, -0.031183874, -0.0074418937, 0.0017877616, 0.047521897, -0.026960267, -0.011956347, 0.010628567, 0.04527099, 0.032701336, -0.004410128, 0.022180257, -0.03490166, 0.025240475, -0.005633583, -0.03487637, -0.019448822, 0.017476121, -0.010344042, 0.024140313, -0.024671426, -0.026100371, -0.018639509, -0.013113413, 0.019044166, 0.007486153, -0.03088038, -0.00089862285, 0.015541354, -0.0130248945, 0.026150953, -0.010906768, -0.012455845, 0.043197125, -0.026960267, -0.010577985, -0.006079338, -0.0081121065, 0.04193257, -0.0019964129, -0.0053300904, -0.049216397, -0.026176244, -0.012651851, 0.011640209, -0.058675252, 0.016767971, -0.00976867, -0.019082103, -0.0058137816, 0.008067847, 0.044562843, 0.020966286, 0.01495966, -0.032650754, -0.010325074, 0.01411241, 0.034168217, -0.017096754, 0.0019837674, 0.017324375, -0.034370545, -0.011539045, -0.0009444629, 0.013619234, 0.029868739, -0.017412893, -0.019309722, -0.013910081, 0.02355862, 0.019727025, -0.022724016, 0.052807726, 0.026656775, 0.015655164, -0.02449439, -0.02847773, 0.02033401, 0.03540748, 0.03803775, 0.0035344253, 0.02424148, 0.029843448, 0.009642215, -0.049444016, 0.006379669, 0.0035976528, 0.035230443, 0.0068538766, -0.015731037, -0.009028907, -0.037026107, 0.0051309234, -0.007511444, 0.027010849, -0.009616924, -0.04137617, 0.005070857, -0.01081825, 0.0032151255, -0.0021007385, -0.0011578562, -0.009547374, 0.02250904, -0.00076544966, -0.008396631, 0.0036893329, -0.0144285485, -0.023685075, 0.009819253, -0.0024168766, 0.00821327, 0.004435419, 0.035989173, 0.011336716, 0.00062160677, -0.019195912, 0.036672033, 0.041452043, -0.0065124473, 0.020194909, 0.028831804, -0.021118032, -0.033814143, -0.021181261, 0.0011491624, 0.02607508, -0.017627867, 0.014807914, -0.01040727, 0.025923334, 0.052453652, 0.02703614, 0.03373827, -0.02477259, -0.018310726, 0.00045681972, 0.0066325795, -0.03060218, 0.0049570473, -0.02236994, 0.008529409, 0.010154359, -0.04787597, 0.011652854, -0.026606193, 0.033611815, 0.0025875913, -0.007777, 0.029716993, -0.007403957, -0.03452229, 0.0070435596, -0.005560871, 0.01473204, 0.034395836, -0.029008843, -0.0129490215, -0.019132685, -0.037683677, 0.040086325, 0.013505424, -0.02706143, -0.005064534, 0.0313862, 0.010046872, -0.027314343, -0.0073091155, -0.008453536, 0.01914533, 0.028325984, 0.020321364, 0.016616225, -0.024418516, -0.0072332425, 0.0017371795, -0.022913698, 0.0071194326, 0.025784234, -0.025215184, -0.005418609, -0.00035763136, 0.011210261, -0.06590849, -0.008598959, 0.01340426, -0.004808462, 0.0108941225, -0.013505424, 0.013960663, 0.007789646, 0.051416717, -0.012304099, 0.0005172812, -0.028882388, -0.035078697, -0.008175334, 0.023874758, -0.008636896, 0.015414899, -0.019878771, -0.0438294, -0.004530261, -0.0068854904, -0.0033384196, -0.021623854, -0.0028278562, -0.0130754765, 0.016692098, -0.013391615, 0.011406267, 0.0028673736, 0.007562026, 0.061659597, -0.038948227, 0.016894426, -0.003449068, 0.0036355895, 0.023040153, 0.010217587, 0.032423135, 0.016907072, -0.0051909895, 0.0061868248, 0.006287989, 0.012961667, -0.015199926, 0.012367327, 0.0001625148, 0.0006488737, 0.03153795, -0.00089467113, -0.007808614, 0.019297076, -0.025973916, 0.012873148, -0.03824008, -0.03206906, 0.017362311, -0.012379972, -0.026302699, -0.01756464, -0.038341243, 0.021889409, 0.04668729, 0.015174634, -0.03773426, -0.002568623, 0.043146543, -0.01781755, 0.012961667, -0.023685075, 0.0016265311, 0.015743682, 0.00089467113, -0.007347052, 0.020207554, 0.015022888, 0.0052352487, -0.015313735, 0.0038790158, -0.0035723618, -0.00011222906, 0.020650148, 0.027541962, 0.012942699, -0.0026160437, -0.01280992, 0.007979329, -0.027794871, -0.00054020114, -0.014137701, 0.02239523, -0.000821169, -0.0022999055, 0.001381524, -0.0061836634, 0.0027804356, -0.021497399, -0.010925736, 0.0033384196, 0.021687081, -0.0036513964, 0.038973518, -0.008858193, -0.0009239139, -0.010483143, -0.026201535, 0.02321719, 0.016350668, -0.0029938288, -0.03396589, 0.0026160437, 0.0022746145, -0.045346864, -0.004634586, 0.027870744, -0.030501015, -0.017096754, 0.005102471, 0.012089125, 0.03227139, -0.011608595, -0.018677445, -0.011570659, 0.004081344, -0.003566039, -0.015642518, 0.0028325983, 0.008693801, 0.010217587, 0.030981544, -0.0028926646, 0.024127668, -0.016919717, -0.017425539, 0.00058643636, -0.0370514, -0.0061362428, -0.010413593, 0.021674436, -0.02819953, -0.031183874, 0.0010456272, -0.010540048, -0.020460466, -0.021826182, 0.0029859254, 0.011570659, 0.027263759, -0.012234549, 0.0023662946, 0.012342036, 0.01660358, -0.011203938, 0.024759945, 0.046737872, 0.002108642, 0.027440798, -0.027541962, 0.006752712, 0.012108093, 0.07764354, 0.035508644, 0.031740278, 0.024115022, -0.024431162, 0.0021102226, 0.0058390726, -0.030096358, 0.009597956, -0.001365717, -0.0023046476, -0.017779613, -0.020346655, 0.02152269, -0.04473988, -0.0052605397, -0.0032008993, 0.050303914, 0.023748303, -0.005500805, 0.033409487, -0.008984648, -0.013859499, -0.042691305, 0.029110007, 0.033004828, 0.0034427452, 0.020321364, -0.010160682, 0.0064555425, 0.045574486, 0.0044480646, 0.003044411, -0.04231194, -0.036444414, -0.022774598, 0.005368027, -0.04562507, 0.026024498, 0.012070157, 0.007030914, -0.025126666, 0.00612992, -0.014023891, -0.00045958592, 0.014137701, 0.04398115, 0.022787243, -0.0108941225, 0.006344894, 0.013303096, 0.017779613, 0.0069360724, 0.0006255585, 0.03136091, -0.02491169, 0.014403257, -0.020296073, -0.015339026, -0.020978931, -0.0043785144, -0.0016178373, -0.07314174, -0.0019979936, 0.006069854, 0.0021845151, 0.01603453, -0.043197125, 0.056854296, -0.035786845, -0.0077390634, -0.015591937, 0.02822482, -0.015579292, -0.014099765, 0.02225613, -0.03682378, 0.009098458, -0.0012218741, -0.00092944637, -0.017944004, -0.016894426, -0.015199926, -0.027718998, -0.037683677, -0.0078844875, 0.0013562329, -0.006866522, 0.02943879, -0.0015704166, 0.00047223145, -0.03201848, -0.012057511, -0.002415296, -0.0050329203, 0.006310119, -0.022382585, -0.0037588833, -0.016869135, -0.0018604734, -0.020043163, -0.012866825, -0.0005978964, 0.020055808, -0.032397844, 0.0011926314, 0.015579292, -0.058068268, 0.05126497, 0.00562726, 0.0060730153, -0.0064998018, 0.021674436, 0.027162595, -0.008131075, -0.013707753, 0.04903936, -0.009275495, -0.004097151, 0.009692797, -0.03371298, 0.02369772, -0.0202202, 0.003581846, -0.04251427, -0.015427545, 0.0060445624, -0.0021497398, -0.0024579747, 0.010660181, 0.0032657078, -0.003961212, -0.00035348203, 0.02822482, -0.027466089, -0.008118429, -0.02403915, -0.02655561, 0.0016051917, 0.001379153, 0.010755022, -0.004656716, 0.042640723, -0.0145297125, 0.023116026, 0.034825787, -0.013239868, 0.008845547, 0.0035723618, 0.003540748, -0.0013783626, -0.028553603, -0.0061741793, 0.0018905065, -0.0020343494, 0.034749914, 0.00258443, -0.0075177667, -0.028781222, -0.010963674, -0.0146561675, -0.02042253, 0.008750706, 0.029514663, 0.018538345, -0.005213119, 0.008390308, 0.007922424, -0.061558433, -0.0116212405, -0.008238561, 0.016932363, -0.0053806724, -0.0022382585, 0.00203593, 0.004584004, 0.02033401, 0.024228834, -0.011178647, 0.017476121, -0.012304099, -0.029514663, -0.019663798, -0.0145550035, -0.0066262567, -0.05265598, 0.044841044, -0.00718266, -0.018614218, -0.020574275, 0.009364014, 0.12028427, -0.03730431, -0.009186977, 0.009389305, 0.04135088, -0.017147336, 0.003913791, 0.023065444, -0.03596388, -0.026479736, -0.0058548795, -0.024102377, -0.0007907407, -0.029615829, 0.010647535, -0.0018873451, 0.009964677, -0.026378572, 0.0045934883, -0.011279811, 0.0010804023, 0.031512655, 0.0013388454, -0.0061362428, 0.013606588, -0.0094904695, 0.014845851, 0.00069036684, 0.026302699, 0.023760948, 0.015882785, -0.019195912, -0.0071700145, 0.011545368, 0.026606193, 0.012455845, -0.015212571, -0.040035743, -0.018196916, 0.018260144, -0.00899097, -0.009370336, -0.0057695224, -0.03492695, 0.010204942, -0.03257488, -0.0171094, -0.02822482, -0.0027235306, -0.0023093896, -0.031259745, 0.032397844, 0.0124748135, 0.0041097966, 0.011045869, -0.015933366, -0.026580902, 0.027794871, 0.0202202, -0.010862509, 0.00306496, 0.0043279324, -0.024077086, -0.0068349084, -0.030248104, 0.0065630293, -0.015199926, -0.036419123, -0.0072775017, -0.00083381456, 0.017071463, -0.012607592, 0.017210564, -0.0031613822, -0.006303796, 0.012038543, 0.016224213, 0.0024263607, -0.009977322, 0.017299082, -0.030930962, 0.048584122, 0.031082708, 0.017615221, -0.0058295885, 0.018652154, 0.015844848, -0.035761554, -0.011026901, -0.0030365076, 0.014011245, -0.026176244, 0.029767575, 0.0076378994, 0.030551597, -0.0020296073, -0.03947934, 0.0013989116, -0.005706295, -0.017918713, -0.017615221, 0.021737663, -0.0076884814, -0.016780617, -0.011260843, -0.007808614, -0.023128672, 0.015225217, -0.01733702, -0.0037968198, 0.028831804, -0.008934066, 0.056095563, -0.01473204, 0.033637106, 0.011406267, 3.438003e-05, -0.02728905, -0.013593943, -0.04165437, -0.0072648562, -0.028300693, 0.01436532, -0.01784284, 0.021244489, -0.002900568, 0.0123230675, 0.010091132, 0.0006662613, -0.02271137, -0.020043163, 0.026454445, -0.002639754, -0.010868832, -0.029261753, -0.009863513, -0.01077399, -0.0025512355, -0.02140888, -0.016085112, 0.030703343, -0.015086115, 0.048027717, -0.025581904, 0.031234456, 0.044942208, 0.06737538, 0.0034427452, -0.004419612, -0.011178647, 0.002511718, -0.046333216, -0.012923731, 0.009243881, 0.00033609444, 0.005292154, -0.06661665, 0.017438184, 0.010723408, 0.000464328, -0.007966683, -0.016907072, 0.008769674, -0.019157976, 0.012797275, -0.024013858, -0.04562507, -0.010761345, -0.023394227, -0.012304099, 0.009161686, -0.04087035, -0.016072467, -0.008731738, 0.022635495, -0.026985558, 0.0076062856, 0.029539954, -0.039099973, -0.014909078, -0.01473204, -0.015149343, 0.018475117, 0.025493385, 0.016160985, 0.017539348, -0.0202202, -0.014491776, -0.018829191, -0.056500223, 0.006778003, -0.02056163, -0.022041157, 0.048255336, 0.003755722, -0.0062500527, -0.0014834786, -0.0057442314, 0.017944004, 0.022294067, -0.0050360817, -0.016198922, -0.013239868, -0.017488766, 0.027213177, -0.0024990726, -0.007947715, 0.0062216, -0.00015638962, -0.017273791, 0.016527705, -0.013265159, 0.016110403, 0.0047041364, -0.010736054, 0.012070157, 0.0025923334, 0.039555214, 0.009977322, 0.011336716, -0.029843448, 0.031462073, 0.01107116, -0.025316348, -0.0034111312, -0.005358543, -0.01758993, 0.0003337234, 0.03399118, -0.01877861, -0.019044166, 0.043728236, -0.010419915, 0.006594643, 0.05432519, 0.0047768485, -0.052200742, -0.009022584, -0.00033174755, 0.015199926, 0.0010195457, 0.002303067, -0.019524695, 0.01436532, -0.0053047994, 0.027921326, 0.036494996, -0.0064745108, -0.027567253, 0.056601387, 0.028275402, 0.006287989, -0.0027994039, 0.015933366, -0.025746295, -0.011608595, 0.041022096, -0.022268776, -0.008832902, 0.038467698, -0.017147336, -0.008232239, 0.03181615, -0.0219147, -0.04615618, 0.0022572267, -0.0002902544, -0.0071004643, -1.912883e-05, 0.022420522, 0.013328387, -0.026960267, -0.023963276, 0.0172485, 0.0031613822, -0.001102532, 0.001953734, -0.040136907, 0.009408273, -0.038417116, 0.002573365, -0.01482056, -0.005333252, -0.009496792, 0.01758993, -0.028958261, -0.037177853, 0.024936981, -0.022319358, -0.022736661, -0.021358298, 0.009092135, 0.031917315, -0.031942606, 0.015516063, 0.00651877, 0.016616225, -0.010508434, 0.027010849, 0.005956044, -0.0059623667, 0.021446817, 0.033890016, -0.010008936, 0.018336017, 0.016843844, -0.005756877, 0.009648538, 0.012000606, -0.011817247, 0.020156972, -0.011456849, -0.04759777, -0.004707298, -0.00026911264, 0.033105996, -0.0072269198, -0.01614834, 0.008510441, 0.022749307, 0.009667506, -0.014390611, 0.022192903, -0.021952638, -0.006287989, 0.016540352, 0.00633541, -0.009028907, 0.011931056, 0.02024549, 0.020548984, -0.0059275916, 0.0066325795, -0.03995987, 0.026125662, -0.025834816, -0.020270782, 0.019170621, 0.011418913, -0.02420354, 7.612015e-05, -0.019790253, -0.02822482, 0.0035470708, -0.00029875062, 0.002255646, 0.0068349084, 0.031613823, 0.0025749458, 0.0076631904, -0.011987961, 0.017374957, 0.00016498462, 0.020966286, -0.015124052, -0.03444642, 0.021851473, 0.0016186277, 0.0075493804, 0.013758335, -0.006420767, -0.021535335, 0.02449439, 0.0087633515, -0.0035881686, 0.012860502, -0.0065883202, -0.01925914, 0.010647535, -0.028528312, -0.010375656, -0.021472108, 0.0071004643, -0.0011191292, 0.009484147, -0.057107206, -0.001054321, -0.0068222624, -0.002399489, -0.0030412497, -0.030728634, -0.047521897, -0.02703614, 0.033586524, 0.009945708, 0.012025897, -0.023280418, -0.027693707, 0.003044411]}], 'model': 'text-embedding-3-small', 'usage': {'prompt_tokens': 1, 'total_tokens': 1}, 'monthlyCost': 0.005601619999999996, 'cost': 2e-08, 'monthlyRequests': 21}\n",
            "{'object': 'list', 'data': [{'object': 'embedding', 'index': 0, 'embedding': [0.012890835, -0.018035065, -0.0060520354, 0.028656386, -0.031349543, 0.023209555, -0.014888006, 0.017883765, -0.012436932, -0.017097, 0.010174984, -0.00045390264, -0.017868634, -0.02761241, -0.02375424, 0.03764366, -0.047236133, -0.067238115, 0.0343453, -0.025010036, 0.059400726, 0.024737693, -0.016991088, 0.0081399875, -0.010507846, 0.021545246, 0.0068804077, 0.017414732, 0.007383483, -0.02911029, 0.035646487, -0.03979213, -0.007928167, -0.02233201, -0.0014420865, 0.070990376, 0.015152783, 0.011831729, 0.00040874878, -0.0109541835, -0.009562216, -0.040911756, 0.012837879, 0.004202382, -0.008359374, -0.02581193, -0.014872877, 0.007822256, 0.031470582, 0.052440885, 0.0007782539, 0.018216627, 0.024450222, 0.05837188, 0.005957472, -0.03097129, 0.0010260091, -0.015705032, -0.02752163, 0.046267807, -0.00049787445, -0.042243205, 0.021378815, -0.028489957, -0.00428938, -0.028716907, -0.0125201475, 0.024465352, 0.033588797, 0.01729369, -0.008329113, 0.024208141, -0.04136566, -0.008094597, 0.013102656, -0.052077763, -0.01559912, 0.015258694, -0.042515546, 0.014381149, -0.019941457, -0.0063432893, -0.023618067, 0.006354637, -0.014214718, -0.05331843, -0.054226235, -0.028641257, -0.013049701, -0.011423216, 0.038460683, 0.03619117, -0.008684671, -0.00055272103, 0.033316452, 0.0007286083, 0.008661975, 0.01114331, -0.0008066228, 0.024193011, 0.02044075, 0.00873006, 0.007928167, -0.015266259, -0.012671448, -0.026144791, -0.009229354, -0.037734438, 0.022453051, 0.001195277, -0.11559387, -0.05846266, 0.03234813, 0.033134893, -0.008200508, -0.028096573, 0.010379241, 0.032438908, 0.0051328824, -0.010515411, 0.011544257, 0.0007867646, -0.014207153, 0.0027706975, -0.023058254, -0.017566033, -0.002252492, 0.03280203, -0.040942017, -0.0344966, 0.045632344, -0.03274151, 0.023300335, -0.012391542, -0.05331843, 0.015031743, -0.028565606, 0.00860902, -0.04820446, 0.005276618, -0.032136306, -0.0032870115, 0.038309384, 0.0049437564, -0.018579748, -0.0117636435, 0.0060974252, 0.01877644, -0.034072958, 0.0032586427, 0.006948493, 0.025660628, -0.023512157, 0.0012491778, 0.01907904, -0.019729635, -0.013730555, -0.029806273, -0.016022764, -0.050020073, -0.03461764, -0.054226235, 0.00056595984, -0.034859724, 0.040669676, 0.017414732, -0.043695696, -0.011922509, -0.050262153, 0.008298853, -0.050201632, 0.0063395067, -0.033528276, 0.04826498, 0.0027952837, 0.013715425, -0.014093677, -0.014426539, -0.03782522, -0.031924486, 0.01903365, 0.086604625, 0.04139592, -0.03231787, -0.031682406, 0.04318127, -0.0016690379, 0.03649377, 0.0011981139, 0.022861563, -0.022695132, 0.05201724, 0.028550476, -0.010091769, -0.03119824, -0.07044569, 0.05849292, 0.024435092, 0.036433253, 0.009562216, -0.023542417, -0.006710194, 0.035374146, -0.015629381, -0.026810516, -0.0017948067, -0.0044028554, 0.019684244, 0.019971715, -0.015326779, 0.066753946, -0.014040722, 0.0026988294, 0.018473838, -0.015349475, -0.009910207, 0.023254946, -0.027839363, 0.011967899, 0.02576654, 0.00080473156, 0.0031130156, 0.013291783, -0.005095057, 0.01717265, 0.04623755, -0.026220443, -0.032015268, -0.027234158, -0.015886592, -0.020349968, -0.08043155, -0.045329742, -0.02242279, -0.049263567, 0.009683256, 0.035434667, 0.0030676255, 0.014358453, 0.031954747, 0.0038770852, -0.011635038, 0.009668127, -0.0109012285, -0.004849193, 0.012111636, -0.0072927023, -0.019971715, -0.06288064, 0.016854918, -0.003078973, -0.0055111344, -0.008646845, 0.0064529823, -0.0060331225, 0.033861138, -0.039126407, 0.0014855855, 0.028459696, -0.002899303, 0.007829821, 0.0517449, -0.021651156, 0.017959414, 0.048930705, 0.040185515, -0.0025040295, 0.03655429, 0.031591624, -0.055830024, -0.052380364, 0.003918693, 0.013367433, -0.00012234095, -0.024798214, -0.0077541703, 0.01918495, 0.0068388, -0.03301385, 0.039913174, -0.035434667, -0.016930569, 0.010863403, -0.03280203, 0.03628195, 0.0057078255, -0.0040132557, -0.028020922, 0.026553305, -0.01885209, 0.0084652845, -0.04160774, -0.013412823, -0.06409106, 0.02738546, -0.024662044, -0.009978293, -0.090720005, 0.022952344, 0.029670103, 0.09810349, 0.05325791, -0.006592936, -4.701557e-05, 0.017898895, -0.019381642, 0.0039376053, 0.034284778, 0.0018818047, -0.014827486, 0.03089564, 0.006766932, 0.004391508, -0.032136306, -0.019245472, -0.041638, -0.024435092, -0.019290863, 0.012436932, 0.01906391, -0.052440885, -0.018246885, 0.006135251, 0.007266225, -0.023618067, -0.020955171, -0.0014137176, 0.009032663, 0.054377537, -0.0040737763, -0.021091342, -0.009766472, 0.005333356, -0.013140482, 0.006297899, -0.031833705, 0.03283229, -0.0153872995, 0.061034776, -0.0009153703, -0.0290649, -0.042152423, -0.028384045, 1.731686e-05, 0.006297899, -0.010749928, 0.028626127, -0.0026269616, 0.058765262, 0.0585837, 0.021530116, -0.02917081, 0.02911029, 0.06917476, -0.030139135, -0.0447548, -0.02560011, -0.01201329, -0.028126834, 0.062214922, -0.0124671925, -0.011120615, -0.0059082992, 0.009955598, -0.029851664, -0.0018647833, 0.005064797, 0.0056851306, 0.008684671, 0.0018033173, -0.009902643, 0.049082007, -0.011793904, -0.04660067, -0.008382069, 0.015674772, -0.014018026, -0.0103035895, 0.006267639, 0.023950929, 0.0072889198, 0.0480229, -0.011597212, -0.017929154, -0.031379804, 0.0027423284, -0.005620828, -0.03997369, -0.0044898535, -0.027097987, 0.016718747, 0.024631783, 0.014002897, 0.017263431, 0.012308327, 0.010069073, 0.034072958, 0.029428022, 0.016764138, 0.010870968, -0.039005365, -0.03579779, -0.015485645, -0.029654972, 0.03582805, -0.012648754, -0.0012113526, 0.0021125386, 0.0050685797, -0.040548638, 0.005333356, -0.027688062, 0.06524094, 0.021182124, 0.038944848, -0.014002897, 0.009100748, -0.01300431, -0.0045579392, 0.019880936, -0.015145218, -0.026114533, 0.019986846, -0.031773183, 0.073653266, -0.010553236, 0.036766116, -0.0081929425, 0.037068717, -0.016839787, 0.030577907, 0.024283791, 0.019699374, 0.018640269, -0.036705595, 0.032227088, -0.0017825135, -0.034859724, -0.026265834, -0.007565044, 0.0033740096, -0.012497453, -0.062638566, 0.016098414, -0.045329742, -0.0076179993, -0.008003817, -0.012020855, -0.050958138, 0.011650167, -0.015137653, -0.032438908, -0.05150282, -0.013594384, -0.007088446, -0.011975464, 0.02926159, -0.031682406, 0.06324377, 0.002884173, 0.015750421, -0.003109233, 0.016431276, -0.048900444, 0.0028217614, -0.017006218, -0.01544782, 0.02071309, -0.08031051, -0.031773183, -0.007455351, 0.030018095, -0.001054378, 0.015379734, 0.045117922, 0.016068153, 0.029942444, -0.034557123, -0.045844167, -0.02068283, -0.019109301, -0.015288954, -0.012474758, 0.03458738, -0.050776575, 0.029654972, -0.019472424, 0.01904878, 0.012293196, -0.038763285, 0.015629381, -0.0013125351, 0.059128385, -0.019956587, 0.043877255, -0.06614874, -0.019003391, -0.044149596, -0.00941848, -0.026613824, 0.060701914, -0.076800324, -0.039307967, 0.08436537, 0.03252969, -0.04690327, -0.011097919, 0.016688487, -0.023678588, 0.05704043, -0.049293827, 0.014403844, 0.021923497, -0.038581725, 0.01286814, -0.009009968, 0.03576753, 0.05543664, 0.011725818, -0.0077844304, -0.043574654, 0.012232676, 0.007882776, 0.009380654, 0.0071414015, -0.006335724, -0.011756078, 0.029700363, -0.02240766, -0.005821301, 0.039852653, -0.014434104, 0.010091769, 0.004913496, -0.03492024, 0.0076558245, -0.01114331, 0.019502683, -0.0042780326, 0.037976522, 0.01730882, 0.021590635, 0.011400522, 0.0036841764, -0.03758314, 0.009577346, 0.03973161, 0.021923497, 0.0030449303, -0.024873864, 0.005223663, -0.0025418547, -0.0016000068, -0.042576067, 0.055648465, -0.026175052, 0.012285631, -0.024828475, 0.048143942, 0.013511169, 0.02746111, -0.015810942, -0.0010959858, -0.026780255, 0.024480483, 0.0290649, -0.0085182395, -0.016627967, 0.01541756, -0.0051896204, 0.0065172855, -0.027143378, 0.024616653, -0.0059650373, 0.04160774, -0.02077361, 0.035616226, -0.0011281372, 0.027249288, -0.012951355, -0.01868566, -0.029806273, -0.0023735326, -0.026704606, -0.026447393, -0.013647339, 0.0346479, 0.006608066, 0.012391542, 0.0256455, 0.016234584, 0.023481896, 0.040246036, 0.007614217, -0.050564755, 0.0077541703, -0.0016766029, -0.02239253, -0.018640269, 0.0055186995, 0.06681447, -0.051139697, 0.020879522, -0.011778774, -0.03582805, -0.014434104, -0.034768943, -0.0014543798, -0.01904878, -0.019442163, -0.0105229765, 0.02216558, 0.012421803, -0.0038222384, -0.0078146905, 0.00557922, 0.0028160876, -0.012830314, 0.064454176, -0.03782522, 0.014403844, -0.015810942, 0.0034023786, 0.07044569, 0.0026004838, -0.0020387794, -0.03437556, -0.011748513, 0.030608168, 0.013329607, 0.028913599, 0.014275238, 0.031954747, 0.019563204, -0.017369341, 0.014123937, -0.01126435, 0.013760815, -0.0019234124, 0.008230768, 0.014101242, 0.017520642, 0.001405207, 0.009690821, 0.022982603, -0.04263659, -0.013110221, 0.015780682, 0.014502189, 0.020349968, 0.030245045, 0.000491255, 0.03078973, -0.033437494, 0.022059668, -0.048749145, -0.0141995875, -0.030744338, -0.028384045, 0.03440582, -0.038763285, -0.026402004, -0.008798147, 0.020213798, 0.014540015, 0.02738546, -0.011824164, 0.0076482594, 0.014222283, -0.006173076, 0.018867219, -0.00026193965, 0.035616226, 0.008109727, 0.0020709308, 0.00022695132, 0.0034212912, -0.019941457, 0.006354637, -0.020909782, 0.0657251, 0.0013115895, -0.0052425754, 0.035283364, 0.0023943365, -0.008692236, -0.004970234, 0.01544782, 0.013760815, 0.016703617, -0.004194817, 0.040942017, -0.021303164, -0.012633624, 0.048386022, -0.017687073, 0.036372732, 0.0225287, -0.02572115, -0.03976187, 0.00031442216, 0.036766116, -0.0016009525, -0.023406247, -0.022468181, -0.00128984, 0.014865312, 0.028005794, 0.02080387, 0.0032227088, -0.02738546, -0.028853077, -0.0138742905, 0.01021281, 0.002543746, 0.010568366, -0.025963232, -0.007096011, -0.012406672, -0.032438908, -0.009758906, -0.018746179, -0.037976522, 0.0022638394, -0.0013286108, 0.017777853, 0.040972278, 0.008245898, -0.0074969586, -0.024480483, 0.041668262, 0.019321123, -0.00773904, 0.004921061, -0.006252509, 0.019502683, -0.033830877, -0.005927212, -0.008677105, 0.068388, 0.045995466, -0.03918693, -0.0102506345, -0.012694144, -0.0020822783, -0.011967899, 2.3522558e-05, 0.024329182, -0.027082857, 0.015107393, -0.05177516, 0.014320629, 0.008510674, -0.04971747, 0.013791075, -0.013450649, -0.032227088, -0.00010484678, -0.009191529, -0.019653983, 0.004565504, -0.0072624423, 0.005847779, -0.025463939, -0.018867219, -0.009017533, 0.02909516, 0.0016576903, 0.027809102, 0.02054666, 0.022029407, 0.0019404338, 0.019790156, -0.025297508, -0.0030316913, 0.0149031365, -0.026871037, -0.008820841, 0.008450154, 0.03307437, 0.00559435, 0.008382069, -0.04315101, 0.009562216, -0.0025380722, -0.0002626489, 0.0069901007, -0.008639281, -0.028126834, -0.015167913, -0.016900308, 0.014184457, -0.016310235, -0.010227939, -0.008147553, 0.033861138, -0.021787327, -0.055527423, -0.008049207, 0.04829524, 0.015099828, -0.015659641, -0.0030657342, 0.0040321685, 0.025569849, 0.026704606, 0.00030496583, 0.021393944, -0.027294679, 0.015871461, 0.0051820553, 0.02078874, -0.007065751, -0.045299485, -0.014502189, -0.026341483, -0.017717334, -0.009509261, -0.01117357, -0.0383699, 0.028232744, -0.016370755, -0.019200081, -0.020213798, 0.024813345, 0.016733877, -0.045692865, 0.03958031, 0.026916426, -0.03755288, 0.027824232, -0.0022449268, 0.019502683, 0.027703192, -0.021000562, 0.007470481, 0.0014439778, -0.03948953, -0.02743085, 0.050473973, -0.015319214, 0.04299971, 0.009055357, 0.028384045, 0.034012437, 0.014101242, -0.00847285, 0.015062002, 0.02239253, -0.0138742905, -0.017914025, -0.05198698, 0.00730405, -0.040669676, -0.018610008, -0.00934283, -0.022967475, -0.0009692713, 9.29673e-05, -0.002413249, -0.001778731, -0.0144719295, 0.018746179, -0.030396346, 0.026296092, 0.0017702203, 0.03631221, 0.0032208175, 0.0064302874, 0.018549487, -0.029942444, 0.012905965, 0.004762195, -0.014350888, 0.008677105, -0.012361282, 0.010795318, 0.010477586, 0.012686579, 0.047690038, 0.04983851, -0.0029730622, 0.0064605474, 0.006691281, -0.004652502, 0.013965071, -0.0017125368, 0.029700363, 0.015841203, -0.0205164, 0.0052993135, -0.005405224, -0.02063744, 0.03098642, -0.011778774, -0.01372299, 0.021968888, 0.03255995, 0.019880936, -0.019563204, 0.011211395, -0.016022764, 0.014691316, -0.00015969336, 0.006759367, 0.013579254, -0.0055489596, -0.010311155, 0.03234813, 0.015016613, -0.012550408, 0.026220443, -0.013148046, -0.01552347, -0.042787887, 0.040397335, 0.011014704, -0.0069447104, 0.03634247, -0.042031385, 0.013488473, 0.021303164, -0.0035385494, 0.007107359, -0.027309809, 0.011899814, -0.020213798, 0.023436507, 0.030048355, 0.003979213, 0.04124462, -0.04263659, -0.030078614, 0.008389634, -0.024556132, -0.023088515, -0.016340494, -0.0033967048, 0.021545246, 0.03228761, -0.0020463443, 0.035918828, 0.004868106, -0.01031872, -0.009062923, -0.011945205, -0.016522055, 0.02561524, 0.00028723528, -0.0134430835, 0.06657239, -0.037250277, 0.03225735, -0.024677174, 0.031894226, 0.0015640728, 0.002904977, -0.006078513, 0.004005691, 0.0077919955, -0.0023659675, 0.0057153907, 0.018458707, -0.012724404, -0.0136776, 0.0073683527, -0.0072700074, 0.021257773, -0.026507914, -0.007326745, -0.019790156, -0.005325791, 0.061458416, 0.04481532, 0.0080870325, 0.010106899, 0.022226099, 0.019200081, 0.009834557, -0.028913599, 0.027097987, 0.046782233, 0.009131008, 0.00079243834, 0.022574091, -0.0022997733, 0.042606328, -0.0019877153, -0.003565027, -0.029518802, -0.05313687, -0.042333987, -0.015432689, 0.023209555, 0.043786474, -0.014335758, -0.024071971, -0.032923073, -0.0101976795, -0.020077627, 0.017006218, 0.016355624, 0.01198303, 0.03259021, -0.02387528, -0.038702764, 0.040911756, -0.035374146, -0.01126435, -0.026205312, -0.011975464, 0.027309809, -0.0006383006, 0.016143804, -0.036735855, -0.0045881993, -0.0057721287, -0.028626127, -0.00086525193, -0.00873006, -0.04672171, 0.04484558, 0.040548638, 0.0293675, -0.0041267313, -0.039913174, 0.021999149, 0.00092813635, 0.029382631, 0.016854918, 0.032136306, -0.022816172, 0.021514986, -0.019638855, 0.017399602, 0.016794398, -0.018594878, 0.0011139527, -0.0032113611, -0.014282803, -0.015780682, -0.010432196, -0.008049207, -0.00032151438, -0.0077049974, 0.0044406806, -0.025660628, -0.034738682, 0.04136566, 0.017641682, -0.010696972, -0.0037768483, -0.013791075, 0.004315858, -0.03437556, -0.015311649, 0.01285301, -0.028429436, 0.041002538, -0.0025059208, 0.003587722, -0.009660562, 0.0009252994, -0.005325791, -0.02080387, 0.0009768363, 0.022725392, -0.014630795, 0.0033134893, -0.0032246, 0.028898468, -0.0025475286, 0.013934811, 0.0047054575, -0.031712666, -0.024389701, 0.019744765, -0.056102365, 0.0042439895, 0.036766116, -0.042273466, 0.00646433, 0.0225287, 0.014214718, 0.025146207, -0.036826633, -0.0005172599, 0.03951979, 0.015568861, -0.006695064, -0.008351808, -0.002587245, -0.0034969416, 0.028550476, 0.02923133, 0.030865379, -0.003406161, -0.008321549, 0.028005794, -0.0044595934, 0.018579748, 0.027067728, -0.003086538, -0.008170247, -0.006471895, 0.00773904, 0.014350888, -0.043937776, 0.006679934, 0.023633197, -0.010689408, 0.045329742, -0.016703617, -0.014857747, -0.0016491796, 0.015826073, -0.0058288663, -0.002687482, 0.0045087663, -0.013132917, -0.0073683527, -0.012353716, 0.019245472, -0.013556559, 0.0034723552, 0.0071489667, -0.04142618, -0.005344704, -0.018625138, -0.005552742, 0.011052529, -0.0021409076, 0.049505647, 0.0048756707, -0.005507352, -0.0023338161, -0.0034307474, -0.013995332, 0.008813276, 0.007345658, -0.013427953, -0.02749137, 0.017535772, -0.028913599, -0.012240241, -0.01868566, 0.011324871, 0.1028846, -0.0043952907, -0.04959643, -0.00601421, -0.009728647, -0.024767954, 0.007670955, -0.03228761, -0.0057569984, 0.0076633897, -0.0010581606, 0.018579748, 0.021893237, 0.016627967, 0.018867219, -0.030426607, -0.017596293, -0.0447548, -0.02560011, -0.023451636, 0.007614217, 0.052561928, -0.023814758, -0.006717759, -0.030290436, -0.019427033, 0.0098194275, 0.0026288528, 0.015394865, -0.0015583991, -0.011166005, 0.017732464, -0.023799628, 0.0026004838, 0.032983594, 0.00043829973, -0.03410322, -0.019275732, -0.010976879, -0.031894226, -0.02411736, 0.03770418, 0.0026420916, -0.0137683805, 0.019850675, -0.057554856, -0.000116667165, 0.019956587, -0.008911622, 0.03252969, -0.022453051, -0.011113049, -0.009373089, 0.021545246, -0.0064605474, -0.020940041, -0.014116372, -0.015962243, 0.008677105, 0.037916, 0.03755288, -0.00058723654, -0.01546295, -0.011014704, 0.009796732, -0.012731969, -0.018050196, -0.035343885, 0.0034874852, 0.013745685, -0.016189193, 0.010000988, 0.026311222, -0.031137722, -0.033407234, -0.007137619, 0.026069142, 0.018367928, -0.004660067, -0.025085686, -0.041698523, -0.0006241161, -0.0058515617, -0.004217512, 0.02762754, 0.005601915, 0.008987272, 0.017581163, -0.031379804, 0.038611986, 0.003173536, 0.009849687, 0.01381377, -0.010500281, 0.02233201, -0.0102582, 0.008586325, 0.011302176, 0.0010165528, -0.011703123, -0.0025153772, -0.007875211, -0.03740158, 0.037068717, -0.019215211, 0.051896203, 0.014063417, 0.011756078, -0.00941848, -0.008155118, -0.0034477687, 0.0015290845, 0.0009423208, -0.04463376, 0.059854627, 0.012686579, 0.026613824, -0.023164164, 0.023708848, 0.022120189, -0.012315892, -0.009327699, 0.034072958, -0.015735291, -0.008071902, 0.01468375, 0.007296485, 0.03255995, 1.4398702e-05, -0.016264845, -0.020940041, 0.045602087, 0.0061049904, 0.01379864, 0.029155679, 0.008450154, 0.013079961, -0.011740948, -0.008699801, 5.164029e-06, -0.03410322, -0.009637866, 0.008904057, 0.03594909, -0.047236133, -0.004005691, 0.0049021486, -0.016053023, -0.012482323, 0.00011619435, 0.023270076, 0.010243069, -0.008435024, 0.011461042, 0.045571826, 0.021091342, -0.0028312178, 0.048386022, 0.01027333, 0.010016118, 0.006483243, 0.017853504, -0.0026004838, -0.043725956, 0.007311615, 0.004682762, 0.0024359443, 0.027415719, -0.055345863, -0.023784498, 0.016673356, -0.043332573, -0.016612837, -0.0033645532, -0.0072624423, 0.008336678, 0.0030392564, 0.02375424, 0.0071035763, 0.004970234, 0.012505018, -0.027415719, -0.0031981224, -0.006732889, 0.0030808642, -0.012391542, 0.048930705, -0.017006218, -0.030093744, -0.0242384, 0.006702629, -0.02251357, -0.017808113, 0.027748581, -0.043937776, -0.011476172, 0.010417066, 0.0075877393, -0.009668127, 0.02389041, -0.0062789866, -0.005363616, 0.047538735, 0.021817587, 0.0064075924, 0.0022392531, 0.007209487, -0.023133904, -0.017747594, -0.009758906, 0.01883696, 0.003565027, -0.008450154, -0.0022071016, 0.010780187, 0.0015498884, -0.022029407, 0.015568861, -0.011642602, 0.014396279, 0.016431276, -0.03443608, -0.02236227, -0.010659147, -0.02254383, -0.017747594, -0.01108279, -0.016718747, -0.008684671, -0.009607606, -0.007920601, 0.018125845, 0.024858736, -0.035101805, -0.01204355, 0.010893663, -0.026961816, 0.021166993, -0.02576654, -0.007882776, -0.037310798, -0.015644511, -0.026054012, -0.0080870325, -0.018035065, 0.026432265, 0.013337173, -0.023194425, -0.038763285, 0.034799203, 0.0064227222, 0.013949941, 0.0073380927, -0.029927313, -0.028837947, -0.015810942, -0.046540152, 0.00010260091, -0.005900734, 0.013125352, -0.030320697, -0.011861989, 0.040609155, 0.04160774, -0.03964083, 0.0010174984, 0.0068955375, 0.018322537, 0.009645431, -0.043483872, -0.008261028, -0.014555145, -0.017747594, -0.03265073, 0.00087328977, 0.01732395, 0.011211395, 0.011914944, -0.04302997, 0.016658226, -0.019835545, 0.0028066314, -0.0056056976, -0.02242279, 0.027173638, -0.019321123, -0.013390128, 0.00730405, -0.018004805, 0.003948953, 0.019169822, -0.033467755, -0.016582577, 0.05489196, 0.035646487, 0.030108875, -0.024510743, 0.01712726, 0.010742363, 0.0010146615, -0.002855804, 0.0049172784, -0.014865312, 0.0060406877, 0.0132236965, 0.012716839, 0.020153277, 0.04617703, 0.0024529656, -0.0057456507, 0.042303726, 0.026689475, -0.007701215, 0.0057191732, 0.01906391, 0.018579748, 0.0117106885, 0.0408815, -0.046055987, 0.0037844132, -7.203045e-06, -0.010886098, 0.036735855, -0.016295105, -0.020879522, -0.02738546, 0.02771832, 0.02240766, 0.016385885, 0.013889421, 0.021393944, 0.003971648, 0.011271915, -0.02749137, 0.026961816, 0.01213433, -0.018216627, 0.015432689, 0.015795812, -0.019684244, -0.042061646, 0.009282309, 0.0053295735, -0.0072510946, -0.012527713, 0.0121192, -0.0047054575, 0.036675334, -0.0024964644, 0.005889387, -0.0028236527, -0.0060331225, 0.026825646, -0.00562461, -0.0038449336, 0.011551823, 0.022982603, -0.00062127924, 0.0024227053, -0.0034912678, -0.038854066, -0.016885178, 0.036705595, 0.0073380927, -0.0005919647, 0.035101805, 0.0018231756, 0.02387528, 0.01117357, -0.059279684, -0.009206658, 0.007285137, 0.035313625, -0.048930705, 0.018367928, -0.00046619584, -0.012557973, 0.0072624423, -0.006282769, -0.013155611, 0.00940335, 0.00020898435, 0.016885178, -0.00033971775, -0.004512549, 0.021439334, -0.009123443, -0.025025165, -0.020728221]}], 'model': 'text-embedding-3-small', 'usage': {'prompt_tokens': 2, 'total_tokens': 2}, 'monthlyCost': 0.005601659999999996, 'cost': 4e-08, 'monthlyRequests': 22}\n",
            "{'object': 'list', 'data': [{'object': 'embedding', 'index': 0, 'embedding': [-0.002227323, 6.081273e-05, -0.0087314155, 0.022427903, -0.0053130933, -0.055652138, 0.012435886, 0.028042614, 0.03173935, -0.009698135, 0.013379405, 0.025119253, -0.035327815, -0.024314942, 0.0392875, -0.0016173226, 0.012459087, -0.02058727, 0.00048481007, 0.040648643, 0.05463128, 0.02856851, 0.020231517, -0.009930148, -0.013464476, 0.019009583, -0.016426506, 0.016828662, -0.0025521407, -0.013394873, 0.041576695, -0.026774278, 0.003911349, -0.056363642, 0.027470315, 0.035327815, 0.0067399717, -0.003027767, -0.033781063, -0.007903903, 0.01839088, -0.022536177, -0.06725278, 0.030022455, 0.008120448, 0.042319134, -0.055899616, 0.021855606, 0.049310453, -0.004640256, -0.0054561677, -0.007130527, 0.037771683, 0.0018251673, -0.03644148, -0.037864488, 0.0113222245, 0.02750125, -0.045288898, 0.02649586, 0.041236408, -0.020664606, 0.031197987, 0.021236906, -0.027594056, 0.025041915, -0.0099378815, 0.043649342, -0.012868976, 0.017880453, -0.020757413, 0.020123243, -0.013858898, -0.0016830595, 0.013100989, 0.03294582, -0.011909991, 0.013735157, 0.038947217, -0.020881152, -0.005123616, -0.0060787355, -0.013619151, 0.016596649, -0.03585371, -0.047237806, -0.047609027, 0.044917677, -0.026155576, -0.059395276, -0.031089716, 0.044298977, -0.022056684, 0.017431894, 0.011933192, -0.036132127, -0.021546256, 0.022598047, -0.00489547, 0.05070253, 0.02139158, -0.037802618, 0.019535478, -0.008862889, 0.029388288, 0.007370273, -0.012350814, -0.0016530912, -0.051970866, 0.029929651, -0.032822076, -0.04235007, -0.036193997, 0.0009884712, -0.022721786, -0.036255866, -0.019349867, -0.053919774, -0.053919774, -0.010038421, -0.011097945, 0.018622894, -0.03984433, -0.0118094515, -0.0038475457, 0.020076841, 0.0049496065, -0.03150734, -0.00030161664, -0.05070253, 0.028089017, 0.020741945, -0.000761292, -0.010664855, -0.047578093, -0.010471511, 0.0005403965, 0.010951004, -0.029666703, 0.009497058, -0.0021828539, 0.0022737253, -0.008236455, -0.002447735, -0.0070725237, -0.03749327, 0.037245788, -0.0043773083, -0.022056684, 0.0052318885, -0.04609321, -0.0022408569, 0.009427453, 0.05299172, 0.032048702, -0.06335496, 0.04646443, 0.021499854, -0.010664855, 0.027408445, -0.007965772, -0.00047514288, 0.0046518566, -0.017447362, -0.023897318, -0.0131937945, 0.0022756588, -0.021221437, -0.057724785, -0.027222835, -0.057291694, 0.006449956, -0.0754815, 0.016875064, -0.043370925, 0.0034415233, -0.020881152, -0.0151427025, -0.024253072, -0.012613762, 0.03486379, 0.042133525, -0.03835945, -0.015645396, 0.027980743, 0.010324569, -0.018591959, -0.00857674, 0.0040563573, 0.005838989, -0.038575996, 0.002271792, 0.004222633, 0.001377576, -0.009582128, 0.019504543, 1.7355645e-05, -0.028150886, 0.015684064, 0.03272927, -0.021824671, 0.017045207, 0.056549255, 0.01129129, -0.05064066, -0.01870023, -0.048351467, 0.015800072, 0.035018466, -0.030517416, 0.07238799, -0.0040138215, 0.009411986, -0.0040138215, -0.011948659, -0.025258461, -0.044144303, 0.017540168, 0.0133484695, 0.0003990137, -0.040060878, 0.0136810215, 0.07777069, 0.01653478, 0.010123492, 0.0622413, 0.027826069, -0.03186309, -0.023123942, -0.028475704, -0.045257963, -0.008367929, -0.04111267, 0.008561272, 0.018901309, -0.040060878, -0.028429301, -0.00826739, -0.022876462, -0.05039318, -0.040772382, 0.0012287011, 0.002948496, 0.021035828, -0.0068869134, -0.00022742088, 0.010254966, -0.001280904, -0.019427205, 0.012157471, 0.010370973, 0.028676782, 0.048073053, -0.059024055, 0.010602985, -0.01839088, 0.024113864, -0.0058041867, -0.023541566, -0.024531487, 0.008112715, -0.033657324, -0.026696939, -0.02433041, -0.032976754, 0.021685462, -0.014887488, 0.0076100198, 0.020664606, -0.008715947, -0.010131226, -0.026681472, 0.031662013, -0.039256565, -0.059085928, 0.0007395408, 0.029017067, 0.031012377, -0.032327116, 0.030192599, -0.056920473, -0.05707515, 0.04111267, 0.0022389235, 0.009899213, -0.0096672, -0.025165655, 0.049496066, -0.027160965, 0.025088318, 0.010517914, -0.003366119, -0.01989123, 0.0038417452, -0.037307657, -0.005730716, 0.025351265, -0.017230818, 0.028661314, 0.004671191, 0.025227524, -0.025861694, -0.015274176, 0.019133322, -0.044793937, -0.007451478, 0.013827963, -0.029836847, 0.049465127, 0.017493766, 0.0027532186, -0.04559825, -0.0011001274, 0.03340984, 0.0019518076, -0.11328412, 0.027160965, -0.001280904, -0.015854208, -0.018359946, 0.025273928, -0.01696787, 0.029419223, -0.026047304, 0.021855606, -0.045629185, -0.0025598747, -0.032203376, -0.0013311735, -0.023170345, -0.003982886, -0.0033989875, 0.01567633, -0.0009029165, -0.01989123, -0.00060806685, 0.0003673536, 0.023000203, 0.023062073, -0.023727175, -0.043061577, -0.041236408, 0.030610222, -0.030223534, 0.0028092882, -0.024500553, 0.0036445344, 0.0056881807, 0.03798823, 0.012838041, -0.021623593, 0.036193997, -0.017756714, 0.0071614617, 0.041762304, -0.004837467, 0.017725779, -0.04665004, 0.014299722, 0.008955694, -0.03430696, 0.01172438, -0.01567633, 0.002917561, -0.034028545, 0.06966571, -0.039132826, 0.0056765797, 0.011422764, 0.022876462, -0.0012451353, -0.01820527, 0.016457442, 0.072016776, -0.050176635, -0.048258662, 0.03245086, 0.047083132, -0.013951703, 0.009845076, 0.016333701, 0.0036812697, -0.025536876, -0.051042818, 0.032667402, -0.035977453, 0.020819282, 0.006090336, -0.031197987, -0.03798823, 0.06675781, -0.012327613, 0.042071655, -0.04640256, 0.053239204, 0.00470986, 0.027114563, 0.08538071, 0.061282314, -0.015042163, 0.060168654, -0.0018802704, -0.02426854, 0.025784357, 0.044360846, -0.019968567, -0.030254468, 0.0013099056, -0.020401658, -0.019102387, 0.010773128, 0.0023085275, 0.062395975, 0.054012578, 0.008012176, 0.00919544, -0.0037740748, 0.052125543, -0.0016936935, 0.017602038, 0.0041839643, 0.023433292, 0.0068675787, 0.025985433, -0.010804063, 0.05843629, 0.034832854, -0.028645847, 0.03211057, -0.06595351, 0.0003311016, 0.033966675, -0.013070054, -0.022953799, -0.029341886, 0.04278316, -0.035544362, -0.019922165, 0.054662216, -0.033255167, -0.06842831, 0.02307754, 0.032605533, -0.015993416, -0.030842235, 9.09321e-05, -0.017803116, 0.005773252, -0.022984734, -0.0088860905, -0.0054368335, -0.033378907, 0.031027844, 0.030099794, 0.013727424, -0.016039819, 0.05593055, 0.019813893, 0.05787946, 0.022953799, 0.028522108, 0.06570602, 0.0022949933, 0.034461636, -0.022396969, -0.010804063, 0.0065543614, -0.0026004768, -0.021097697, -6.13263e-05, -0.021716397, 0.049743544, 0.044144303, 0.011136615, -0.044175237, -0.016163558, 0.031924963, 0.01396717, 0.008159117, 0.0030180998, 0.00054378, -0.033719193, -0.04677378, -0.0056263106, -0.016333701, 0.11452152, 0.0062914137, -0.031089716, -0.032883946, 0.04040116, 0.035327815, -0.0032829812, 0.031197987, -0.019164257, -0.002855691, -0.022381501, 0.013046853, -0.031986833, 0.0146554755, -0.046804715, 0.04197885, -0.025289396, -0.038699735, 0.055064373, 0.058590967, 0.007872968, 0.029048003, -0.025413135, 0.017493766, 0.016271831, 0.013186061, 0.043030642, 0.003449257, -0.01396717, -0.005811921, 0.002161586, -0.043618407, -0.016488377, 0.0072504, -0.017060675, -0.043494668, -0.004810399, -0.010332303, 0.0014220452, -0.0017197949, 0.003335184, -0.017864985, -0.0012664032, -0.051723387, 0.01639557, 0.026403056, -0.0014056109, -0.03922563, 0.031414535, 0.005158418, -0.022737253, 0.019798426, 0.0029330284, 0.0037102713, -0.047701832, 0.034368828, 0.039751526, -0.054785956, -0.02433041, -0.014786949, -0.008623143, 0.018576492, 0.00014633725, 0.014609072, 0.011492367, -0.017431894, -0.014121845, 0.0021209838, -0.0068907803, 0.030981442, -0.018715698, -0.020463528, 0.00477173, 0.01552939, 0.031027844, 0.0035613964, -0.011484633, 0.015444319, -0.027222835, 0.0009676867, 0.025799824, -0.0020397792, 0.0012722035, -0.030888638, -0.004791064, -0.017725779, 0.050609726, -0.019999504, 0.02743938, 0.013943969, 0.035451557, -0.056239903, -0.033224232, 0.0009208008, -0.014299722, -0.020401658, -0.027331108, -0.051073752, -0.007350939, -0.026093706, -0.020308854, -0.034152284, 0.033255167, 0.013943969, -0.0025366733, 0.007834299, 0.015127234, 0.020741945, 0.0116547765, 0.012196139, -0.029527497, 0.020571802, 0.03885441, -0.035389684, -0.030393677, -0.02569155, -0.024160266, 0.022706319, -0.0483824, 0.023974655, 0.035142206, 0.0024419348, -0.0063919527, 0.017787648, -0.006129005, 0.015614461, 0.02163906, 0.045257963, 0.0013476077, -0.03405948, -0.004087292, -0.0026816812, 0.043804016, 0.025969965, -0.009179973, -0.023665305, -0.030440079, 0.05299172, 0.014508533, 0.0235725, 0.037462335, -0.03774075, 0.012242542, -0.026418524, 0.024562422, 0.013619151, 0.023185812, -0.025985433, -0.023680773, -0.0016008883, 0.008839687, 0.0096053295, 0.012126536, -0.027826069, -0.039875265, 0.006113537, 0.0072310655, 0.004763996, -0.03650335, 0.012652432, 0.02507285, 0.0072039976, 0.031290792, -0.00018041412, -0.024314942, 0.0040756916, -0.022180423, 0.004346373, -0.018669296, 0.044917677, 0.0076796236, -0.011345426, 0.019535478, 0.0013244064, -0.015993416, -0.012018263, -0.0055219047, -0.02607824, -0.025861694, -0.04089612, 0.0015960548, 0.016503844, 0.0031437734, 0.003128306, -0.008429798, -0.0126060285, 0.017880453, 0.05713702, 0.00634555, 0.032203376, 0.020680074, 0.016411038, -0.04859895, 0.028553043, -0.000628368, -0.0380501, -0.0017217284, 0.0070415884, 0.03941124, -0.0009812207, -0.029836847, -0.00598593, -0.0044391784, -0.03755514, -0.009280512, -0.015715001, -0.012915379, 0.003629067, -0.019968567, 0.04247381, -0.02513472, 0.03755514, 0.027841536, 0.021004893, -0.055683073, 0.00010676214, -0.030888638, -0.027362043, -0.03455444, -0.03362639, 0.00019902347, 0.02943469, -0.0031495737, 0.055652138, 0.02044806, 0.011059277, 0.0066278325, -0.03124439, -0.027594056, -0.021499854, 0.01022403, 0.006535027, 0.00525509, 0.037338592, -0.025150187, 0.018669296, -0.03272927, -0.052125543, -0.013634619, -0.0132711325, 0.017045207, -0.0015283843, 0.02120597, -0.0015322512, 0.0392875, -0.0017971324, 0.027949808, 0.0062334104, 0.012598295, 0.005030811, 0.011531036, -0.0247635, 0.010711257, -0.011445965, 0.009226375, -0.010827264, 0.0015264509, -0.0037508735, 0.0059085926, 0.018669296, 0.017230818, 0.023495164, -0.0035884646, -0.0044817138, 0.019179724, -0.018344479, 0.01213427, 0.008074045, -0.008143649, 0.018344479, -0.0085535385, -0.00095028576, -0.014090911, 0.0064924913, -0.01808153, -0.008971161, 0.046619106, -0.0071459943, -0.015947012, -0.009002097, 0.028212756, -0.0136810215, -0.013418074, 0.016766792, 0.00290016, 0.013186061, -0.021113165, -0.037276722, 0.05992117, 0.007567484, -0.039132826, -0.020556334, -0.003959685, -0.020123243, -0.012389484, 0.009566661, -0.007029988, -0.029017067, -0.019937633, -0.011755316, 0.034276024, 0.02713003, 0.02369624, -0.006647167, -0.047145, 0.017741246, -0.012969515, -0.017354557, -0.0052357554, 0.036379606, 0.03585371, -0.010146693, -0.04903204, 0.040741447, -0.02163906, -0.03740046, 0.013750625, 0.009094901, -0.0021074496, 0.00132924, 0.029419223, -0.0050733467, 0.009698135, -0.026155576, 0.004806532, -0.013920768, 0.048289597, -0.0017845652, 0.0011793984, -0.015189105, -0.040927056, -0.02706816, -0.021778269, -0.0137583595, 0.015537124, 0.0018551357, -0.008901558, -0.00024397596, -0.019937633, -0.010231764, 0.045010485, -0.00876235, 0.014926157, 0.02170093, -0.01952001, -0.00024313008, -0.028413834, -0.043123446, 0.034337893, -0.0037025376, -0.013023652, 0.008251922, 0.0062720794, -0.021530788, 0.007153728, 0.020509932, -0.023232214, -0.02482537, 0.013224729, 0.009025298, -0.008290591, 0.03684363, -0.029573899, 0.014593605, 0.0067515722, -0.03135266, -0.03130626, 0.04658817, -0.0091413045, -0.019365335, -0.026341187, -0.01581554, -0.020014971, -0.039132826, 0.018096998, -0.036534283, -0.005599242, -0.012033731, -0.017602038, 0.018963179, -0.03013073, 0.0140135735, 0.0060710018, 0.0013601751, -0.0066935695, 0.042875964, 0.020293387, -0.0048336, 0.003915216, 0.023773579, -0.025877161, 0.004493315, 0.0151195, 0.0021538523, -0.047609027, 0.024392279, -0.0066316994, -0.02363437, 0.02227323, 0.025212057, -0.022551645, 0.010974205, 0.025428602, -0.023433292, -0.022860995, 0.021066763, 0.005641778, 0.026171044, -0.029573899, -0.025784357, -0.009226375, 0.01952001, 0.018313544, 0.07065563, -0.01672039, -0.027578589, -0.027949808, 0.036070257, 0.030424612, 0.003926817, 0.006507959, 0.039473113, 0.0010053888, -0.025536876, 0.003511127, -0.006670368, -0.030703027, 0.002675881, 0.0089634275, 0.0071885297, 0.030099794, -0.022706319, -0.005579908, 0.045876663, -5.972517e-05, -0.014539469, -0.04235007, 0.021113165, 0.0024264671, 0.050114766, 0.013054587, 0.02706816, 0.022427903, 0.026928952, 0.015730469, 0.02507285, 0.02576889, -0.014059976, -0.028181821, 0.028645847, -0.022427903, 0.033286102, 0.012907646, 0.017292688, -0.0033641856, -0.040803317, -0.012366282, -0.0014075444, 0.0052744243, 0.0113995625, -0.02213402, 0.015598994, 0.030981442, -0.0043927757, -0.006449956, 0.035544362, 0.00023056271, 0.04584573, 0.011121147, -0.027810602, -0.005989797, 0.004454646, -0.012644698, -0.00084878015, -0.030471014, -0.0040447563, -0.011507835, 0.014701878, -0.028846925, 0.0046866587, 0.05370323, 0.002530873, -0.0024168, 0.047578093, -0.049557935, -0.04247381, 0.010254966, -0.004512649, -0.022644449, -0.009149038, 0.012745236, 0.024995511, 0.0013118391, 0.016673986, -0.06428301, 0.06836644, 0.035637166, -0.0020243116, 0.008491669, -0.013085522, -0.019040518, 0.02768686, 0.020649139, -0.008654078, 0.018653829, -0.011183017, 0.002631412, 0.029914184, -0.0290016, 0.01499576, -0.0308113, -0.029512027, -0.026201978, -0.015320579, 0.019813893, 0.0016231228, -0.008685012, 0.027222835, -0.001111728, 0.004021555, -0.020788347, -0.012667899, -0.013201528, -0.0027667526, 0.009968816, 0.04677378, 0.003045168, 0.006175407, -0.034368828, -0.029759508, -0.02793434, -0.010200829, 0.014237852, -0.06143699, 0.016488377, 0.022226825, -0.018669296, 0.015305111, -0.00477173, 0.0074669453, -0.013170593, -0.02227323, 0.009829609, 0.011708912, 0.039318435, -0.0271919, 0.007965772, -0.020308854, -0.007026121, -0.0024322674, 0.019504543, 0.012080133, 0.015583526, -0.028042614, -0.006260479, -0.009868278, 0.018406348, -0.030672092, 0.022536177, -0.040772382, -0.021762801, 0.022010282, 0.025722485, 0.030548353, 0.0014684477, -0.018483687, -0.0027319507, 0.008336993, -0.0011059276, 0.0036135993, -0.0059743295, -0.009698135, -0.022396969, 0.007281335, -0.00615994, -0.0096672, 0.010177628, 0.014771482, -0.039751526, 0.012126536, 0.008932493, -0.037771683, 0.016936934, -0.020061374, -0.003907482, -0.013008185, 0.034214154, 0.013294334, 0.01540565, -0.028444769, -0.023294086, -0.049867284, -0.014253319, 0.025041915, 0.0023471962, 0.03984433, 0.043061577, -0.031986833, -0.007157595, -0.017447362, 0.023294086, 0.007981241, -0.0023394623, -0.016735857, -0.0037238055, -0.0030239, 0.028336497, -0.0056263106, 0.0025057383, 0.0035033934, 0.026294785, 0.03622493, 0.01982936, -0.0035169274, -0.018963179, 0.013812495, 0.0093733175, 0.029604834, -0.011213952, 0.028135419, -0.06289094, -0.044113368, 0.04315438, -0.005127483, 0.012389484, 0.008027643, -0.013518613, -0.03118252, 0.0051661516, 0.017308155, -0.025799824, 0.00035961985, 0.009961083, -0.0016134557, 0.020711008, -0.016256364, -0.014547203, -0.013766093, 0.018916776, -0.017308155, -0.00058051536, 0.019798426, 0.028599445, 0.001215167, -0.0020513798, -0.021669995, 0.007153728, 0.009999752, -0.00081301155, -0.019628283, 0.0016221561, -0.0031534405, -0.040803317, -0.0056997812, 0.009272778, 0.006480891, -0.011384095, -0.020293387, -0.0205254, 0.0030529017, 0.020417126, 0.008545805, 0.15294284, -0.01552939, 0.004767863, -0.011368627, -0.010966471, 0.0006293347, -0.03186309, 0.021035828, -0.010672589, -0.01939627, -0.028135419, -0.014214651, -0.048196793, 0.016998805, 0.008978895, 0.03300769, -0.03418322, -0.007053189, 0.001981776, -0.041267343, -0.012203873, -0.011909991, 0.013062321, -0.0013215062, 0.01443893, -0.0019382735, 0.0018831706, 0.00076805905, 0.028506638, -0.019427205, 0.027887939, 0.0121420035, -0.028723184, -0.010796329, 0.014895222, 0.011422764, 0.02120597, -0.04346373, -0.01914879, -0.021252373, -0.01670492, 0.015227773, 0.0037373395, 0.030393677, 0.013750625, 0.018545557, -0.026588667, 0.017787648, -0.0107576605, 0.019117855, -0.039473113, -0.020633671, 0.017911388, -0.03393574, -0.011275822, -0.021546256, -0.00804311, -0.044422716, 0.05382697, -0.018669296, -0.038885344, -0.02276819, -0.018731168, 0.042195395, 0.02725377, 0.0032771807, -0.021762801, 0.0010817597, -0.0042264997, 0.014199183, 0.021499854, 0.0008062445, 0.026232913, -0.025908096, -0.030548353, 0.019427205, 0.025567811, 0.011213952, -0.027887939, -0.012482288, 0.036472414, 0.021376112, 0.054352865, -0.0018164669, 0.013588216, -0.017632972, -0.00051429507, 0.007691224, -0.0016878931, -0.044113368, -0.0076138866, 0.023108475, 0.02768686, -0.0034163885, -0.030703027, 0.023835449, -0.0053788302, -0.026279317, 0.007710559, 0.007965772, 0.0062682126, -0.0181434, 0.02651133, 0.009133571, -0.023897318, -0.011546504, -0.018561024, -0.0068714456, -0.005347895, -0.012018263, 0.02344876, 0.011693445, -0.0090717, -0.005811921, -0.011755316, 0.02244337, 0.0072271987, 0.01870023, 0.019055985, -0.024717096, 0.001001522, -0.029403755, 0.0057887193, -0.019040518, -0.0076989583, -0.00033037656, -0.007637088, 0.016875064, 0.033224232, 0.015227773, 0.0010691923, 0.018901309, 0.0111675495, -0.0009498024, 0.010278167, -0.0016617917, -0.035327815, -0.0072001307, 0.016318234, 0.0022485908, -0.03418322, -0.011902257, 0.018901309, -0.003735406, -0.022366034, 0.056672994, -0.01715348, 0.023711707, -0.012025997, -0.015513922, -0.030718494, 0.010556582, 0.006473157, -0.035080336, 0.022706319, 0.0021654528, -0.013178327, 0.01106701, 0.006020732, 0.036317736, 0.0028324896, -0.016643051, -0.01820527, 0.0034395899, 0.02163906, 0.011824919, -0.013626885, -0.00044734968, 0.0104251085, 0.0019643751, 0.0033699858, -0.0038958816, -0.0015892877, 0.018437283, 0.0029890982, -0.014199183, -0.008870623, 0.028785056, -0.016318234, 0.022953799, -0.00061531726, 0.0013659754, 0.0071653286, 0.0035207942, -0.01462454, -0.002579209, -0.022427903, -0.022706319, -0.040741447, -0.047145, 0.0068714456, 0.027099095, 0.0054909694, -0.00737414, 0.0041646296, 0.0017458963, 0.006434488, -0.027547654, -0.036101192, 0.03229618, 0.024222136, -0.01952001, -0.009589862, -0.019813893, -0.0038591463, -0.03498753, 0.0066935695, -0.025212057, 0.032419924, 0.0088087525, 0.0018860707, 0.008499403, 0.008561272, 0.006647167, 0.0035362619, 0.021731865, -0.03156921, 0.027903406, 0.0044005094, -0.0003289265, -0.025150187, -0.0060400665, 0.0126060285, -0.0193344, -0.020680074, -0.0033641856, -0.010077089, -0.023232214, -0.0043966426, -0.007517215, 0.025753422, -0.015885143, 0.009930148, 0.016318234, 0.02089662, 0.0035884646, -0.059395276, -0.009883746, -0.0045049153, -0.0025289396, 0.0060439333, 0.006183141, -0.020958489, -0.0055644405, -0.005545106, 0.005707515, 0.037307657, 0.02338689, -0.00014222867, 0.023154877, 0.0008516803, 0.012807107, 0.0051700184, 0.004025422, -0.011183017, 0.00053556287, 0.022350566, -0.015227773, -0.013093255, 0.008754617, 0.013340736, 0.017741246, 0.0024709364, -0.009288246, -0.008282857, -0.03461631, -0.0036638689, 0.018885842, -0.016813194, 0.012559626, -0.022226825, -0.015668597, -0.017694842, 0.0005133283, -0.029140808, -0.011623842, 0.011670244, 0.020819282, 0.034214154, -0.021530788, -0.011213952, -0.0193344, 0.00026560633, -0.026743341, -0.022412436, 0.0042110323, -0.017385492, -0.012265744, -0.009527992, 0.00020107775, 0.028537575, 0.0290016, 0.012683366, -0.0059820632, -0.032512728, -0.0006805709, -0.01883944, -0.032512728, -0.0003830628, 0.0113222245, -0.035544362, 0.026789745, -0.0063378164, -0.036101192, -0.012466821, 0.014508533, -0.016024351, 0.0076216203, -0.011097945, -0.01081953, -0.0021383846, -0.03523501, -0.018344479, 0.056394577, 0.008545805, -0.0060129985, 0.009087168, -0.01300045, -0.015065365, -0.0027532186, 0.026387589, 0.0235725, -0.03910189, -0.0052473564, 0.04745435, 0.0011397629, -0.0066433, -0.013905301, 0.03811197, -0.011863587, -0.0061058034, -0.009906947, 0.0076873573, -0.011716646, 0.03167748, 0.00043454065, -0.022180423, -0.016271831, -0.014601339, -0.0193344, -0.006902381, 0.029140808, -0.015583526, -0.010595251, -0.0042458344, 0.03823571, -0.0019121722, 0.014307456, 0.019257063, 0.015289644, -0.0057384497, 0.036379606, -0.0036677357, -0.005707515, 0.009597596, -0.00046450895, 0.04977448, -0.023618903, -0.031383596, -0.02332502, -0.01696787, -0.031275325, 0.031476405, -0.003907482, 0.013727424, 0.019906698, 0.00068443775, -0.06143699, -0.032048702, -0.0032887815, 0.001305072, 0.05088814, -0.005637911, -0.0073161367, -0.00054087985, 0.00979094, 0.018684763, 0.045443572, 0.017602038, -0.011507835, 0.011770783, 0.00598593, 0.010610718, -0.014029041, -0.0027048825, 0.0026952154, 0.016364636, -0.003638734, 0.017555635]}], 'model': 'text-embedding-3-small', 'usage': {'prompt_tokens': 1, 'total_tokens': 1}, 'monthlyCost': 0.005601679999999996, 'cost': 2e-08, 'monthlyRequests': 23}\n",
            "{'object': 'list', 'data': [{'object': 'embedding', 'index': 0, 'embedding': [-0.0028246203, 0.024367847, 0.050361022, -0.029522816, 0.029838178, -0.017818002, 0.010121935, 0.057493076, -0.04068181, -0.0025350323, 0.06656582, -0.025156252, -0.027096948, -0.03701875, 0.05467907, 0.02391906, -0.063509226, -0.03791632, -0.017235793, 0.0064710034, 0.07631781, 0.06418847, 0.019491851, 0.023955448, 0.011304545, 0.035951365, -0.024161646, -0.0035569293, 0.02135977, -0.019637402, 0.035781555, -0.03714004, -0.0048638657, 0.013912354, 0.037406888, -0.010497944, -0.010916407, 0.0016662682, -0.017781613, 0.017223664, -0.001619267, -0.00040140538, 0.013499957, 0.041482344, 0.058366388, 0.038377233, -0.018715573, -0.034544364, 0.041894745, 0.058851562, -0.06273295, -0.049269382, 0.007878006, -0.022524185, -0.0017253987, 0.010152258, 0.010212905, 0.0022651544, 0.027266758, 0.0132816285, -0.026369186, -0.017975682, 0.0076657436, -0.016605068, -0.00937598, -0.033816602, 0.0036297052, 0.034301776, -0.010892148, -0.033622533, 0.0140821645, 0.0032324693, -0.045412254, -0.024549786, -0.045945942, 0.026029566, -0.017745225, 0.00034056915, 0.01269942, 0.0024076742, -0.012147535, 0.01985573, -0.00017852873, 0.0041209436, -0.019795084, -0.054921657, -0.056474213, -0.013051171, -0.012844972, -0.0112135755, -0.03832872, 0.043180455, 0.016508033, 0.04383544, 0.0025441293, 0.020389423, -0.019431204, 0.00479109, 0.03420474, 0.012481092, -0.014737149, -0.057493076, 0.017235793, -0.0076293554, 0.020850336, -0.03866834, -0.00066142814, 0.008114529, 0.029110419, -0.005706855, -0.060743738, -0.023336852, 0.008884742, 0.06612916, -0.0015373939, -0.0063193864, -0.022160307, -0.018715573, 0.0046910224, -0.026951395, -0.03881389, 0.028940607, -0.013354404, -0.0055946587, -0.012147535, 0.048978277, 0.0017117532, -0.004266496, 0.046479635, 0.017623933, 0.006568038, -0.05278689, 0.025641426, -0.059821907, -0.040972915, -0.010692014, -0.004593988, 0.01289349, -0.08199435, 0.014458174, 0.032409597, -0.025350323, 0.013512086, 0.029910954, -0.06477068, -0.040245153, -0.056377176, 0.007138117, 0.009491209, 0.0061040907, -0.0070168236, 0.029716885, -0.045776132, -0.013366533, -0.02337324, -0.045606323, 0.015392134, -0.013378663, -0.031342216, -0.032361083, 0.052156165, 0.010394845, 0.028989125, -0.032627925, -0.020195352, 0.0011196898, -0.006404292, 0.01806059, -0.053077996, -0.0008452634, -0.0077749076, -0.038935184, -0.007780972, -0.03391364, -0.026247894, -0.013099688, -0.019455463, -0.05594052, 0.0011492551, 0.032458115, 0.049414936, 0.021747908, -0.04453894, -0.043447297, 0.021092923, -0.007065341, -0.040900137, -0.03495676, -0.0009688311, 0.048905503, -0.032069977, -0.0013850192, 0.06642027, 0.004054232, -0.028043035, 0.01268729, -0.010485815, 0.010558591, 0.012153599, 0.0045818584, 0.052010614, -0.0077749076, -0.00727154, -0.03439881, -0.07253346, 0.028115813, -0.019176489, 0.005506721, 0.007216958, 0.019928508, 0.08573018, 0.0052701985, 0.014627985, 0.00019823891, -0.034107707, -0.031366475, 0.005506721, 0.023530921, 0.022342246, 0.057590112, 0.014142811, 0.014239846, 0.03592711, 0.019989153, 0.007320057, 0.05361169, -0.00018345629, -0.023749249, -0.01094673, -0.06326664, 0.014555209, -0.015768142, 0.0018072717, -0.021456804, -0.01268729, 0.02355518, -0.003945068, -0.015464909, -0.016762748, -0.07510488, -0.0037388692, -0.005236843, -0.012280958, -0.010601044, -0.01453095, 0.048978277, -0.014251975, -0.019237135, -0.05370872, 0.017175147, 0.014518821, 0.0073685744, -0.025350323, -0.030881302, 0.07408601, 0.021481063, 0.014700761, -0.0004442371, 0.017332828, 0.03405919, -0.040099602, -0.015634721, -0.0055946587, -0.00396023, -0.0028746538, 0.00031953232, -0.0034174419, 0.0056067877, -0.035393417, -0.0030641747, -0.006458874, -0.0319972, -0.011110476, -0.002072601, -0.025326064, -0.01472502, 0.01916436, 0.05613459, 0.03609692, 0.010813307, -0.011116541, -0.03071149, 0.03015354, -0.027824707, -0.0029004286, 0.00032180658, 0.07874368, -0.0025016766, -0.021020148, 0.0718057, -0.04177345, -0.04412654, -0.001039333, -0.047692567, 0.003553897, 0.006956177, 0.031924427, -0.0570079, 3.423222e-05, 0.01930991, 0.06452809, 0.0057280813, -0.0016132024, -0.004190687, -0.021602357, 0.0067499783, 0.028552469, -0.01268729, 0.006495262, -0.00012404146, -0.0050458056, 0.024513397, 0.043253228, -0.07631781, -0.017611803, 0.0023106395, 0.04725591, -0.00086800597, -0.023070006, -0.034665655, 0.01804846, -0.03459288, -0.0043726275, -0.049051054, 0.0050670323, -0.054387964, -0.021105053, -0.021760037, 0.009727731, -0.03420474, 0.009685279, 0.01873983, 0.028576728, -0.009491209, 0.025471617, 0.064722165, 0.03056594, -0.016289705, -0.046843514, 0.008144853, -0.030857043, -0.03626673, -0.006204158, -0.022160307, 0.00048479458, 0.009527598, 0.010231099, 0.028018778, -0.01528297, 0.017199405, -0.015392134, -0.04487856, 0.011462227, 0.051137302, -0.017526897, 0.01268729, 0.040390704, -0.028455434, 0.0049245125, 0.012529609, -0.030080765, -0.0014615855, 0.010103741, 0.001972534, 0.006865207, 0.007805231, -0.010983118, -0.05317503, 0.005816019, -0.023276204, 0.023640085, 0.008078141, -0.0349325, -0.0012644838, -0.04854162, -0.019431204, 0.013451439, 0.037989095, -0.001573782, -0.025859755, 0.013366533, 0.024780244, -0.028237106, -0.042064555, -0.0076293554, 0.022596963, -0.011256028, -0.0074474155, -0.05802677, -0.018096976, 0.01747838, -0.01637461, -0.0171145, -0.013827449, -0.03813465, -0.00090666825, 0.017417733, -0.0007270024, 0.024537656, 0.0009635245, 0.008338922, -0.00040367962, -0.016132023, 0.02026813, -0.020146836, -0.017575415, -0.059142668, -0.004512115, -0.03090556, -0.0019604047, 0.027072689, -0.02593253, 0.017150888, 0.056522727, 0.009163717, -0.040148117, 0.011122606, 0.010619238, 0.075735606, -0.034859724, -0.032991808, -0.01343931, 0.042307142, 0.021602357, -0.029013384, 0.0076232906, 0.0556009, -0.024343587, -0.04475727, -0.015925825, -0.027121207, 0.041142724, 0.056765314, -0.008241887, -0.04393247, -0.025714202, -0.021286992, -0.00031024578, -0.04398099, -0.029838178, -0.027485086, 0.034447327, -0.015913695, -0.014191329, -0.031730354, -0.020353034, -0.0050730966, -0.013669767, -0.022645479, -0.038401492, -0.014943348, 0.009885413, -0.02026813, -0.004587923, -0.02760638, -0.005036709, 0.039056476, 0.0029868502, 0.031754613, 0.015513427, 0.023336852, 0.01416707, -0.016047118, 0.035247866, 0.010637432, -0.013548474, -0.019394817, -0.004123976, 0.024913667, -0.0010105257, -0.009139459, 0.06244185, 0.0077021313, 0.010316004, -0.059142668, -0.01860641, 0.015307228, -0.056474213, -0.010037029, -0.056183107, 0.005191358, 0.01692043, -0.018727703, 0.03866834, -0.04376266, 0.024986442, -0.021444675, 0.0134756975, -0.055406827, -0.028916348, 0.015016124, 0.012008048, 0.05487314, -0.010679885, -0.04213733, 0.00079674606, -0.055067208, 0.011917077, 0.014179199, -0.029377263, -0.0011545616, -0.03476269, -0.018351693, 0.010309939, 0.054242413, 0.014397528, 0.0130633, 0.035636004, 0.017053854, 0.03308884, -0.011911013, 0.013487827, -0.01986786, 0.010534332, -0.038959444, -0.01967379, -0.047037583, 0.018266788, 0.015222323, 0.0039299065, 0.005346007, -0.010625303, -0.00044916465, 0.0008202467, -0.013087559, 0.0018618539, -0.01454308, -0.032506634, -0.06030708, -0.03515083, -0.0023000264, -0.01950398, 0.007374639, 0.027582122, -0.013463568, 0.00040481676, 0.02576272, -0.034350295, -0.030881302, 0.04914809, 0.024416363, 0.020765431, 0.0057402104, 0.011904948, -0.009879348, -0.008029624, -0.010504009, 0.020474328, -0.02006193, 0.019782955, -0.005491559, -0.023822026, 0.02468321, -0.017733097, 0.06404292, -0.0078112953, -0.026587514, -0.040778846, 0.042234365, -0.020377293, -0.004578826, -0.021408286, 0.03922629, -0.021493193, 0.0034568622, 0.022233082, 0.012432574, 0.0025122897, -0.02925597, -0.00021719102, -0.016410999, -0.0098611545, 0.011450098, -0.049390677, 0.02850395, 0.004587923, 0.02760638, -0.006513456, 0.029353004, 0.008078141, -0.026805844, 0.038935184, -0.03090556, -0.0634122, 0.021056537, 0.0013319532, 0.007489868, 0.03680042, 0.020619879, -0.0065922965, -0.010928536, -0.017235793, 0.0062284167, 0.036679126, 0.008411698, -0.012280958, 0.013087559, -0.009800508, -0.027096948, -0.00616777, 0.024804503, 0.008066012, -0.021857072, -0.005888795, -0.020219611, 0.026538998, -0.009988512, -0.0010522204, -0.03328291, 0.019916378, 0.03847427, 0.02467108, 0.004369595, -0.036533576, -0.042404175, 0.008059947, 0.030662974, -0.02945004, 0.019892119, -0.006974371, -0.016119894, -0.009400239, 0.045533545, -0.031220924, 0.029692626, -0.0014721988, -0.007823424, -0.030760009, 0.0049912236, -0.025884014, 0.03187591, -0.004217978, 0.030614456, -0.03626673, -0.016520163, -0.019588886, -0.025180511, -0.021311251, -0.0067803017, -0.01820614, 0.0045757936, 0.001763303, 0.011237835, -0.015804531, -0.005212584, -0.013111818, 0.020001283, 0.048493106, -0.021638744, 0.021274865, 0.005139808, -0.0022545413, 0.005855439, 0.0005943377, 0.02429507, 0.011838237, 0.02649048, 0.008836225, 0.047644053, 0.008939324, 0.0046182466, 0.057153456, -0.022233082, 0.002686649, -0.006079832, 0.044078026, -0.0430349, 0.009133394, -0.0065983613, 0.0009839928, -0.043277487, 0.058997113, 0.017369216, -0.001637461, 0.021432545, 0.016617198, 0.020632008, -0.008526927, -0.003229437, 0.009527598, 0.010425168, -0.030493163, -0.024016095, 0.00854512, 0.0029459137, -0.04082736, 0.019030936, -0.004063329, -0.012711549, 0.0040178443, -0.019613145, -0.0011477389, 0.05725049, -0.011607779, 0.009485144, -0.006513456, 0.026927136, 0.024101, -0.048274778, -0.10935814, 0.040075343, 0.021578098, -0.017587544, 0.004785025, -0.030274834, 0.011474356, -0.016168412, -0.0024986442, 0.008878677, 0.016508033, -0.00048327842, -0.020850336, 0.009145523, 0.015355745, 0.034107707, 0.014737149, 0.0013440825, -0.01581666, 0.057299007, -0.0076475493, 0.0075747734, -0.06409144, -0.02537458, 0.011280287, -0.037746508, 0.040075343, -0.023300463, 0.042113073, 0.008338922, -0.004096685, -0.021796426, 0.03260367, 0.0076111616, 0.023251947, 0.016107764, 0.029280229, -0.017175147, -0.025520133, 0.032870512, 0.008672479, 0.033234395, -0.011729073, -0.020134706, 0.001955856, 0.00763542, 0.035053793, 0.01692043, 0.0049457387, 0.004484824, 0.007010759, -0.029886696, 0.0046030846, 0.020025542, 0.025811238, -0.015258711, -0.01930991, 0.014057906, -0.0082600815, -0.019770825, -0.03641228, -0.0058918274, 0.046989065, -0.0053793625, 0.032336824, -0.015173805, -0.06661434, 0.00021851766, 0.004387789, -0.0360484, -0.00296714, 0.013973, -0.009436627, -0.010952795, -0.031051112, -0.022560574, 0.03272496, -0.03701875, -0.010358457, 0.010018836, 0.025326064, 0.028261364, -0.0062284167, -0.02151745, -0.011316675, -0.045751873, -0.008502668, 0.01342718, -0.034714174, -0.02593253, -0.028067295, -0.0005913054, 0.010940665, 0.014336881, 0.0006705251, -0.01434901, -0.007853748, -0.013839578, -0.084565766, -0.0047274106, 0.027485086, 0.013160335, 0.02852821, 0.006398227, 0.0012599353, 0.012602385, 0.022172434, -0.025277546, 0.016811267, -0.0015616526, -0.015210194, 0.016653584, 0.0331131, 0.0110195065, -0.0007713503, -0.0036509316, -0.05851194, 0.0023197364, 0.0068045603, 0.020219611, 0.008120594, 0.025908273, 0.004014812, -0.0075323205, 0.0105222035, 0.023664344, 0.043350264, -0.019940637, 0.026927136, 0.004982127, 0.01638674, 0.026563257, -0.027339535, 0.01747838, 0.0040754587, 0.012760066, 0.0211657, -0.016726362, 0.014312622, 0.0180242, -0.02300936, 0.026999913, 0.0021196024, 0.019188616, -0.012832843, 0.007065341, 0.0135848615, 0.015586203, 0.018654926, -0.05686235, -0.010303875, -0.052010614, 0.005221681, -0.006152608, 0.0030459808, -0.017902907, 0.035417676, -0.00021775957, -0.012020177, 0.016107764, 0.005873633, -0.046503894, -0.013839578, 0.023858413, -0.043374524, 0.034641396, -0.018970288, 0.054727584, 0.01858215, 0.04825052, -0.00975199, 0.04929364, 0.0123173455, -0.023433886, -0.04674648, 0.0072776047, 0.02060775, -0.003835904, 0.022026883, 0.0019027904, 0.0091152, 0.06753617, 0.005294457, 0.02206327, -0.02262122, 0.013524215, -0.0032627927, -0.0064103566, 0.020692656, -0.0150889, 0.012481092, 0.008593638, 0.019491851, -0.011146864, -0.038571306, 0.02964411, -0.008114529, 0.00017227455, 0.0010188647, 0.02026813, -0.013730414, 0.0007861329, -0.007119923, 0.05826935, -0.02629641, -0.02356731, -0.019734437, -0.008314664, -0.04946345, 0.0067257197, 0.008551185, 0.0054763975, -0.03532064, 0.0031718225, -0.0008278275, -0.0034507974, -0.032991808, -0.012832843, 0.008035689, -0.03274922, -0.0149918655, -0.0027260694, -0.025884014, 0.011359127, -0.0005655305, 0.002786716, 0.01654442, -0.009509403, 0.010849696, 0.011771525, -0.028358398, 0.012808584, -0.05598904, 0.017405605, -0.0078476835, 0.025253288, 0.0045545674, 0.010619238, 0.0056492407, 0.035563227, 0.0043938537, 0.028964866, 0.008059947, 0.014033647, 0.0026942298, 0.008666414, -0.023809897, 0.0049881916, -0.006719655, 0.02317917, 0.024889408, 0.014700761, -0.05463055, 0.03532064, -0.0006917515, -0.008072076, 0.038401492, 0.024210164, 0.0006034347, 0.044272095, -0.0014721988, -0.046770737, -0.0082054995, 0.007896201, -0.03219127, 0.004333207, 0.028479692, -0.0072048283, -0.0064891973, 0.0096125025, -0.003890486, -0.017757354, -0.010782984, -0.016241187, 0.03937184, 0.022839548, 0.010000641, 0.014846313, -0.0030186898, -0.015052512, -2.992062e-05, 0.037625216, 0.02302149, 0.003384086, 0.0055855615, 0.0032173076, -0.0013365018, -0.01233554, -0.029304488, -0.0049518035, -0.0014759891, 0.035684522, 0.0076475493, 0.011807913, -0.005906989, 0.0017405604, 0.021189958, 0.008769513, -0.057881214, 0.012590256, 0.03277348, 0.00086421554, 0.032652184, -0.0077385195, -0.0035053794, -0.026660291, -0.027218241, 0.015003995, 0.025350323, 0.0012508383, -0.015161676, 0.013572732, 0.0007520191, -0.0054763975, -0.024064612, -0.00423314, -0.0010347844, 0.042792313, -0.01695682, 0.0024410298, -0.011638102, 0.042816572, -0.025908273, -0.020462198, -0.01490696, 0.009745926, -0.0027851998, -0.007653614, -0.010928536, 0.042210106, -0.03056594, -0.0112135755, -0.021323381, -0.03733411, 0.0021999592, 0.013487827, 0.0042028166, -0.022136047, -0.055649415, 0.009072747, -0.022123918, 0.010740532, 0.011371257, -0.024804503, -0.0060282825, -0.024561916, -0.017441992, -0.018970288, 0.010073418, 0.032288305, -0.011340934, -0.0065741027, -0.020632008, 0.020474328, -0.031754613, -0.016047118, 0.024367847, -0.009849025, 0.057638627, -0.004463597, 0.016083507, -0.042379916, 0.039323322, -0.024489138, -0.0037782898, 0.010795114, 0.006380033, -0.00023936496, 0.008921131, 0.0006568796, -0.005691693, 0.0022211855, 0.005430912, 0.0013001137, 0.012280958, -0.02578698, -0.037600957, 0.01399726, -0.00772639, 0.022512056, -0.0020149867, 0.011644167, 0.019952767, 0.042476952, -0.012092953, -0.03680042, 0.011365192, -0.0290619, 0.04587317, 0.0128692305, 0.0062829987, -0.025156252, 0.0033446657, -0.024610432, 0.017199405, 0.024404233, 0.032288305, 0.04859014, 0.03592711, 0.015937954, -0.017260052, 0.0017314634, 0.024707468, 0.028576728, -0.017526897, 0.009533662, -0.023118524, -0.009849025, -0.005800857, -0.005218649, -0.031778872, -0.003781322, -0.0011810946, 0.008211563, -0.009509403, 0.00076869695, 0.006665073, -0.012171794, 0.0110740885, -0.022317987, 0.020935243, -0.021056537, -0.023591569, 0.04046348, 0.004190687, -0.0036600286, 0.02537458, -0.0012690322, 0.018509375, 0.0036842872, -0.03992979, 0.00745348, 0.045169666, 0.013754672, -0.028115813, -0.01729644, -0.0051489053, -0.02189346, 0.0009369916, 0.0024592238, 0.003202146, 0.03015354, -0.0067257197, -0.00014024551, 0.008581509, 0.030274834, -0.0018194012, -0.00010319416, 0.124980725, -0.0034538298, -0.012086888, -0.0061313817, 0.0077021313, 0.02522903, -0.015477039, 0.0025213868, -0.03202146, -0.029328747, 0.005573432, -0.005979765, 0.0041997842, -0.014870572, -0.001393358, -0.036921714, -0.010061288, -0.019479722, 0.0018664023, -0.041870486, 0.029716885, 0.02357944, -0.021796426, 0.017223664, 0.04711036, -0.014931219, -0.0014782634, -0.03612118, -0.014955477, -0.001999825, 0.007641485, 0.0070046945, -0.031245181, 0.050991748, -0.008266145, -0.023712862, -0.006883401, -0.018897513, 0.023264077, -0.019237135, 0.014312622, 0.028867831, -0.015149547, -0.011474356, 0.019795084, -0.024040354, 0.024937924, -0.0003462548, 0.0044484357, -0.008120594, -0.02833414, 0.009697408, 0.03401067, -0.022863807, -0.0107162725, -0.03701875, -0.020595621, -0.0082600815, 0.030662974, 0.020644138, -0.0074656093, 0.006161705, 0.021481063, 0.056037556, -0.0146886315, -0.0071138586, -0.016520163, -0.0067803017, -0.012529609, 0.017902907, 0.013208852, 0.0048153484, 0.042379916, -0.0065741027, -0.028673762, 0.035417676, 0.049827334, -0.030420387, 0.037261333, -0.05026399, 0.011340934, 0.02593253, -0.0005753856, -0.012117212, -0.0069258534, -0.017902907, -0.026247894, 0.0149918655, -0.02060775, -0.0032264048, -0.019746566, 0.028746538, 0.008526927, -0.015161676, -0.011080153, 0.0005545383, 0.026902879, 0.008969648, 0.004866898, 0.0021696358, -0.0064285505, -0.0017602706, -0.028285623, 0.021663003, -0.04342304, -0.020001283, -0.017029595, 0.018800478, 0.024574045, -0.008417763, -0.00024277634, 0.0006041928, 0.0016298802, -0.018946031, 0.009509403, 0.010922471, 0.013293757, -0.0023925125, -0.03090556, -0.047571275, -0.005185293, 0.045315217, 0.0049699973, -0.01929778, 0.005349039, 0.010273552, 0.0062284167, 0.0051549696, 0.0017921102, 0.023809897, -0.0052792956, 0.051816545, 0.037043005, 0.0053854273, 0.015113159, 0.051476922, 0.0001505744, -0.0024031256, 0.022839548, -0.03847427, -0.011953466, -0.004108814, 0.034374554, 0.03090556, -0.007641485, 0.03146351, -0.030396128, 0.017320698, 0.009242558, 0.022099659, 0.004402951, 0.018630667, -0.02078969, -0.004818381, 0.039784238, -0.00046697963, -0.030857043, -0.0033749891, 0.010952795, 0.030784268, -0.011450098, -0.013730414, -0.029134676, -0.028552469, 0.019989153, -0.030517422, -0.0043028835, 0.02814007, 0.010922471, -0.03629099, -0.017211534, -0.017854389, 0.009939995, -0.0034265388, -0.019661661, -0.002885267, -0.03425326, 0.014142811, -0.008308599, -0.01527084, 0.008872612, -0.01840021, -0.03529638, 0.020365164, 0.027096948, 0.012008048, 0.027897485, -0.00827221, -0.015380004, 0.014482433, 0.023749249, -0.04504837, 0.021202087, 0.022754643, 0.028479692, 0.01251748, -0.0024834825, -0.004033006, 0.020680526, 0.03197294, -0.015537686, -0.012590256, -1.4391748e-06, 0.029231712, 0.052350234, 0.014312622, -0.002848879, 0.0067257197, 0.011638102, 0.0360484, 0.018169753, -0.008102399, 0.027218241, 0.03071149, -0.008235822, 0.009212234, 0.007780972, 0.042404175, -0.030468903, 0.0025941627, -0.026587514, -0.034107707, 0.008423828, -0.019516109, -0.028358398, 0.0052853604, 0.034617137, 0.024210164, 0.00097186345, -0.019455463, 0.0028973962, 0.025981048, 0.0038389363, -0.035781555, 0.020619879, 0.016738491, -0.06714803, -0.0073564453, -0.032336824, -0.0067621074, 0.0046728286, 0.011759396, -0.01324524, -0.0017875616, 0.012565997, -0.007119923, 0.013912354, 0.010770855, -0.025059218, -0.009187976, 0.023142783, 0.019431204, -0.036897454, -0.011729073, -0.011140799, -0.010140129, 0.009242558, -0.026902879, 0.009806572, 0.027679157, 0.015113159, 0.0025820334, -0.0017526897, -0.003966294, -0.0074110273, 0.0028337173, -0.0018118203, 0.016847655, 0.0025486778, -0.015258711, -0.016665714, 0.016520163, 0.016204799, -0.008587574, -0.030978337, -0.0064103566, 0.009436627, 0.014603727, -0.012808584, 0.017429862, -8.3957784e-05, -0.014870572, -0.011122606, -0.03197294, -0.016471645, -0.012287023, -0.004976062, -0.0014077616, -0.024513397, 0.0060009914, -0.005670467, 0.013342275, -0.007878006, 0.013499957, 0.013669767, 0.0051822606, -0.013402922, -0.03274922, 0.041336793, 0.007483803, -0.020450069, -0.0028625245, 0.024962183, -0.00029963264, 0.025447357, 0.015658978, 0.028309882, -0.0032809868, 0.03607266, -0.036145438, 0.03386512, -0.0002044931, -0.017563285, 0.004697087, 0.023458146, -0.0301778, 0.0022227017, -0.029522816, -0.010643496, 0.0039905533, -0.015671108, 0.0105222035, 0.031342216, -0.036873195, 0.014506692, -0.014518821, -0.0043180455, 0.014640114, 0.0075019975, -0.0099157365, 0.041312534, -0.015295099, -0.025568651, 0.014955477, 0.02945004, 0.031512026, -0.017441992, 8.0901755e-06, -0.0030975305, -0.015028253, -0.0133907925, 0.00801143, 0.019018807, -0.0052338107, 0.0044454033, 0.043714143, -0.0054157507, 0.020729043, -0.001763303, -0.023700733, -0.0035296383, -0.0030899495, -0.003572091, -0.013233111, -0.016993206, 0.016968949, -0.0041542994, -0.021990495, 0.0128692305, -0.005403621, 0.026369186, 0.016653584, 0.008278275, 0.012772196, 0.00020790448, 0.011801848, -0.025641426, 0.010061288, -0.009576115, 0.0031324022, -0.0006674928, 0.021565968, 0.025471617, -0.030274834, 0.007526256, 0.003002012, -0.025059218, 0.03476269, -0.037091523, -0.014130682, 0.038886666, -0.0042846897, 0.0019194682, 0.038692597, 0.0030065603, 0.004724378, -0.025107736, 0.027679157, 0.012262763]}], 'model': 'text-embedding-3-small', 'usage': {'prompt_tokens': 1, 'total_tokens': 1}, 'monthlyCost': 0.005601699999999996, 'cost': 2e-08, 'monthlyRequests': 24}\n",
            "{'object': 'list', 'data': [{'object': 'embedding', 'index': 0, 'embedding': [0.0052578603, -0.007101763, 0.013341821, 0.044516552, 0.038645275, 0.00016145557, -0.013977146, 0.033533465, -0.045451283, 0.029911384, 0.005999073, 0.0023660373, -0.028859813, -0.0074705435, 0.07016323, 0.034935564, -0.03470188, 0.008909153, 0.019673161, 0.038791325, 0.056755684, 0.006736634, 0.0045312536, 0.0076092924, 0.017219493, -0.0032715576, -0.0071711377, 0.015671344, 0.00137745, -0.010844338, 0.056930944, -0.02206841, -0.010092171, 0.010449998, 0.0025394736, 0.042793144, 0.038002647, 0.0061670323, -0.0051921373, 0.0054075634, 0.0043304325, -0.053133603, -0.07559635, 0.062393278, 0.021966172, -0.034351356, -0.022871694, 0.0058274623, 0.017570017, 0.057047788, -0.009047901, -0.008733891, -0.034322146, -0.025471414, -0.021936962, 0.00022033266, 0.0068206135, 0.021980777, 0.0058055543, 0.0075581744, 0.022930114, 0.014072079, 0.031868476, -0.035432138, -0.017190283, -0.062802225, -0.026260093, 0.029999016, -0.057690416, -0.013188466, 0.009924212, 0.055820953, -0.03557819, 0.0142984595, 0.018066593, -0.0046700025, -0.018329486, 0.024142344, 0.020082107, -0.0047795414, -0.024770366, 0.024098527, -0.0072843274, -0.019249612, 0.0059077903, -0.02902047, -0.0661322, -0.015277006, -0.041887622, -0.039258692, 0.0073792613, 0.027121797, -0.010252828, 0.023748003, 0.002846182, -0.020929206, 0.014422604, 0.0029411158, -0.0011939725, 0.042763934, 0.00016989918, -0.047525216, -0.0029210337, -0.013458663, 0.018125014, 0.061224863, -0.047320746, 0.0042720116, -0.031459533, 0.005926047, -0.10124303, -0.03998895, -0.03636687, 0.027632978, 0.02052026, -0.019687766, -0.025047863, -0.016474629, 0.029663097, 7.34252e-05, -0.03990132, -0.030816905, -0.01683976, -0.011151046, -0.030554011, 0.030086646, -0.02956086, 0.025807332, -0.019147376, -0.026596012, 0.028114948, -0.025018653, 0.021075258, -0.048138633, -0.028392447, 0.0043961555, 0.01732173, 0.03557819, -0.019293427, -0.0051191114, -0.002610674, 0.00912823, 0.048197053, 0.017949753, -0.046327595, -0.03587029, -0.009164743, 0.025880357, -0.022272881, 0.045538913, -0.03993053, 0.03037875, -0.022272881, -0.041946042, -0.036775813, -0.017599227, 0.01653305, -0.02735548, -0.025792727, -0.007353702, 0.001882241, 0.0155983195, 0.012545839, -0.02520852, -0.007886791, 0.01910356, -0.0067110746, 0.00032222652, -0.054331224, -0.05135177, -0.006616141, 0.0234559, 0.016430814, 0.03032033, -0.011085323, 0.043231297, 0.040427104, -0.008083961, -0.04767127, -0.02566128, 0.017496992, 0.04340656, -0.04168315, -0.0339132, 0.0014139628, -0.0024463655, -0.024186159, 0.028085738, 0.011392031, 0.009369215, -0.012662681, 0.024551287, 0.024040107, 0.04147868, 0.080912635, 0.009142836, -0.028407052, 0.024507472, -0.0081058685, -0.010384275, -0.038090277, -0.0014796861, 0.009047901, -0.0373016, 0.009814673, -0.0032313934, -0.010983086, -0.0058457186, -0.010895455, -0.06011487, 0.037097126, -0.0020155131, 0.0026873508, 0.012808733, 0.030232698, 0.04366945, -0.007116368, 0.042822354, -0.032598734, 0.031459533, 0.010800522, -0.000357142, 0.058858827, 0.009821976, -0.034322146, -0.00042218063, -0.0065869307, -0.052549396, 0.00032838807, -0.012516629, 0.009179348, -0.0033920503, 0.017146468, -0.03128427, 0.0013747114, 0.019541714, -0.00997533, 0.018928299, -0.038791325, -0.027253244, 0.020125922, 0.009960725, -0.040573157, 0.033621095, 0.0002143993, 0.06344485, 0.0022181598, 0.013239585, 0.0076092924, -0.027077982, 0.05044625, -0.023163797, 0.028815996, -0.044428922, 0.019088956, -0.027311664, 0.018986719, -0.035461348, 0.022331301, 0.031371903, -0.015364637, -0.06163381, -0.024346815, -0.028874418, -0.025763517, 0.0042172424, -0.01870922, 0.011231374, 0.0028772182, -0.023412084, 0.00021097621, 0.006992224, 0.0031109008, -0.012881759, -0.06379537, -0.032715578, -0.05041704, 0.059793558, -0.006973968, 0.05395149, 0.0049730595, -0.0155691095, 0.027092587, -0.016167922, 0.0070908093, 0.032686368, 0.01738015, 0.026581407, 0.059822768, -0.029035075, 0.0075800824, -0.019731581, -0.0014577784, 7.536495e-05, 0.04685338, -0.015087139, 0.0011565468, -0.048080213, 0.016883574, -0.009391123, 0.017935146, -0.021922357, 0.031634793, 0.019454084, -0.023105375, 0.021674069, 0.04106973, -0.027370086, 0.015671344, -0.010596049, 0.025047863, 0.036863443, 0.019030534, -0.011457754, -0.06928692, -0.02871376, 0.0050205267, 0.019278822, 0.0025559044, -0.054331224, -0.012940179, -0.021644859, 0.037856597, -0.056083847, -0.006064796, 0.010340459, -0.037593704, 0.011822884, 0.010661772, -0.0013993577, 0.039696846, 0.024069317, -0.014802338, 0.014415301, -0.030086646, 0.0004910988, 0.009946119, 0.026289303, -0.0043632938, -0.058479093, 0.0030250954, -0.03838238, -0.03376715, -0.018753035, 0.008317643, 0.0010095822, 0.015963448, 0.0045787203, 0.01689818, 0.07793318, 0.005235953, -0.0020337696, -0.02173249, 0.03651292, -0.016416209, -0.038002647, -0.011245979, -0.032219, 0.021893147, 0.022316696, -0.018563168, 0.00017263765, 0.016401604, 0.09820515, -0.019176586, 0.049774412, -0.01653305, -0.044867076, -0.020228159, 0.011815581, -0.0063495967, 0.004403458, 0.01819804, -0.007101763, -0.028509289, -0.0077188313, -0.003939744, 0.018986719, -0.054769382, -0.0048817773, 0.0016266506, 0.023645768, 0.00027681357, -0.06881955, 0.052637026, -0.042325776, -0.019074349, -0.008719285, -0.0057544364, -0.011691437, 0.036805023, 0.011326307, 0.0013381985, -0.04089447, 0.021323545, 0.022141434, -0.0047065155, 0.015890423, 0.03563661, 0.0034011786, 0.023967082, -0.015043323, -0.006849824, 0.030232698, -0.010493813, -0.019045139, -0.050884407, -0.0012094905, 0.0027914126, 0.00661249, 0.0017161072, -0.037097126, 0.037973437, 0.016766733, -0.029122705, -0.047262322, 0.03733081, -0.019249612, 0.016708313, -0.011654925, -0.03204374, -0.010566839, -0.04080684, -0.032394264, 0.05138098, 0.04790495, 0.03584108, -0.022930114, 0.046532065, -0.050154146, 0.019863028, 0.089208364, -0.01608029, 0.024098527, 0.008989481, -0.033328995, -0.011800976, 0.0038667182, -0.054272804, -0.003987211, 0.0069484087, 0.0037334461, 0.0019497899, -0.01786212, -0.021002231, 0.02868455, -0.026391538, -0.05395149, -0.006824265, -0.06735904, 0.031547163, -0.000101209254, -0.015466873, 0.011903212, -0.03744765, 0.015729766, -0.008850732, 0.050124936, 0.031196639, 0.015905028, 0.007101763, 0.027501531, 0.00035052403, 0.023076165, 0.022711037, -0.002526694, -0.012100382, 0.024244579, -0.025062468, -0.022418933, 0.04512997, -0.0039068824, 0.01822725, -0.017263308, -0.009895002, -0.0025412992, -0.01480964, -0.031430323, 0.004392504, -0.02127973, -0.010931969, 0.031751636, -0.0027768076, 0.019483294, -0.005024178, -0.0055901282, 0.03914185, 0.015919633, 0.026201671, -0.040368684, -0.023353664, -0.09569306, 0.061341707, -0.017029626, -0.0070835063, 0.016284762, -0.0169566, -0.035140034, 0.017117256, -0.033504255, -0.021644859, -0.0330661, -0.020783154, 0.018387906, -0.027852055, 0.0021597391, 0.005575523, 0.007328143, -0.010041053, 0.028640734, -0.017131861, -0.004699213, 0.011589201, -0.0028224487, -0.016883574, 0.0018785897, -0.010793219, 0.024522077, 0.010493813, -0.023718793, -0.004567766, 0.0029392901, -0.006035586, 0.03625003, 0.03461425, -0.020125922, 0.0077845547, 0.025164705, 0.0036184303, -0.02263801, 0.020929206, -0.023105375, 0.0061086114, -0.010844338, 0.019308032, -0.025164705, 0.01946869, -0.017964358, -0.012341367, -0.0018931949, -0.006594233, -0.013626622, -0.0009602898, -0.018183434, -0.034964774, -0.0023733398, 0.009821976, 0.0046627, 0.011618411, 0.04603549, -0.006787752, -0.05184835, 0.0008735716, -0.0035709636, 0.029195732, -0.020023685, -0.008507511, -0.034555826, 0.012684588, -0.006426274, -0.028640734, 5.231617e-05, -0.011041507, -0.031576373, -0.014196224, 0.035286088, -0.012034658, 0.0014796861, 0.007499754, -0.030933745, 0.0039689546, 0.032569524, 0.017336335, 0.023689583, 0.02130894, -0.0112240715, 0.022316696, 0.03823633, 0.008522116, -0.012881759, -0.030758483, -0.019395662, -0.039580006, -0.004242801, -0.05395149, -0.014342275, 0.049073365, 0.023412084, -0.00958099, -0.001129162, -0.0008580536, 0.004929244, 0.00997533, 0.016445419, -0.011472359, -0.0040054675, 0.007842976, -0.022170646, 0.015116349, 0.0025759866, -0.026376933, -0.0226088, 0.020344999, -0.07910159, 0.005130065, -0.027676793, -0.051527034, 0.0025668582, -0.06005645, -0.003614779, 0.00896027, 0.0041442164, -0.036892656, -0.04673654, -0.046590485, -0.027034165, -0.029633885, -0.006112263, 0.011472359, -0.017978963, -0.029195732, -0.02040342, 0.018504748, 0.008836127, -0.015758976, 0.00033249578, -0.01738015, -0.016941994, -0.007536267, -0.055032272, 0.024828786, 0.021528019, -0.011618411, -0.0077991597, -0.011399333, -0.014415301, 0.006123217, -0.006722029, 0.015758976, -0.043114457, 0.020140527, 0.0054586814, -0.008376064, 0.012107684, 0.061283287, -0.02701956, -0.038732905, 0.012655378, 0.0069338037, -0.013538991, -0.009405728, 0.013239585, -0.020476446, -0.014984903, 0.042267356, -0.035110824, -0.036658973, 0.03040796, 0.0056850617, -0.0064043663, -0.005075296, -0.01562753, -0.010187104, -0.035548978, -0.00683887, 0.028246395, 0.00081971503, 0.028567709, 0.038703695, -0.007857581, 0.008368761, 0.021046048, 0.021016836, -0.0020246415, 0.0074851485, -0.009727042, 0.01740936, 0.0044217147, -0.017672254, 0.016795943, 0.0143130645, 0.0042902683, -0.00802554, 0.026888115, -0.027881267, 0.008587839, 0.03995974, 0.022214461, 0.011121836, -0.004315827, -0.022711037, -0.036980286, 0.031371903, -0.019147376, -0.016795943, 0.010829732, 0.052198872, -0.024098527, 0.011822884, -0.09639411, 0.016372394, -0.007076204, -0.047496006, 0.012041961, -0.016474629, 0.0026344073, -0.0063568996, 0.026260093, 0.020023685, 0.0039981646, -0.020374209, 0.00805475, 0.014816943, 0.0105887465, 0.00014970297, 0.028991258, -0.027866662, 0.031664003, 0.025515229, -0.018314881, -0.030787695, -0.030612431, -0.05184835, 0.0032459986, -0.025047863, 0.04425366, 0.024522077, 0.012523931, -0.013816489, -0.049978886, -0.032627944, 0.031401113, 0.036717393, -0.018869877, 0.022594195, -0.009018691, -0.027428506, 0.012480116, 0.0071820915, -0.0389958, -0.0019078001, -0.035373718, 0.0008530331, 0.024244579, 0.033299785, -0.019994475, -0.024814181, 0.013918725, 0.0010187104, 0.0042574066, -0.016912784, 0.010479208, -0.006035586, -0.008755798, 0.02206841, -0.01608029, -0.032219, -0.05745673, -0.007842976, 0.024799576, 0.04512997, 0.048255477, 0.010566839, 0.0043085245, 0.017146468, -0.024025502, 0.031517953, -0.006411669, -0.0025778122, -0.011808278, 0.0061305193, 0.0068571265, -0.022813272, 0.0065577202, -0.02049105, 0.038090277, -0.025894962, -0.0112240715, 0.00014593758, -0.0073975176, 0.018753035, -0.04253025, -0.03040796, -0.020344999, -0.031722426, -0.01992145, 0.020242764, -0.026376933, -0.0020027338, -0.031459533, -0.001748056, 0.019293427, -0.015744371, -0.018928299, 0.0028899976, -0.019278822, -0.009464149, -0.04174157, 0.017511597, 0.0017918716, 0.014415301, 0.024463657, 0.032219, 0.00542582, -0.013853002, 0.0143276695, -0.056697264, -0.016985811, -0.019322637, -0.0055572665, 0.02255038, 0.035256878, -0.0013646703, 0.01873843, -0.0096102, -0.04685338, 0.00036809588, -0.0040602367, 0.015277006, 0.004925593, -0.021498807, 0.00958099, 0.030261908, -0.017759884, 0.018241854, 0.0384408, 0.009456846, -0.012122289, 0.0046919105, -0.017657649, 0.07723213, -0.040543947, -0.020286579, 0.013173861, -0.019673161, 0.009909607, -0.0194979, 0.00137745, -0.015861213, -0.007152881, -0.011603806, -0.0049548033, -0.021484202, -0.012684588, 0.054126754, -0.0067475876, 0.017789096, -0.023806425, -0.0118301865, 0.007386564, -0.037768964, 0.01562753, -0.0007384738, -0.009916909, 0.00048242696, -0.0030597828, -0.019045139, -0.0006946583, -0.0004714731, -0.005349143, 0.014539445, 0.013341821, -0.011311702, 0.02466813, -0.055353586, 0.0073829126, 0.040193424, 0.013188466, 0.00035212148, -0.0034176093, 0.047466796, -0.00033272398, 0.010282039, -0.015408453, -0.01234867, -0.0009297102, 0.030495591, -0.013495175, -0.014597866, -0.009288887, 0.055937793, 0.020228159, -0.0065102535, -0.013867607, 0.0111948615, -0.005674108, -0.022170646, 0.062393278, 0.0032113113, 0.003026921, 0.002285709, 0.006740285, 0.019366452, -0.010749403, -0.03365031, -0.02723864, 0.019424874, -0.0039689546, 0.009420333, 0.006937455, -0.038090277, -0.020666312, 0.022199856, -0.016854364, -0.0049840137, 0.020082107, -0.0040602367, 0.045422073, 0.041128155, -0.00027795462, 0.010194408, -0.015218585, 0.019731581, 0.0061159143, 0.048284687, -0.0037462257, -0.014232736, 0.029940594, 0.015072534, 0.0130716255, -0.022842484, 0.035899505, -0.030174278, 0.020534866, 0.053513337, 0.023689583, 0.0067987056, 0.0011172954, 0.02073934, -0.010807824, 0.025529834, -0.037885807, 0.011231374, 0.014970297, 0.022345908, 0.0009831104, 0.0020648057, 0.016094895, 0.050709143, -0.0067950543, -0.0038703696, 0.027180217, 0.005560918, -0.006429925, 0.0156129245, -0.006685516, 0.0036111278, -0.009084415, -0.012282946, 0.01127519, 0.025325362, -0.01910356, -0.0035873945, 0.011662227, 0.014816943, 0.017628439, 0.05643437, -0.0010342285, -0.01740936, -0.019600136, -0.04507155, 0.016313972, 0.014561352, -0.02330985, 0.00017742997, 0.03563661, 0.006791403, -0.003538102, -0.012093079, 0.03995974, 0.026303908, -0.029166522, 0.024113132, -0.028071133, 0.018811457, -0.022681827, 0.035432138, -0.011114533, 0.02052026, -0.02209762, 0.015642134, 0.06741746, -0.010413485, 0.020447236, -0.028962048, 0.0015098093, 0.030816905, -0.0077188313, -0.039229482, 0.016912784, 0.029283362, 0.0029173824, -0.047233112, -0.031138219, 0.015306216, 0.030729273, -0.020198947, -0.0796858, 0.009734345, 0.01322498, -0.037856597, 0.018329486, 0.002387945, -0.00244454, -6.469633e-05, -0.021586439, -0.013517083, -0.010413485, -0.008865337, 0.029633885, 0.032715578, -0.013195769, 0.011779068, -5.466241e-06, 0.012721102, -0.0015207632, 0.021878542, -0.02212683, -0.020096712, -0.014911877, -0.0015308042, 0.011392031, -0.02590957, 0.0029283362, 0.021352755, -0.013867607, -0.0056083845, 0.0049949675, 0.012983995, -0.0086535625, -0.009040599, 0.011267887, -0.03131348, -0.010895455, 0.004063888, 0.010983086, -0.016430814, -0.033299785, -0.016153315, 0.031109009, 0.021513412, 0.023543531, -0.01520398, 0.02961928, 0.011808278, -0.0013947935, 0.007364656, 0.0025029606, 0.01811041, 0.013414847, -0.048167843, -0.03563661, -0.042179726, 0.006649003, -0.0081204735, 0.023733398, 0.0029155568, 0.006090355, 0.013400242, -0.01813962, -0.013597411, 0.0075435694, -0.002300314, 0.0011611108, 0.011596504, 0.022667222, 0.025354572, -0.03034954, 0.02720943, -0.0012423521, -0.00095481286, -0.026435355, -0.018533958, -0.004516648, -0.040573157, 0.022711037, 0.003512543, -0.020958416, -0.016693708, -0.005714272, 0.0018146922, -0.053279653, -0.01689818, 0.04142026, -0.003954349, -0.010720193, -0.044370502, -0.057982516, 0.015948843, 0.009697831, -0.009135532, 0.005710621, 0.011837489, -0.017613832, 0.049569942, 0.01868001, -0.0014404347, 0.030203488, 0.004480135, -0.019337242, 0.010683681, 0.035052404, 0.013327216, -0.011311702, -0.0046627, -0.04878126, -0.01997987, -0.015335427, 0.0068826857, 0.036074765, 0.01107802, 0.009507964, -0.004534905, 0.019541714, 0.005560918, -0.022652615, -0.0031547162, -0.014911877, 0.0005239604, -0.031488743, 0.0030415263, -0.0161095, -0.00641532, -0.021674069, -0.04930705, 0.009223164, 0.05441886, -0.015145559, -0.022842484, -0.03736002, 0.031868476, 0.025807332, -0.006813311, -0.0086535625, -0.015700556, -0.017058836, 0.010486511, -0.0077407393, -0.011355518, 0.038090277, -0.027910477, -0.011114533, -0.0010807824, -0.0008534895, -0.02333906, -0.022827879, -0.013210375, 0.14616852, 0.0009465974, -0.026406145, -0.005564569, -0.006112263, 0.016810548, -0.009537174, -0.008792311, 0.00095390005, -0.011567293, 0.0024262837, -0.011457754, 0.007762647, -0.009829278, -0.051030457, 0.007835672, -0.018606985, -0.0059844675, 0.021542624, -0.040456317, 0.059296984, -0.014115895, -0.021980777, -0.025894962, 0.02783745, -0.00012482854, -0.036921866, -0.04142026, 0.014145105, 0.007039691, 0.0137361605, -0.025705095, -0.020344999, 0.030145068, 0.0018457281, 0.0013610191, -0.017935146, -0.034292936, 0.007441333, 0.028538499, 0.03569503, -0.019643951, 0.0113044, -0.002429935, 0.020870784, -0.017088046, -0.016693708, -0.025471414, -0.0086973775, 0.040748417, -0.013685043, 0.007587385, 0.029999016, -0.011633016, -0.00017651715, -0.07220795, -0.02560286, -0.008434485, 0.01285985, -0.018460933, -0.027925082, 0.026683642, 0.024916416, 0.026581407, -0.024770366, -0.021980777, -0.0010670901, -0.0038156002, 0.024259184, 0.017774489, 0.009946119, -7.525085e-05, 0.0027110844, -0.018460933, -0.016313972, -0.0012359624, 0.035928715, -0.004772239, -0.032540314, -0.007835672, 0.04171236, 0.041799992, 0.028129553, 0.00553901, 0.00890185, -0.0113044, -0.03911264, -0.010325854, 0.014167013, 0.022857089, -0.02732627, 0.014970297, 0.02560286, 0.04866442, 0.0039068824, 0.0049219416, 0.011742556, -0.036688183, 0.0018073895, 0.007996329, -0.0025394736, 0.003826554, -0.0131154405, 0.019395662, -0.028480077, -0.004538556, -0.0099534225, -0.00013384267, -0.014459116, 0.03622082, -0.031138219, 0.008828824, -0.010983086, -0.036133185, 0.027399296, -0.0011465057, -0.011370123, -0.042939194, -0.0063203867, -0.029400203, -0.010325854, -0.0045969766, -0.021075258, -0.038090277, -0.018081198, 0.0033847478, 0.025471414, 0.022258276, -0.018972114, 0.0039945133, 0.0068753827, -0.004567766, -0.0017781792, -0.024259184, 0.020929206, 0.010362367, -0.03890817, 0.03902501, -0.008164289, -0.01218071, 0.009033296, -0.03587029, 0.02913731, 0.020549472, 0.0049840137, 0.017146468, -0.002610674, -0.025398387, -0.002455494, 0.036191605, -0.018417116, 0.0251501, -0.024113132, -0.018811457, 0.051118087, -0.0048343106, -0.016474629, 0.0477589, 0.0100118425, 0.024711944, 0.0071419273, 0.022375118, -0.022462748, 0.0040967497, 0.008441787, 0.023981687, -0.0033737938, 0.01280143, 0.016211737, 0.03134269, -0.001062526, -0.036688183, 0.035373718, 0.020899996, 0.012005448, 0.021469597, 0.0010561362, 0.025106285, -0.02831942, -0.014225434, 0.016270157, 0.028523894, 0.0007434943, -0.030875325, -0.0053381887, 0.03820712, -0.004611582, -0.012012751, 0.017000416, -0.038616065, -0.0040164213, -0.005641246, 0.034030043, 0.016854364, -0.043815505, 0.034322146, 0.009135532, -0.00661249, 0.039229482, 0.03043717, -0.031225849, -0.014984903, -0.023689583, -0.00075307896, -0.005816508, -0.016985811, 0.018183434, 0.018460933, -0.007203999, 0.02382103, -0.010041053, 0.02387945, 0.04431208, 0.013414847, 0.0053053275, -0.0048343106, -0.00039091645, 0.04340656, -0.016065685, 0.0063715046, -0.045947857, -0.035987135, -0.012896364, -0.0528415, -0.011852094, 0.019088956, 0.023777213, 0.026566802, 0.0056814104, 0.0013345472, 0.016971204, -0.010303946, 0.049102575, -0.020637102, -0.03040796, 0.031459533, -0.03213137, 0.0025285198, -0.022258276, 0.019863028, -0.0060319346, 0.0057946006, -0.035315298, 0.021936962, -0.0072587687, 0.014020962, 0.011114533, 0.015978053, -0.009281584, 0.024595102, -0.018475538, 0.0073573533, -0.021688676, 0.007762647, 0.002068457, -0.03365031, -0.027486926, -0.0043048733, 0.033387415, -0.004786844, -0.015685951, -0.0044910894, 0.0065723257, 0.011099928, 0.007463241, 0.037593704, -0.014407998, 0.020564077, -0.022959324, 0.033504255, -0.004279314, 0.011399333, 0.04349419, 0.013714253, -0.039550796, 0.031926896, 0.021893147, 0.024156949, 0.0018183434, -0.005487892, -0.017657649, -0.0016010916, 0.0033025937, -0.017496992, -0.005739831, 0.031459533, -0.031109009, 0.018358696, 0.008032843, -0.021265125, 0.009391123, 0.037126336, 0.0070068296, 0.023499716, 0.0064335763, 0.005966211, -0.03651292, -0.012472814, -0.020111317, -0.013765371, 0.028392447, -0.03484793, 0.019673161, -0.0060940064, 0.03648371, 0.013327216, 0.042004462, 0.013685043, 0.0045202994, 0.004151519, 0.026698247, 0.023704188, -0.022477353, 0.024098527, 0.037827384, -0.0043961555, 0.010128684, 0.0068717315, -0.0015025067, 0.0033354552, 0.026683642, -0.009047901, 0.0020045594, -0.0019351848, 0.026376933, -0.010143289, -0.0130424155, 0.019804608, 0.027632978, 0.005462333, -0.0026033712, 0.0046590487, 0.013502478, 0.0039689546, 0.016489236, 0.019337242, -0.0011045159, -0.011640319, 0.011640319, -0.009296189, 0.0063861096, -0.04168315, 0.015861213, -0.005637595, -0.013305308, 0.019804608, 0.016825154, -0.00760199, 0.0030816905, -0.010756706, -0.02441984, -0.040456317, -0.034322146, 0.005491543, 0.0031218547, -0.03367952, 0.027852055, -0.037944227, 0.0014504758, -0.019249612, -0.011603806, -0.016313972, 0.00047786284, 0.017745279, 0.02602641, 0.009559083, 0.0058311136, -0.020534866, -0.00069967884, 0.034409776, -0.015189375, 0.029604675, -0.0018037383, 0.0034559479, -0.0027475972, -0.0130716255, -0.00022341343, -0.002119575, -0.04358182, 0.0027786333, 0.021966172, -0.06005645, -0.019278822, 0.023543531, 0.005403912, -0.010114079, -0.027691398, 0.008843429, 0.0005586477]}], 'model': 'text-embedding-3-small', 'usage': {'prompt_tokens': 1, 'total_tokens': 1}, 'monthlyCost': 0.005601719999999996, 'cost': 2e-08, 'monthlyRequests': 25}\n",
            "Cosine Similarity between 'Animation' and 'Knowledge': 0.2636343619468121\n",
            "Cosine Similarity between 'Ambitious' and 'Knowledge': 0.23145872474646756\n",
            "Cosine Similarity between 'Solution' and 'Knowledge': 0.28675470497926103\n",
            "Cosine Similarity between 'Marketing' and 'Knowledge': 0.3474209761210487\n"
          ]
        }
      ]
    },
    {
      "cell_type": "code",
      "source": [
        "def calculate_average(numbers):\n",
        "    if not numbers:  # Check if the list is empty\n",
        "        return 0\n",
        "    return sum(numbers) / len(numbers)"
      ],
      "metadata": {
        "id": "xLfWODe-3Jdo"
      },
      "execution_count": null,
      "outputs": []
    },
    {
      "cell_type": "code",
      "source": [
        "# [\"Champion\", \"Decision\", \"Research\", \"Elevation\", \"Knowledge\"]\n",
        "calculate_average(similarities)"
      ],
      "metadata": {
        "colab": {
          "base_uri": "https://localhost:8080/"
        },
        "id": "3IsrsEhw3TWh",
        "outputId": "02bbc5a3-9881-47a7-e97e-9ba236f81eff"
      },
      "execution_count": null,
      "outputs": [
        {
          "output_type": "execute_result",
          "data": {
            "text/plain": [
              "0.3353343924533476"
            ]
          },
          "metadata": {},
          "execution_count": 38
        }
      ]
    },
    {
      "cell_type": "code",
      "source": [
        "# [\"Medicine\", \"Optimistic\", \"Essential\", \"Marketing\", \"Knowledge\"]\n",
        "calculate_average(similarities)"
      ],
      "metadata": {
        "colab": {
          "base_uri": "https://localhost:8080/"
        },
        "id": "Mc0Kj8nI3qEy",
        "outputId": "ab2e449b-dce4-4ef4-f312-fc698628fb69"
      },
      "execution_count": null,
      "outputs": [
        {
          "output_type": "execute_result",
          "data": {
            "text/plain": [
              "0.3150468195503062"
            ]
          },
          "metadata": {},
          "execution_count": 40
        }
      ]
    },
    {
      "cell_type": "code",
      "source": [
        "# [\"Marketing\", \"Discovery\", \"Medicine\", \"Economic\", \"Knowledge\"]\n",
        "calculate_average(similarities)"
      ],
      "metadata": {
        "colab": {
          "base_uri": "https://localhost:8080/"
        },
        "id": "pjqnze5Y36IC",
        "outputId": "e874621f-282c-4c3e-a702-4ef902c5f614"
      },
      "execution_count": null,
      "outputs": [
        {
          "output_type": "execute_result",
          "data": {
            "text/plain": [
              "0.3424929241678662"
            ]
          },
          "metadata": {},
          "execution_count": 42
        }
      ]
    },
    {
      "cell_type": "code",
      "source": [
        "#  [\"Animation\", \"Ambitious\", \"Solution\", \"Marketing\", \"Knowledge\"]\n",
        "calculate_average(similarities)"
      ],
      "metadata": {
        "colab": {
          "base_uri": "https://localhost:8080/"
        },
        "id": "QeF1IBDx4OTh",
        "outputId": "ae2573be-9836-4363-ef3e-716649f5bfb2"
      },
      "execution_count": null,
      "outputs": [
        {
          "output_type": "execute_result",
          "data": {
            "text/plain": [
              "0.28231719194839733"
            ]
          },
          "metadata": {},
          "execution_count": 44
        }
      ]
    }
  ]
}